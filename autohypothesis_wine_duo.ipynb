{
 "cells": [
  {
   "cell_type": "code",
   "execution_count": 1,
   "metadata": {},
   "outputs": [],
   "source": [
    "from sklearn import datasets\n",
    "import warnings\n",
    "import optuna\n",
    "import pandas as pd\n",
    "import numpy as np\n",
    "from sklearn.model_selection import train_test_split\n",
    "warnings.filterwarnings('ignore')\n",
    "from sklearn.metrics import accuracy_score\n",
    "from autocluster.autohypothesis import autohypothesis_utils"
   ]
  },
  {
   "cell_type": "code",
   "execution_count": 2,
   "metadata": {},
   "outputs": [],
   "source": [
    "from anchor import anchor_tabular"
   ]
  },
  {
   "cell_type": "code",
   "execution_count": 3,
   "metadata": {},
   "outputs": [],
   "source": [
    "sk_wine = datasets.load_wine()\n",
    "wine = pd.DataFrame(sk_wine['data'], columns=sk_wine['feature_names']).rename(columns={\"od280/od315_of_diluted_wines\":\"od280_od315_of_diluted_wines\"})\n",
    "wine['target'] = sk_wine['target']"
   ]
  },
  {
   "cell_type": "code",
   "execution_count": 4,
   "metadata": {},
   "outputs": [
    {
     "data": {
      "text/html": [
       "<div>\n",
       "<style scoped>\n",
       "    .dataframe tbody tr th:only-of-type {\n",
       "        vertical-align: middle;\n",
       "    }\n",
       "\n",
       "    .dataframe tbody tr th {\n",
       "        vertical-align: top;\n",
       "    }\n",
       "\n",
       "    .dataframe thead th {\n",
       "        text-align: right;\n",
       "    }\n",
       "</style>\n",
       "<table border=\"1\" class=\"dataframe\">\n",
       "  <thead>\n",
       "    <tr style=\"text-align: right;\">\n",
       "      <th></th>\n",
       "      <th>alcohol</th>\n",
       "      <th>malic_acid</th>\n",
       "      <th>ash</th>\n",
       "      <th>alcalinity_of_ash</th>\n",
       "      <th>magnesium</th>\n",
       "      <th>total_phenols</th>\n",
       "      <th>flavanoids</th>\n",
       "      <th>nonflavanoid_phenols</th>\n",
       "      <th>proanthocyanins</th>\n",
       "      <th>color_intensity</th>\n",
       "      <th>hue</th>\n",
       "      <th>od280_od315_of_diluted_wines</th>\n",
       "      <th>proline</th>\n",
       "      <th>target</th>\n",
       "    </tr>\n",
       "  </thead>\n",
       "  <tbody>\n",
       "    <tr>\n",
       "      <th>0</th>\n",
       "      <td>14.23</td>\n",
       "      <td>1.71</td>\n",
       "      <td>2.43</td>\n",
       "      <td>15.6</td>\n",
       "      <td>127.0</td>\n",
       "      <td>2.80</td>\n",
       "      <td>3.06</td>\n",
       "      <td>0.28</td>\n",
       "      <td>2.29</td>\n",
       "      <td>5.64</td>\n",
       "      <td>1.04</td>\n",
       "      <td>3.92</td>\n",
       "      <td>1065.0</td>\n",
       "      <td>0</td>\n",
       "    </tr>\n",
       "    <tr>\n",
       "      <th>1</th>\n",
       "      <td>13.20</td>\n",
       "      <td>1.78</td>\n",
       "      <td>2.14</td>\n",
       "      <td>11.2</td>\n",
       "      <td>100.0</td>\n",
       "      <td>2.65</td>\n",
       "      <td>2.76</td>\n",
       "      <td>0.26</td>\n",
       "      <td>1.28</td>\n",
       "      <td>4.38</td>\n",
       "      <td>1.05</td>\n",
       "      <td>3.40</td>\n",
       "      <td>1050.0</td>\n",
       "      <td>0</td>\n",
       "    </tr>\n",
       "    <tr>\n",
       "      <th>2</th>\n",
       "      <td>13.16</td>\n",
       "      <td>2.36</td>\n",
       "      <td>2.67</td>\n",
       "      <td>18.6</td>\n",
       "      <td>101.0</td>\n",
       "      <td>2.80</td>\n",
       "      <td>3.24</td>\n",
       "      <td>0.30</td>\n",
       "      <td>2.81</td>\n",
       "      <td>5.68</td>\n",
       "      <td>1.03</td>\n",
       "      <td>3.17</td>\n",
       "      <td>1185.0</td>\n",
       "      <td>0</td>\n",
       "    </tr>\n",
       "    <tr>\n",
       "      <th>3</th>\n",
       "      <td>14.37</td>\n",
       "      <td>1.95</td>\n",
       "      <td>2.50</td>\n",
       "      <td>16.8</td>\n",
       "      <td>113.0</td>\n",
       "      <td>3.85</td>\n",
       "      <td>3.49</td>\n",
       "      <td>0.24</td>\n",
       "      <td>2.18</td>\n",
       "      <td>7.80</td>\n",
       "      <td>0.86</td>\n",
       "      <td>3.45</td>\n",
       "      <td>1480.0</td>\n",
       "      <td>0</td>\n",
       "    </tr>\n",
       "    <tr>\n",
       "      <th>4</th>\n",
       "      <td>13.24</td>\n",
       "      <td>2.59</td>\n",
       "      <td>2.87</td>\n",
       "      <td>21.0</td>\n",
       "      <td>118.0</td>\n",
       "      <td>2.80</td>\n",
       "      <td>2.69</td>\n",
       "      <td>0.39</td>\n",
       "      <td>1.82</td>\n",
       "      <td>4.32</td>\n",
       "      <td>1.04</td>\n",
       "      <td>2.93</td>\n",
       "      <td>735.0</td>\n",
       "      <td>0</td>\n",
       "    </tr>\n",
       "    <tr>\n",
       "      <th>...</th>\n",
       "      <td>...</td>\n",
       "      <td>...</td>\n",
       "      <td>...</td>\n",
       "      <td>...</td>\n",
       "      <td>...</td>\n",
       "      <td>...</td>\n",
       "      <td>...</td>\n",
       "      <td>...</td>\n",
       "      <td>...</td>\n",
       "      <td>...</td>\n",
       "      <td>...</td>\n",
       "      <td>...</td>\n",
       "      <td>...</td>\n",
       "      <td>...</td>\n",
       "    </tr>\n",
       "    <tr>\n",
       "      <th>173</th>\n",
       "      <td>13.71</td>\n",
       "      <td>5.65</td>\n",
       "      <td>2.45</td>\n",
       "      <td>20.5</td>\n",
       "      <td>95.0</td>\n",
       "      <td>1.68</td>\n",
       "      <td>0.61</td>\n",
       "      <td>0.52</td>\n",
       "      <td>1.06</td>\n",
       "      <td>7.70</td>\n",
       "      <td>0.64</td>\n",
       "      <td>1.74</td>\n",
       "      <td>740.0</td>\n",
       "      <td>2</td>\n",
       "    </tr>\n",
       "    <tr>\n",
       "      <th>174</th>\n",
       "      <td>13.40</td>\n",
       "      <td>3.91</td>\n",
       "      <td>2.48</td>\n",
       "      <td>23.0</td>\n",
       "      <td>102.0</td>\n",
       "      <td>1.80</td>\n",
       "      <td>0.75</td>\n",
       "      <td>0.43</td>\n",
       "      <td>1.41</td>\n",
       "      <td>7.30</td>\n",
       "      <td>0.70</td>\n",
       "      <td>1.56</td>\n",
       "      <td>750.0</td>\n",
       "      <td>2</td>\n",
       "    </tr>\n",
       "    <tr>\n",
       "      <th>175</th>\n",
       "      <td>13.27</td>\n",
       "      <td>4.28</td>\n",
       "      <td>2.26</td>\n",
       "      <td>20.0</td>\n",
       "      <td>120.0</td>\n",
       "      <td>1.59</td>\n",
       "      <td>0.69</td>\n",
       "      <td>0.43</td>\n",
       "      <td>1.35</td>\n",
       "      <td>10.20</td>\n",
       "      <td>0.59</td>\n",
       "      <td>1.56</td>\n",
       "      <td>835.0</td>\n",
       "      <td>2</td>\n",
       "    </tr>\n",
       "    <tr>\n",
       "      <th>176</th>\n",
       "      <td>13.17</td>\n",
       "      <td>2.59</td>\n",
       "      <td>2.37</td>\n",
       "      <td>20.0</td>\n",
       "      <td>120.0</td>\n",
       "      <td>1.65</td>\n",
       "      <td>0.68</td>\n",
       "      <td>0.53</td>\n",
       "      <td>1.46</td>\n",
       "      <td>9.30</td>\n",
       "      <td>0.60</td>\n",
       "      <td>1.62</td>\n",
       "      <td>840.0</td>\n",
       "      <td>2</td>\n",
       "    </tr>\n",
       "    <tr>\n",
       "      <th>177</th>\n",
       "      <td>14.13</td>\n",
       "      <td>4.10</td>\n",
       "      <td>2.74</td>\n",
       "      <td>24.5</td>\n",
       "      <td>96.0</td>\n",
       "      <td>2.05</td>\n",
       "      <td>0.76</td>\n",
       "      <td>0.56</td>\n",
       "      <td>1.35</td>\n",
       "      <td>9.20</td>\n",
       "      <td>0.61</td>\n",
       "      <td>1.60</td>\n",
       "      <td>560.0</td>\n",
       "      <td>2</td>\n",
       "    </tr>\n",
       "  </tbody>\n",
       "</table>\n",
       "<p>178 rows × 14 columns</p>\n",
       "</div>"
      ],
      "text/plain": [
       "     alcohol  malic_acid   ash  alcalinity_of_ash  magnesium  total_phenols  \\\n",
       "0      14.23        1.71  2.43               15.6      127.0           2.80   \n",
       "1      13.20        1.78  2.14               11.2      100.0           2.65   \n",
       "2      13.16        2.36  2.67               18.6      101.0           2.80   \n",
       "3      14.37        1.95  2.50               16.8      113.0           3.85   \n",
       "4      13.24        2.59  2.87               21.0      118.0           2.80   \n",
       "..       ...         ...   ...                ...        ...            ...   \n",
       "173    13.71        5.65  2.45               20.5       95.0           1.68   \n",
       "174    13.40        3.91  2.48               23.0      102.0           1.80   \n",
       "175    13.27        4.28  2.26               20.0      120.0           1.59   \n",
       "176    13.17        2.59  2.37               20.0      120.0           1.65   \n",
       "177    14.13        4.10  2.74               24.5       96.0           2.05   \n",
       "\n",
       "     flavanoids  nonflavanoid_phenols  proanthocyanins  color_intensity   hue  \\\n",
       "0          3.06                  0.28             2.29             5.64  1.04   \n",
       "1          2.76                  0.26             1.28             4.38  1.05   \n",
       "2          3.24                  0.30             2.81             5.68  1.03   \n",
       "3          3.49                  0.24             2.18             7.80  0.86   \n",
       "4          2.69                  0.39             1.82             4.32  1.04   \n",
       "..          ...                   ...              ...              ...   ...   \n",
       "173        0.61                  0.52             1.06             7.70  0.64   \n",
       "174        0.75                  0.43             1.41             7.30  0.70   \n",
       "175        0.69                  0.43             1.35            10.20  0.59   \n",
       "176        0.68                  0.53             1.46             9.30  0.60   \n",
       "177        0.76                  0.56             1.35             9.20  0.61   \n",
       "\n",
       "     od280_od315_of_diluted_wines  proline  target  \n",
       "0                            3.92   1065.0       0  \n",
       "1                            3.40   1050.0       0  \n",
       "2                            3.17   1185.0       0  \n",
       "3                            3.45   1480.0       0  \n",
       "4                            2.93    735.0       0  \n",
       "..                            ...      ...     ...  \n",
       "173                          1.74    740.0       2  \n",
       "174                          1.56    750.0       2  \n",
       "175                          1.56    835.0       2  \n",
       "176                          1.62    840.0       2  \n",
       "177                          1.60    560.0       2  \n",
       "\n",
       "[178 rows x 14 columns]"
      ]
     },
     "execution_count": 4,
     "metadata": {},
     "output_type": "execute_result"
    }
   ],
   "source": [
    "wine"
   ]
  },
  {
   "cell_type": "code",
   "execution_count": 5,
   "metadata": {},
   "outputs": [
    {
     "name": "stderr",
     "output_type": "stream",
     "text": [
      "[I 2024-05-13 11:03:09,810] A new study created in memory with name: no-name-c7ec24f9-4b1d-49b6-9d1a-2a0d21605a09\n",
      "[I 2024-05-13 11:03:10,337] Trial 0 finished with values: [0.3888888888888889, 0.0] and parameters: {'classifier': 'RandomForest', 'rf_n_estimators': 730, 'rf_max_depth': 29, 'rf_min_samples_split': 0.642016697461591, 'rf_min_samples_leaf': 0.46761264208310405, 'rf_max_features': 'sqrt', 'rf_random_state': 42}. \n",
      "[I 2024-05-13 11:03:11,161] Trial 1 finished with values: [0.9814814814814815, 0.2621287601752289] and parameters: {'classifier': 'RandomForest', 'rf_n_estimators': 790, 'rf_max_depth': 19, 'rf_min_samples_split': 0.512727021899295, 'rf_min_samples_leaf': 0.06994179832865524, 'rf_max_features': 'log2', 'rf_random_state': 42}. \n",
      "[I 2024-05-13 11:03:12,010] Trial 2 finished with values: [0.3888888888888889, 0.0] and parameters: {'classifier': 'RandomForest', 'rf_n_estimators': 680, 'rf_max_depth': 4, 'rf_min_samples_split': 0.721623750346586, 'rf_min_samples_leaf': 0.44748944153875, 'rf_max_features': 'log2', 'rf_random_state': 42}. \n",
      "[I 2024-05-13 11:03:13,260] Trial 3 finished with values: [0.5740740740740741, 0.2943460049085892] and parameters: {'classifier': 'RandomForest', 'rf_n_estimators': 990, 'rf_max_depth': 15, 'rf_min_samples_split': 0.6573392005931219, 'rf_min_samples_leaf': 0.1834744259819609, 'rf_max_features': 'log2', 'rf_random_state': 42}. \n",
      "[I 2024-05-13 11:03:13,626] Trial 4 finished with values: [0.3888888888888889, 0.0] and parameters: {'classifier': 'RandomForest', 'rf_n_estimators': 280, 'rf_max_depth': 27, 'rf_min_samples_split': 0.12798567986333964, 'rf_min_samples_leaf': 0.4446847595376447, 'rf_max_features': 'sqrt', 'rf_random_state': 42}. \n",
      "[I 2024-05-13 11:03:14,086] Trial 5 finished with values: [0.9629629629629629, 0.17696145504071192] and parameters: {'classifier': 'RandomForest', 'rf_n_estimators': 340, 'rf_max_depth': 14, 'rf_min_samples_split': 0.13431883724212576, 'rf_min_samples_leaf': 0.10837782014887087, 'rf_max_features': 'log2', 'rf_random_state': 42}. \n",
      "[I 2024-05-13 11:03:14,952] Trial 6 finished with values: [0.3888888888888889, 0.0] and parameters: {'classifier': 'RandomForest', 'rf_n_estimators': 700, 'rf_max_depth': 15, 'rf_min_samples_split': 0.6071993771174901, 'rf_min_samples_leaf': 0.44412935376404294, 'rf_max_features': 'sqrt', 'rf_random_state': 42}. \n",
      "[I 2024-05-13 11:03:15,797] Trial 7 finished with values: [0.9814814814814815, 0.24732385745210472] and parameters: {'classifier': 'RandomForest', 'rf_n_estimators': 680, 'rf_max_depth': 3, 'rf_min_samples_split': 0.45255595004885446, 'rf_min_samples_leaf': 0.1792576679665185, 'rf_max_features': 'sqrt', 'rf_random_state': 42}. \n",
      "[I 2024-05-13 11:03:16,508] Trial 8 finished with values: [0.9629629629629629, 0.256366410581398] and parameters: {'classifier': 'RandomForest', 'rf_n_estimators': 560, 'rf_max_depth': 21, 'rf_min_samples_split': 0.5230348215832794, 'rf_min_samples_leaf': 0.24023582512155048, 'rf_max_features': 'sqrt', 'rf_random_state': 42}. \n",
      "[I 2024-05-13 11:03:16,735] Trial 9 finished with values: [0.9629629629629629, 0.23521010744924464] and parameters: {'classifier': 'RandomForest', 'rf_n_estimators': 170, 'rf_max_depth': 32, 'rf_min_samples_split': 0.41545023065136183, 'rf_min_samples_leaf': 0.08254140994951512, 'rf_max_features': 'log2', 'rf_random_state': 42}. \n",
      "[I 2024-05-13 11:03:16,795] Trial 10 finished with values: [0.3888888888888889, 0.0] and parameters: {'classifier': 'RandomForest', 'rf_n_estimators': 40, 'rf_max_depth': 19, 'rf_min_samples_split': 0.5185236894851744, 'rf_min_samples_leaf': 0.41207646746776805, 'rf_max_features': 'sqrt', 'rf_random_state': 42}. \n",
      "[I 2024-05-13 11:03:16,891] Trial 11 finished with values: [0.9259259259259259, 0.2834055418839394] and parameters: {'classifier': 'RandomForest', 'rf_n_estimators': 70, 'rf_max_depth': 5, 'rf_min_samples_split': 0.30409455112524636, 'rf_min_samples_leaf': 0.262352288628755, 'rf_max_features': 'log2', 'rf_random_state': 42}. \n",
      "[I 2024-05-13 11:03:17,874] Trial 12 finished with values: [0.3888888888888889, 0.0] and parameters: {'classifier': 'RandomForest', 'rf_n_estimators': 800, 'rf_max_depth': 16, 'rf_min_samples_split': 0.23578382202949275, 'rf_min_samples_leaf': 0.447907173186476, 'rf_max_features': 'log2', 'rf_random_state': 42}. \n",
      "[I 2024-05-13 11:03:19,108] Trial 13 finished with values: [0.3888888888888889, 0.0] and parameters: {'classifier': 'RandomForest', 'rf_n_estimators': 1000, 'rf_max_depth': 29, 'rf_min_samples_split': 0.04104592409521174, 'rf_min_samples_leaf': 0.3808075454159791, 'rf_max_features': 'log2', 'rf_random_state': 42}. \n",
      "[I 2024-05-13 11:03:19,601] Trial 14 finished with values: [0.3888888888888889, 0.0] and parameters: {'classifier': 'RandomForest', 'rf_n_estimators': 400, 'rf_max_depth': 3, 'rf_min_samples_split': 0.17571965337863932, 'rf_min_samples_leaf': 0.4930385396020048, 'rf_max_features': 'log2', 'rf_random_state': 42}. \n",
      "[I 2024-05-13 11:03:20,026] Trial 15 finished with values: [0.3888888888888889, 0.42204491428565705] and parameters: {'classifier': 'RandomForest', 'rf_n_estimators': 340, 'rf_max_depth': 24, 'rf_min_samples_split': 0.05654102817259672, 'rf_min_samples_leaf': 0.33845070171843794, 'rf_max_features': 'sqrt', 'rf_random_state': 42}. \n",
      "[I 2024-05-13 11:03:20,195] Trial 16 finished with values: [0.3888888888888889, 0.0] and parameters: {'classifier': 'RandomForest', 'rf_n_estimators': 130, 'rf_max_depth': 3, 'rf_min_samples_split': 0.7853169391212559, 'rf_min_samples_leaf': 0.4798181301160431, 'rf_max_features': 'log2', 'rf_random_state': 42}. \n",
      "[I 2024-05-13 11:03:20,379] Trial 17 finished with values: [0.3888888888888889, 0.0] and parameters: {'classifier': 'RandomForest', 'rf_n_estimators': 140, 'rf_max_depth': 4, 'rf_min_samples_split': 0.9077660674283593, 'rf_min_samples_leaf': 0.1388762118650294, 'rf_max_features': 'log2', 'rf_random_state': 42}. \n",
      "[I 2024-05-13 11:03:21,136] Trial 18 finished with values: [0.3888888888888889, 0.0] and parameters: {'classifier': 'RandomForest', 'rf_n_estimators': 610, 'rf_max_depth': 25, 'rf_min_samples_split': 0.9803049022968411, 'rf_min_samples_leaf': 0.23622448300294663, 'rf_max_features': 'sqrt', 'rf_random_state': 42}. \n",
      "[I 2024-05-13 11:03:21,356] Trial 19 finished with values: [0.9629629629629629, 0.25545854616259633] and parameters: {'classifier': 'RandomForest', 'rf_n_estimators': 170, 'rf_max_depth': 32, 'rf_min_samples_split': 0.4831077480724881, 'rf_min_samples_leaf': 0.11397173322548942, 'rf_max_features': 'sqrt', 'rf_random_state': 42}. \n",
      "[I 2024-05-13 11:03:21,678] Trial 20 finished with values: [0.3888888888888889, 0.0] and parameters: {'classifier': 'RandomForest', 'rf_n_estimators': 250, 'rf_max_depth': 4, 'rf_min_samples_split': 0.7516770220084628, 'rf_min_samples_leaf': 0.36246671112905454, 'rf_max_features': 'sqrt', 'rf_random_state': 42}. \n",
      "[I 2024-05-13 11:03:22,240] Trial 21 finished with values: [0.3888888888888889, 1.0] and parameters: {'classifier': 'RandomForest', 'rf_n_estimators': 600, 'rf_max_depth': 20, 'rf_min_samples_split': 0.7187268560312803, 'rf_min_samples_leaf': 0.23070711130402274, 'rf_max_features': 'sqrt', 'rf_random_state': 42}. \n",
      "[I 2024-05-13 11:03:22,279] Trial 22 finished with values: [0.3888888888888889, 1.0] and parameters: {'classifier': 'RandomForest', 'rf_n_estimators': 50, 'rf_max_depth': 25, 'rf_min_samples_split': 0.6958914388726675, 'rf_min_samples_leaf': 0.12063766822223576, 'rf_max_features': 'log2', 'rf_random_state': 42}. \n",
      "[I 2024-05-13 11:03:22,425] Trial 23 finished with values: [0.3888888888888889, 0.0] and parameters: {'classifier': 'RandomForest', 'rf_n_estimators': 210, 'rf_max_depth': 22, 'rf_min_samples_split': 0.681892889934723, 'rf_min_samples_leaf': 0.47677710046930805, 'rf_max_features': 'sqrt', 'rf_random_state': 42}. \n",
      "[I 2024-05-13 11:03:22,775] Trial 24 finished with values: [0.3888888888888889, 0.0] and parameters: {'classifier': 'RandomForest', 'rf_n_estimators': 510, 'rf_max_depth': 29, 'rf_min_samples_split': 0.3849911255267605, 'rf_min_samples_leaf': 0.35609051543441844, 'rf_max_features': 'sqrt', 'rf_random_state': 42}. \n",
      "[I 2024-05-13 11:03:22,996] Trial 25 finished with values: [0.3888888888888889, 0.0] and parameters: {'classifier': 'RandomForest', 'rf_n_estimators': 320, 'rf_max_depth': 6, 'rf_min_samples_split': 0.7599228004610041, 'rf_min_samples_leaf': 0.4390178971366249, 'rf_max_features': 'sqrt', 'rf_random_state': 42}. \n",
      "[I 2024-05-13 11:03:23,251] Trial 26 finished with values: [0.3888888888888889, 0.0] and parameters: {'classifier': 'RandomForest', 'rf_n_estimators': 370, 'rf_max_depth': 23, 'rf_min_samples_split': 0.904326025577986, 'rf_min_samples_leaf': 0.08996655396824009, 'rf_max_features': 'log2', 'rf_random_state': 42}. \n",
      "[I 2024-05-13 11:03:23,932] Trial 27 finished with values: [0.9629629629629629, 0.17671936422188128] and parameters: {'classifier': 'RandomForest', 'rf_n_estimators': 930, 'rf_max_depth': 15, 'rf_min_samples_split': 0.1007364478801276, 'rf_min_samples_leaf': 0.07469384999908883, 'rf_max_features': 'sqrt', 'rf_random_state': 42}. \n",
      "[I 2024-05-13 11:03:24,266] Trial 28 finished with values: [0.9629629629629629, 0.19229508101399106] and parameters: {'classifier': 'RandomForest', 'rf_n_estimators': 470, 'rf_max_depth': 8, 'rf_min_samples_split': 0.30836818625159096, 'rf_min_samples_leaf': 0.12898238280121901, 'rf_max_features': 'log2', 'rf_random_state': 42}. \n",
      "[I 2024-05-13 11:03:24,784] Trial 29 finished with values: [0.9629629629629629, 0.19619671592805654] and parameters: {'classifier': 'RandomForest', 'rf_n_estimators': 730, 'rf_max_depth': 28, 'rf_min_samples_split': 0.28806418260646255, 'rf_min_samples_leaf': 0.14555640225583355, 'rf_max_features': 'sqrt', 'rf_random_state': 42}. \n",
      "[I 2024-05-13 11:03:24,884] Trial 30 finished with values: [0.9814814814814815, 0.18752625880026663] and parameters: {'classifier': 'RandomForest', 'rf_n_estimators': 130, 'rf_max_depth': 11, 'rf_min_samples_split': 0.053040066745778894, 'rf_min_samples_leaf': 0.02883700069607379, 'rf_max_features': 'log2', 'rf_random_state': 42}. \n",
      "[I 2024-05-13 11:03:25,552] Trial 31 finished with values: [0.9629629629629629, 0.251983777892154] and parameters: {'classifier': 'RandomForest', 'rf_n_estimators': 960, 'rf_max_depth': 20, 'rf_min_samples_split': 0.22033320634248618, 'rf_min_samples_leaf': 0.2341755275213938, 'rf_max_features': 'log2', 'rf_random_state': 42}. \n",
      "[I 2024-05-13 11:03:25,888] Trial 32 finished with values: [0.3888888888888889, 0.0] and parameters: {'classifier': 'RandomForest', 'rf_n_estimators': 490, 'rf_max_depth': 19, 'rf_min_samples_split': 0.09245728259516707, 'rf_min_samples_leaf': 0.362555999433268, 'rf_max_features': 'sqrt', 'rf_random_state': 42}. \n",
      "[I 2024-05-13 11:03:25,994] Trial 33 finished with values: [0.3888888888888889, 0.0] and parameters: {'classifier': 'RandomForest', 'rf_n_estimators': 150, 'rf_max_depth': 26, 'rf_min_samples_split': 0.6833084898959423, 'rf_min_samples_leaf': 0.4836324061029938, 'rf_max_features': 'sqrt', 'rf_random_state': 42}. \n",
      "[I 2024-05-13 11:03:26,207] Trial 34 finished with values: [0.3888888888888889, 0.0] and parameters: {'classifier': 'RandomForest', 'rf_n_estimators': 310, 'rf_max_depth': 21, 'rf_min_samples_split': 0.49666754823071274, 'rf_min_samples_leaf': 0.38615384695257043, 'rf_max_features': 'log2', 'rf_random_state': 42}. \n",
      "[I 2024-05-13 11:03:26,398] Trial 35 finished with values: [0.3888888888888889, 0.0] and parameters: {'classifier': 'RandomForest', 'rf_n_estimators': 280, 'rf_max_depth': 14, 'rf_min_samples_split': 0.6378027232276048, 'rf_min_samples_leaf': 0.4309006323287553, 'rf_max_features': 'log2', 'rf_random_state': 42}. \n",
      "[I 2024-05-13 11:03:27,072] Trial 36 finished with values: [0.9814814814814815, 0.2577490833777697] and parameters: {'classifier': 'RandomForest', 'rf_n_estimators': 970, 'rf_max_depth': 13, 'rf_min_samples_split': 0.5200169906294587, 'rf_min_samples_leaf': 0.1300159693639986, 'rf_max_features': 'sqrt', 'rf_random_state': 42}. \n",
      "[I 2024-05-13 11:03:27,225] Trial 37 finished with values: [0.3888888888888889, 0.0] and parameters: {'classifier': 'RandomForest', 'rf_n_estimators': 220, 'rf_max_depth': 3, 'rf_min_samples_split': 0.6310269334035281, 'rf_min_samples_leaf': 0.3838643494724907, 'rf_max_features': 'sqrt', 'rf_random_state': 42}. \n",
      "[I 2024-05-13 11:03:27,304] Trial 38 finished with values: [0.3888888888888889, 0.0] and parameters: {'classifier': 'RandomForest', 'rf_n_estimators': 110, 'rf_max_depth': 9, 'rf_min_samples_split': 0.9030442124108169, 'rf_min_samples_leaf': 0.4780130251302069, 'rf_max_features': 'log2', 'rf_random_state': 42}. \n",
      "[I 2024-05-13 11:03:27,836] Trial 39 finished with values: [0.3888888888888889, 0.0] and parameters: {'classifier': 'RandomForest', 'rf_n_estimators': 780, 'rf_max_depth': 11, 'rf_min_samples_split': 0.7559387058616642, 'rf_min_samples_leaf': 0.39708525271566947, 'rf_max_features': 'log2', 'rf_random_state': 42}. \n",
      "[I 2024-05-13 11:03:28,014] Trial 40 finished with values: [0.3888888888888889, 0.0] and parameters: {'classifier': 'RandomForest', 'rf_n_estimators': 260, 'rf_max_depth': 19, 'rf_min_samples_split': 0.26584707123031337, 'rf_min_samples_leaf': 0.4130668958424571, 'rf_max_features': 'sqrt', 'rf_random_state': 42}. \n",
      "[I 2024-05-13 11:03:28,181] Trial 41 finished with values: [0.6666666666666666, 0.28289069871716876] and parameters: {'classifier': 'RandomForest', 'rf_n_estimators': 240, 'rf_max_depth': 17, 'rf_min_samples_split': 0.3562423310783207, 'rf_min_samples_leaf': 0.315826699111815, 'rf_max_features': 'sqrt', 'rf_random_state': 42}. \n",
      "[I 2024-05-13 11:03:28,876] Trial 42 finished with values: [0.9814814814814815, 0.24974046666190353] and parameters: {'classifier': 'RandomForest', 'rf_n_estimators': 980, 'rf_max_depth': 4, 'rf_min_samples_split': 0.14498145716348165, 'rf_min_samples_leaf': 0.22038920402764564, 'rf_max_features': 'sqrt', 'rf_random_state': 42}. \n",
      "[I 2024-05-13 11:03:29,076] Trial 43 finished with values: [0.9629629629629629, 0.25954866556785194] and parameters: {'classifier': 'RandomForest', 'rf_n_estimators': 280, 'rf_max_depth': 13, 'rf_min_samples_split': 0.5792350718976097, 'rf_min_samples_leaf': 0.23532500725725997, 'rf_max_features': 'sqrt', 'rf_random_state': 42}. \n",
      "[I 2024-05-13 11:03:29,366] Trial 44 finished with values: [0.3888888888888889, 0.0] and parameters: {'classifier': 'RandomForest', 'rf_n_estimators': 430, 'rf_max_depth': 14, 'rf_min_samples_split': 0.8870979311828386, 'rf_min_samples_leaf': 0.06321414489807596, 'rf_max_features': 'log2', 'rf_random_state': 42}. \n",
      "[I 2024-05-13 11:03:29,814] Trial 45 finished with values: [0.9814814814814815, 0.24979928002284846] and parameters: {'classifier': 'RandomForest', 'rf_n_estimators': 630, 'rf_max_depth': 27, 'rf_min_samples_split': 0.4540942533334036, 'rf_min_samples_leaf': 0.14497195190224943, 'rf_max_features': 'sqrt', 'rf_random_state': 42}. \n",
      "[I 2024-05-13 11:03:29,842] Trial 46 finished with values: [0.9629629629629629, 0.1321305901001103] and parameters: {'classifier': 'RandomForest', 'rf_n_estimators': 30, 'rf_max_depth': 17, 'rf_min_samples_split': 0.09518654024916927, 'rf_min_samples_leaf': 0.09781909656822496, 'rf_max_features': 'log2', 'rf_random_state': 42}. \n",
      "[I 2024-05-13 11:03:30,522] Trial 47 finished with values: [0.3888888888888889, 0.0] and parameters: {'classifier': 'RandomForest', 'rf_n_estimators': 1000, 'rf_max_depth': 2, 'rf_min_samples_split': 0.7688025631353158, 'rf_min_samples_leaf': 0.03307808169498354, 'rf_max_features': 'log2', 'rf_random_state': 42}. \n",
      "[I 2024-05-13 11:03:31,144] Trial 48 finished with values: [0.9629629629629629, 0.2542482960510901] and parameters: {'classifier': 'RandomForest', 'rf_n_estimators': 890, 'rf_max_depth': 6, 'rf_min_samples_split': 0.4454494980121184, 'rf_min_samples_leaf': 0.2569704418544427, 'rf_max_features': 'sqrt', 'rf_random_state': 42}. \n",
      "[I 2024-05-13 11:03:31,344] Trial 49 finished with values: [0.3888888888888889, 0.0] and parameters: {'classifier': 'RandomForest', 'rf_n_estimators': 290, 'rf_max_depth': 10, 'rf_min_samples_split': 0.04807402399181325, 'rf_min_samples_leaf': 0.46477020046652734, 'rf_max_features': 'sqrt', 'rf_random_state': 42}. \n",
      "[I 2024-05-13 11:03:31,639] Trial 50 finished with values: [0.3888888888888889, 0.0] and parameters: {'classifier': 'RandomForest', 'rf_n_estimators': 420, 'rf_max_depth': 3, 'rf_min_samples_split': 0.9251577043861731, 'rf_min_samples_leaf': 0.10495339445541338, 'rf_max_features': 'log2', 'rf_random_state': 42}. \n",
      "[I 2024-05-13 11:03:32,091] Trial 51 finished with values: [0.3888888888888889, 0.0] and parameters: {'classifier': 'RandomForest', 'rf_n_estimators': 650, 'rf_max_depth': 20, 'rf_min_samples_split': 0.9337447645802994, 'rf_min_samples_leaf': 0.08681051894442421, 'rf_max_features': 'log2', 'rf_random_state': 42}. \n",
      "[I 2024-05-13 11:03:32,612] Trial 52 finished with values: [0.3888888888888889, 0.0] and parameters: {'classifier': 'RandomForest', 'rf_n_estimators': 760, 'rf_max_depth': 32, 'rf_min_samples_split': 0.9929248902468654, 'rf_min_samples_leaf': 0.14526847468935178, 'rf_max_features': 'sqrt', 'rf_random_state': 42}. \n",
      "[I 2024-05-13 11:03:32,802] Trial 53 finished with values: [0.9629629629629629, 0.19099808781020067] and parameters: {'classifier': 'RandomForest', 'rf_n_estimators': 260, 'rf_max_depth': 8, 'rf_min_samples_split': 0.08350596282232216, 'rf_min_samples_leaf': 0.12123340153198629, 'rf_max_features': 'sqrt', 'rf_random_state': 42}. \n",
      "[I 2024-05-13 11:03:33,402] Trial 54 finished with values: [0.9629629629629629, 0.25138781473756133] and parameters: {'classifier': 'RandomForest', 'rf_n_estimators': 870, 'rf_max_depth': 12, 'rf_min_samples_split': 0.40779837515922046, 'rf_min_samples_leaf': 0.2451050362446028, 'rf_max_features': 'sqrt', 'rf_random_state': 42}. \n",
      "[I 2024-05-13 11:03:34,086] Trial 55 finished with values: [0.5370370370370371, 0.2882058354681397] and parameters: {'classifier': 'RandomForest', 'rf_n_estimators': 990, 'rf_max_depth': 11, 'rf_min_samples_split': 0.6557986065053583, 'rf_min_samples_leaf': 0.037818797885910777, 'rf_max_features': 'log2', 'rf_random_state': 42}. \n",
      "[I 2024-05-13 11:03:34,246] Trial 56 finished with values: [0.3888888888888889, 0.0] and parameters: {'classifier': 'RandomForest', 'rf_n_estimators': 220, 'rf_max_depth': 8, 'rf_min_samples_split': 0.4384228867972091, 'rf_min_samples_leaf': 0.45815763830388423, 'rf_max_features': 'sqrt', 'rf_random_state': 42}. \n",
      "[I 2024-05-13 11:03:34,919] Trial 57 finished with values: [0.9444444444444444, 0.25953532924695233] and parameters: {'classifier': 'RandomForest', 'rf_n_estimators': 950, 'rf_max_depth': 12, 'rf_min_samples_split': 0.5457675431741957, 'rf_min_samples_leaf': 0.2749524248546217, 'rf_max_features': 'sqrt', 'rf_random_state': 42}. \n",
      "[I 2024-05-13 11:03:35,255] Trial 58 finished with values: [0.3888888888888889, 0.0] and parameters: {'classifier': 'RandomForest', 'rf_n_estimators': 490, 'rf_max_depth': 7, 'rf_min_samples_split': 0.8758566169486145, 'rf_min_samples_leaf': 0.1503521408834346, 'rf_max_features': 'log2', 'rf_random_state': 42}. \n",
      "[I 2024-05-13 11:03:35,388] Trial 59 finished with values: [0.3888888888888889, 0.0] and parameters: {'classifier': 'RandomForest', 'rf_n_estimators': 180, 'rf_max_depth': 10, 'rf_min_samples_split': 0.9892238525525494, 'rf_min_samples_leaf': 0.2612839570493218, 'rf_max_features': 'log2', 'rf_random_state': 42}. \n",
      "[I 2024-05-13 11:03:35,988] Trial 60 finished with values: [0.8888888888888888, 0.2708338955414824] and parameters: {'classifier': 'RandomForest', 'rf_n_estimators': 860, 'rf_max_depth': 6, 'rf_min_samples_split': 0.607081765304896, 'rf_min_samples_leaf': 0.2936655630565689, 'rf_max_features': 'sqrt', 'rf_random_state': 42}. \n",
      "[I 2024-05-13 11:03:36,572] Trial 61 finished with values: [0.3888888888888889, 0.0] and parameters: {'classifier': 'RandomForest', 'rf_n_estimators': 860, 'rf_max_depth': 16, 'rf_min_samples_split': 0.2487257687470819, 'rf_min_samples_leaf': 0.3726070701155193, 'rf_max_features': 'sqrt', 'rf_random_state': 42}. \n",
      "[I 2024-05-13 11:03:37,055] Trial 62 finished with values: [0.9814814814814815, 0.2305160697553611] and parameters: {'classifier': 'RandomForest', 'rf_n_estimators': 690, 'rf_max_depth': 20, 'rf_min_samples_split': 0.43521473324353555, 'rf_min_samples_leaf': 0.07741271944490513, 'rf_max_features': 'sqrt', 'rf_random_state': 42}. \n",
      "[I 2024-05-13 11:03:37,108] Trial 63 finished with values: [0.3888888888888889, 0.0] and parameters: {'classifier': 'RandomForest', 'rf_n_estimators': 70, 'rf_max_depth': 17, 'rf_min_samples_split': 0.823071983336264, 'rf_min_samples_leaf': 0.38157576293327305, 'rf_max_features': 'log2', 'rf_random_state': 42}. \n",
      "[I 2024-05-13 11:03:37,190] Trial 64 finished with values: [0.9629629629629629, 0.2019019373320492] and parameters: {'classifier': 'RandomForest', 'rf_n_estimators': 110, 'rf_max_depth': 28, 'rf_min_samples_split': 0.28295593649180256, 'rf_min_samples_leaf': 0.029896470814246172, 'rf_max_features': 'sqrt', 'rf_random_state': 42}. \n",
      "[I 2024-05-13 11:03:37,515] Trial 65 finished with values: [0.9629629629629629, 0.21526438776990242] and parameters: {'classifier': 'RandomForest', 'rf_n_estimators': 460, 'rf_max_depth': 32, 'rf_min_samples_split': 0.41621349339138025, 'rf_min_samples_leaf': 0.120689760769562, 'rf_max_features': 'sqrt', 'rf_random_state': 42}. \n",
      "[I 2024-05-13 11:03:38,105] Trial 66 finished with values: [0.3888888888888889, 0.0] and parameters: {'classifier': 'RandomForest', 'rf_n_estimators': 870, 'rf_max_depth': 8, 'rf_min_samples_split': 0.9151035112097808, 'rf_min_samples_leaf': 0.04264221192632625, 'rf_max_features': 'sqrt', 'rf_random_state': 42}. \n",
      "[I 2024-05-13 11:03:38,366] Trial 67 finished with values: [0.9629629629629629, 0.2080539625581903] and parameters: {'classifier': 'RandomForest', 'rf_n_estimators': 360, 'rf_max_depth': 12, 'rf_min_samples_split': 0.40107772787300305, 'rf_min_samples_leaf': 0.06550170232167064, 'rf_max_features': 'log2', 'rf_random_state': 42}. \n",
      "[I 2024-05-13 11:03:38,660] Trial 68 finished with values: [0.3888888888888889, 0.3931381864589836] and parameters: {'classifier': 'RandomForest', 'rf_n_estimators': 420, 'rf_max_depth': 8, 'rf_min_samples_split': 0.3945099825873837, 'rf_min_samples_leaf': 0.33802036017680304, 'rf_max_features': 'sqrt', 'rf_random_state': 42}. \n",
      "[I 2024-05-13 11:03:38,944] Trial 69 finished with values: [0.9814814814814815, 0.2125816229759896] and parameters: {'classifier': 'RandomForest', 'rf_n_estimators': 400, 'rf_max_depth': 8, 'rf_min_samples_split': 0.4132331934211489, 'rf_min_samples_leaf': 0.04757876173931189, 'rf_max_features': 'sqrt', 'rf_random_state': 42}. \n",
      "[I 2024-05-13 11:03:39,237] Trial 70 finished with values: [0.9259259259259259, 0.2568245221471208] and parameters: {'classifier': 'RandomForest', 'rf_n_estimators': 420, 'rf_max_depth': 9, 'rf_min_samples_split': 0.601303605979876, 'rf_min_samples_leaf': 0.27110780003513785, 'rf_max_features': 'log2', 'rf_random_state': 42}. \n",
      "[I 2024-05-13 11:03:39,555] Trial 71 finished with values: [0.3888888888888889, 0.0] and parameters: {'classifier': 'RandomForest', 'rf_n_estimators': 470, 'rf_max_depth': 12, 'rf_min_samples_split': 0.6246425261597064, 'rf_min_samples_leaf': 0.4068519088848049, 'rf_max_features': 'log2', 'rf_random_state': 42}. \n",
      "[I 2024-05-13 11:03:40,141] Trial 72 finished with values: [0.9629629629629629, 0.19210632445738307] and parameters: {'classifier': 'RandomForest', 'rf_n_estimators': 820, 'rf_max_depth': 26, 'rf_min_samples_split': 0.2782330694504247, 'rf_min_samples_leaf': 0.1240783918256707, 'rf_max_features': 'sqrt', 'rf_random_state': 42}. \n",
      "[I 2024-05-13 11:03:40,225] Trial 73 finished with values: [0.3888888888888889, 0.0] and parameters: {'classifier': 'RandomForest', 'rf_n_estimators': 110, 'rf_max_depth': 3, 'rf_min_samples_split': 0.9441579431763764, 'rf_min_samples_leaf': 0.26700169939539264, 'rf_max_features': 'sqrt', 'rf_random_state': 42}. \n",
      "[I 2024-05-13 11:03:40,687] Trial 74 finished with values: [0.6296296296296297, 0.26067351522492754] and parameters: {'classifier': 'RandomForest', 'rf_n_estimators': 670, 'rf_max_depth': 25, 'rf_min_samples_split': 0.6521997143024736, 'rf_min_samples_leaf': 0.18162439856458681, 'rf_max_features': 'log2', 'rf_random_state': 42}. \n",
      "[I 2024-05-13 11:03:40,939] Trial 75 finished with values: [0.9074074074074074, 0.25100846834854074] and parameters: {'classifier': 'RandomForest', 'rf_n_estimators': 360, 'rf_max_depth': 27, 'rf_min_samples_split': 0.30826208717480785, 'rf_min_samples_leaf': 0.25892003234835465, 'rf_max_features': 'log2', 'rf_random_state': 42}. \n",
      "[I 2024-05-13 11:03:41,501] Trial 76 finished with values: [0.9629629629629629, 0.1983107277675753] and parameters: {'classifier': 'RandomForest', 'rf_n_estimators': 790, 'rf_max_depth': 6, 'rf_min_samples_split': 0.2229576135777454, 'rf_min_samples_leaf': 0.15382049072406065, 'rf_max_features': 'sqrt', 'rf_random_state': 42}. \n",
      "[I 2024-05-13 11:03:41,634] Trial 77 finished with values: [0.3888888888888889, 0.0] and parameters: {'classifier': 'RandomForest', 'rf_n_estimators': 190, 'rf_max_depth': 22, 'rf_min_samples_split': 0.8891284601776769, 'rf_min_samples_leaf': 0.30416954448855127, 'rf_max_features': 'sqrt', 'rf_random_state': 42}. \n",
      "[I 2024-05-13 11:03:41,767] Trial 78 finished with values: [0.3888888888888889, 0.7621014408759446] and parameters: {'classifier': 'RandomForest', 'rf_n_estimators': 190, 'rf_max_depth': 31, 'rf_min_samples_split': 0.2151344033641941, 'rf_min_samples_leaf': 0.3405787763681187, 'rf_max_features': 'log2', 'rf_random_state': 42}. \n",
      "[I 2024-05-13 11:03:41,907] Trial 79 finished with values: [0.9629629629629629, 0.182055750704876] and parameters: {'classifier': 'RandomForest', 'rf_n_estimators': 190, 'rf_max_depth': 9, 'rf_min_samples_split': 0.2029709524946259, 'rf_min_samples_leaf': 0.0596787446601472, 'rf_max_features': 'log2', 'rf_random_state': 42}. \n",
      "[I 2024-05-13 11:03:42,050] Trial 80 finished with values: [0.9074074074074074, 0.2635906145085589] and parameters: {'classifier': 'RandomForest', 'rf_n_estimators': 200, 'rf_max_depth': 12, 'rf_min_samples_split': 0.48136538461846134, 'rf_min_samples_leaf': 0.2770008867473044, 'rf_max_features': 'sqrt', 'rf_random_state': 42}. \n",
      "[I 2024-05-13 11:03:42,637] Trial 81 finished with values: [0.3888888888888889, 0.0] and parameters: {'classifier': 'RandomForest', 'rf_n_estimators': 850, 'rf_max_depth': 21, 'rf_min_samples_split': 0.9094149552833007, 'rf_min_samples_leaf': 0.1962208938372721, 'rf_max_features': 'sqrt', 'rf_random_state': 42}. \n",
      "[I 2024-05-13 11:03:43,062] Trial 82 finished with values: [0.9814814814814815, 0.24368335832340415] and parameters: {'classifier': 'RandomForest', 'rf_n_estimators': 580, 'rf_max_depth': 19, 'rf_min_samples_split': 0.4538008707046114, 'rf_min_samples_leaf': 0.09140266872617654, 'rf_max_features': 'log2', 'rf_random_state': 42}. \n",
      "[I 2024-05-13 11:03:43,453] Trial 83 finished with values: [0.8703703703703703, 0.27726166320057777] and parameters: {'classifier': 'RandomForest', 'rf_n_estimators': 530, 'rf_max_depth': 14, 'rf_min_samples_split': 0.6204683388382591, 'rf_min_samples_leaf': 0.300219468998981, 'rf_max_features': 'sqrt', 'rf_random_state': 42}. \n",
      "[I 2024-05-13 11:03:43,885] Trial 84 finished with values: [0.3888888888888889, 0.0] and parameters: {'classifier': 'RandomForest', 'rf_n_estimators': 610, 'rf_max_depth': 31, 'rf_min_samples_split': 0.831457717183205, 'rf_min_samples_leaf': 0.3036819223463619, 'rf_max_features': 'log2', 'rf_random_state': 42}. \n",
      "[I 2024-05-13 11:03:44,457] Trial 85 finished with values: [0.9629629629629629, 0.19852535495922996] and parameters: {'classifier': 'RandomForest', 'rf_n_estimators': 780, 'rf_max_depth': 19, 'rf_min_samples_split': 0.35449838477565926, 'rf_min_samples_leaf': 0.16560815125642844, 'rf_max_features': 'log2', 'rf_random_state': 42}. \n",
      "[I 2024-05-13 11:03:44,641] Trial 86 finished with values: [0.3888888888888889, 0.0] and parameters: {'classifier': 'RandomForest', 'rf_n_estimators': 250, 'rf_max_depth': 7, 'rf_min_samples_split': 0.6230258918908631, 'rf_min_samples_leaf': 0.3513291768925379, 'rf_max_features': 'sqrt', 'rf_random_state': 42}. \n",
      "[I 2024-05-13 11:03:44,735] Trial 87 finished with values: [0.3888888888888889, 0.0] and parameters: {'classifier': 'RandomForest', 'rf_n_estimators': 120, 'rf_max_depth': 30, 'rf_min_samples_split': 0.3820939394139106, 'rf_min_samples_leaf': 0.46751548762576967, 'rf_max_features': 'log2', 'rf_random_state': 42}. \n",
      "[I 2024-05-13 11:03:45,267] Trial 88 finished with values: [0.3888888888888889, 0.7879995037689121] and parameters: {'classifier': 'RandomForest', 'rf_n_estimators': 750, 'rf_max_depth': 20, 'rf_min_samples_split': 0.6991862497120777, 'rf_min_samples_leaf': 0.1079104354752297, 'rf_max_features': 'sqrt', 'rf_random_state': 42}. \n",
      "[I 2024-05-13 11:03:45,416] Trial 89 finished with values: [0.9444444444444444, 0.27062482579062475] and parameters: {'classifier': 'RandomForest', 'rf_n_estimators': 190, 'rf_max_depth': 15, 'rf_min_samples_split': 0.22738582059387774, 'rf_min_samples_leaf': 0.2463969884319786, 'rf_max_features': 'log2', 'rf_random_state': 42}. \n",
      "[I 2024-05-13 11:03:46,072] Trial 90 finished with values: [0.9629629629629629, 0.17922373927120805] and parameters: {'classifier': 'RandomForest', 'rf_n_estimators': 820, 'rf_max_depth': 9, 'rf_min_samples_split': 0.15826127490394593, 'rf_min_samples_leaf': 0.06566198407929924, 'rf_max_features': 'log2', 'rf_random_state': 42}. \n",
      "[I 2024-05-13 11:03:46,483] Trial 91 finished with values: [0.9814814814814815, 0.23118135927638528] and parameters: {'classifier': 'RandomForest', 'rf_n_estimators': 530, 'rf_max_depth': 21, 'rf_min_samples_split': 0.43051415142580807, 'rf_min_samples_leaf': 0.03367180453632042, 'rf_max_features': 'sqrt', 'rf_random_state': 42}. \n",
      "[I 2024-05-13 11:03:46,717] Trial 92 finished with values: [0.3888888888888889, 0.8752595098195318] and parameters: {'classifier': 'RandomForest', 'rf_n_estimators': 310, 'rf_max_depth': 32, 'rf_min_samples_split': 0.3766331654508193, 'rf_min_samples_leaf': 0.34522615038039683, 'rf_max_features': 'sqrt', 'rf_random_state': 42}. \n",
      "[I 2024-05-13 11:03:46,999] Trial 93 finished with values: [0.3888888888888889, 0.0] and parameters: {'classifier': 'RandomForest', 'rf_n_estimators': 370, 'rf_max_depth': 12, 'rf_min_samples_split': 0.537813086482997, 'rf_min_samples_leaf': 0.4289760122047766, 'rf_max_features': 'log2', 'rf_random_state': 42}. \n",
      "[I 2024-05-13 11:03:47,673] Trial 94 finished with values: [0.3888888888888889, 0.0] and parameters: {'classifier': 'RandomForest', 'rf_n_estimators': 910, 'rf_max_depth': 13, 'rf_min_samples_split': 0.7443890045471111, 'rf_min_samples_leaf': 0.0735574288633787, 'rf_max_features': 'sqrt', 'rf_random_state': 42}. \n",
      "[I 2024-05-13 11:03:47,789] Trial 95 finished with values: [0.3888888888888889, 0.0] and parameters: {'classifier': 'RandomForest', 'rf_n_estimators': 150, 'rf_max_depth': 13, 'rf_min_samples_split': 0.920716009934901, 'rf_min_samples_leaf': 0.20019658574225674, 'rf_max_features': 'sqrt', 'rf_random_state': 42}. \n",
      "[I 2024-05-13 11:03:48,468] Trial 96 finished with values: [0.3888888888888889, 0.0] and parameters: {'classifier': 'RandomForest', 'rf_n_estimators': 920, 'rf_max_depth': 3, 'rf_min_samples_split': 0.5416424182183206, 'rf_min_samples_leaf': 0.4576443921786256, 'rf_max_features': 'sqrt', 'rf_random_state': 42}. \n",
      "[I 2024-05-13 11:03:48,737] Trial 97 finished with values: [0.3888888888888889, 0.0] and parameters: {'classifier': 'RandomForest', 'rf_n_estimators': 360, 'rf_max_depth': 12, 'rf_min_samples_split': 0.731722097236971, 'rf_min_samples_leaf': 0.11653212210194118, 'rf_max_features': 'sqrt', 'rf_random_state': 42}. \n",
      "[I 2024-05-13 11:03:49,434] Trial 98 finished with values: [0.3888888888888889, 0.0] and parameters: {'classifier': 'RandomForest', 'rf_n_estimators': 940, 'rf_max_depth': 24, 'rf_min_samples_split': 0.9989173643906898, 'rf_min_samples_leaf': 0.3469027174734874, 'rf_max_features': 'sqrt', 'rf_random_state': 42}. \n",
      "[I 2024-05-13 11:03:49,964] Trial 99 finished with values: [0.3888888888888889, 0.0] and parameters: {'classifier': 'RandomForest', 'rf_n_estimators': 710, 'rf_max_depth': 24, 'rf_min_samples_split': 0.6085927050581514, 'rf_min_samples_leaf': 0.4520740846218164, 'rf_max_features': 'sqrt', 'rf_random_state': 42}. \n",
      "[I 2024-05-13 11:03:50,352] Trial 100 finished with values: [0.3888888888888889, 0.0] and parameters: {'classifier': 'RandomForest', 'rf_n_estimators': 520, 'rf_max_depth': 23, 'rf_min_samples_split': 0.8884859062991202, 'rf_min_samples_leaf': 0.30711063364415925, 'rf_max_features': 'log2', 'rf_random_state': 42}. \n",
      "[I 2024-05-13 11:03:51,077] Trial 101 finished with values: [0.9444444444444444, 0.25344724735087143] and parameters: {'classifier': 'RandomForest', 'rf_n_estimators': 960, 'rf_max_depth': 14, 'rf_min_samples_split': 0.5382953909133492, 'rf_min_samples_leaf': 0.2620905779957437, 'rf_max_features': 'log2', 'rf_random_state': 42}. \n",
      "[I 2024-05-13 11:03:51,729] Trial 102 finished with values: [0.6111111111111112, 0.32714876581951957] and parameters: {'classifier': 'RandomForest', 'rf_n_estimators': 880, 'rf_max_depth': 13, 'rf_min_samples_split': 0.6597492836041793, 'rf_min_samples_leaf': 0.23629652297362372, 'rf_max_features': 'log2', 'rf_random_state': 42}. \n",
      "[I 2024-05-13 11:03:51,847] Trial 103 finished with values: [0.9629629629629629, 0.18317205573752338] and parameters: {'classifier': 'RandomForest', 'rf_n_estimators': 140, 'rf_max_depth': 23, 'rf_min_samples_split': 0.10668406884159075, 'rf_min_samples_leaf': 0.06148969964298634, 'rf_max_features': 'log2', 'rf_random_state': 42}. \n",
      "[I 2024-05-13 11:03:52,563] Trial 104 finished with values: [0.3888888888888889, 0.582901654257608] and parameters: {'classifier': 'RandomForest', 'rf_n_estimators': 970, 'rf_max_depth': 30, 'rf_min_samples_split': 0.6948456077197949, 'rf_min_samples_leaf': 0.1698406238716351, 'rf_max_features': 'log2', 'rf_random_state': 42}. \n",
      "[I 2024-05-13 11:03:52,884] Trial 105 finished with values: [0.3888888888888889, 0.0] and parameters: {'classifier': 'RandomForest', 'rf_n_estimators': 430, 'rf_max_depth': 25, 'rf_min_samples_split': 0.34319617729635316, 'rf_min_samples_leaf': 0.4519745730451786, 'rf_max_features': 'log2', 'rf_random_state': 42}. \n",
      "[I 2024-05-13 11:03:53,536] Trial 106 finished with values: [0.9814814814814815, 0.25603772098412825] and parameters: {'classifier': 'RandomForest', 'rf_n_estimators': 850, 'rf_max_depth': 30, 'rf_min_samples_split': 0.531890908508192, 'rf_min_samples_leaf': 0.1931745194929939, 'rf_max_features': 'sqrt', 'rf_random_state': 42}. \n",
      "[I 2024-05-13 11:03:53,965] Trial 107 finished with values: [0.3888888888888889, 0.0] and parameters: {'classifier': 'RandomForest', 'rf_n_estimators': 590, 'rf_max_depth': 9, 'rf_min_samples_split': 0.29180110100012185, 'rf_min_samples_leaf': 0.47111991819347615, 'rf_max_features': 'sqrt', 'rf_random_state': 42}. \n",
      "[I 2024-05-13 11:03:54,023] Trial 108 finished with values: [0.9259259259259259, 0.2834055418839394] and parameters: {'classifier': 'RandomForest', 'rf_n_estimators': 70, 'rf_max_depth': 16, 'rf_min_samples_split': 0.21904476702329134, 'rf_min_samples_leaf': 0.2627943243262218, 'rf_max_features': 'log2', 'rf_random_state': 42}. \n",
      "[I 2024-05-13 11:03:54,351] Trial 109 finished with values: [0.9629629629629629, 0.2085598320381885] and parameters: {'classifier': 'RandomForest', 'rf_n_estimators': 430, 'rf_max_depth': 5, 'rf_min_samples_split': 0.41117374711856297, 'rf_min_samples_leaf': 0.12486265261511474, 'rf_max_features': 'log2', 'rf_random_state': 42}. \n",
      "[I 2024-05-13 11:03:54,972] Trial 110 finished with values: [0.9629629629629629, 0.25464853530182063] and parameters: {'classifier': 'RandomForest', 'rf_n_estimators': 820, 'rf_max_depth': 21, 'rf_min_samples_split': 0.1564640777450905, 'rf_min_samples_leaf': 0.22725220246474415, 'rf_max_features': 'sqrt', 'rf_random_state': 42}. \n",
      "[I 2024-05-13 11:03:55,259] Trial 111 finished with values: [0.3888888888888889, 0.0] and parameters: {'classifier': 'RandomForest', 'rf_n_estimators': 390, 'rf_max_depth': 16, 'rf_min_samples_split': 0.4484800982474516, 'rf_min_samples_leaf': 0.46475206085005105, 'rf_max_features': 'sqrt', 'rf_random_state': 42}. \n",
      "[I 2024-05-13 11:03:55,289] Trial 112 finished with values: [0.9629629629629629, 0.16488678481883512] and parameters: {'classifier': 'RandomForest', 'rf_n_estimators': 30, 'rf_max_depth': 3, 'rf_min_samples_split': 0.06749002276860026, 'rf_min_samples_leaf': 0.04205199236644989, 'rf_max_features': 'log2', 'rf_random_state': 42}. \n",
      "[I 2024-05-13 11:03:55,451] Trial 113 finished with values: [0.9629629629629629, 0.178553658499097] and parameters: {'classifier': 'RandomForest', 'rf_n_estimators': 200, 'rf_max_depth': 6, 'rf_min_samples_split': 0.18709965313362106, 'rf_min_samples_leaf': 0.09078672247474384, 'rf_max_features': 'log2', 'rf_random_state': 42}. \n",
      "[I 2024-05-13 11:03:56,108] Trial 114 finished with values: [0.3888888888888889, 0.0] and parameters: {'classifier': 'RandomForest', 'rf_n_estimators': 900, 'rf_max_depth': 15, 'rf_min_samples_split': 0.7351310824540288, 'rf_min_samples_leaf': 0.33626745846036954, 'rf_max_features': 'log2', 'rf_random_state': 42}. \n",
      "[I 2024-05-13 11:03:56,330] Trial 115 finished with values: [0.9629629629629629, 0.2140303840553821] and parameters: {'classifier': 'RandomForest', 'rf_n_estimators': 290, 'rf_max_depth': 20, 'rf_min_samples_split': 0.017898984761304193, 'rf_min_samples_leaf': 0.20131828337334343, 'rf_max_features': 'log2', 'rf_random_state': 42}. \n",
      "[I 2024-05-13 11:03:56,589] Trial 116 finished with values: [0.9444444444444444, 0.2527111420573144] and parameters: {'classifier': 'RandomForest', 'rf_n_estimators': 340, 'rf_max_depth': 30, 'rf_min_samples_split': 0.5778690025173715, 'rf_min_samples_leaf': 0.24506911942005763, 'rf_max_features': 'log2', 'rf_random_state': 42}. \n",
      "[I 2024-05-13 11:03:57,056] Trial 117 finished with values: [0.3888888888888889, 0.0] and parameters: {'classifier': 'RandomForest', 'rf_n_estimators': 640, 'rf_max_depth': 24, 'rf_min_samples_split': 0.8496445591108486, 'rf_min_samples_leaf': 0.42026657762370684, 'rf_max_features': 'log2', 'rf_random_state': 42}. \n",
      "[I 2024-05-13 11:03:57,273] Trial 118 finished with values: [0.9629629629629629, 0.21942286006139655] and parameters: {'classifier': 'RandomForest', 'rf_n_estimators': 280, 'rf_max_depth': 17, 'rf_min_samples_split': 0.0944484205194064, 'rf_min_samples_leaf': 0.1970143505398502, 'rf_max_features': 'log2', 'rf_random_state': 42}. \n",
      "[I 2024-05-13 11:03:57,890] Trial 119 finished with values: [0.3888888888888889, 0.0] and parameters: {'classifier': 'RandomForest', 'rf_n_estimators': 830, 'rf_max_depth': 11, 'rf_min_samples_split': 0.22708265113987827, 'rf_min_samples_leaf': 0.37230699163205383, 'rf_max_features': 'sqrt', 'rf_random_state': 42}. \n",
      "[I 2024-05-13 11:03:58,135] Trial 120 finished with values: [0.3888888888888889, 0.0] and parameters: {'classifier': 'RandomForest', 'rf_n_estimators': 330, 'rf_max_depth': 11, 'rf_min_samples_split': 0.2995394026782013, 'rf_min_samples_leaf': 0.4804368495267612, 'rf_max_features': 'sqrt', 'rf_random_state': 42}. \n",
      "[I 2024-05-13 11:03:58,859] Trial 121 finished with values: [0.3888888888888889, 0.6226734091264625] and parameters: {'classifier': 'RandomForest', 'rf_n_estimators': 1000, 'rf_max_depth': 14, 'rf_min_samples_split': 0.7094291498756555, 'rf_min_samples_leaf': 0.2871509688828831, 'rf_max_features': 'sqrt', 'rf_random_state': 42}. \n",
      "[I 2024-05-13 11:03:59,463] Trial 122 finished with values: [0.9629629629629629, 0.2159880994125889] and parameters: {'classifier': 'RandomForest', 'rf_n_estimators': 800, 'rf_max_depth': 23, 'rf_min_samples_split': 0.399318424316309, 'rf_min_samples_leaf': 0.06953127003982187, 'rf_max_features': 'log2', 'rf_random_state': 42}. \n",
      "[I 2024-05-13 11:04:00,078] Trial 123 finished with values: [0.9814814814814815, 0.2649180546960551] and parameters: {'classifier': 'RandomForest', 'rf_n_estimators': 820, 'rf_max_depth': 26, 'rf_min_samples_split': 0.5956417352758234, 'rf_min_samples_leaf': 0.06487138484045114, 'rf_max_features': 'sqrt', 'rf_random_state': 42}. \n",
      "[I 2024-05-13 11:04:00,494] Trial 124 finished with values: [0.9259259259259259, 0.26398126457665794] and parameters: {'classifier': 'RandomForest', 'rf_n_estimators': 550, 'rf_max_depth': 12, 'rf_min_samples_split': 0.6125897173981664, 'rf_min_samples_leaf': 0.259041076605792, 'rf_max_features': 'sqrt', 'rf_random_state': 42}. \n",
      "[I 2024-05-13 11:04:01,063] Trial 125 finished with values: [0.9444444444444444, 0.2622879390537506] and parameters: {'classifier': 'RandomForest', 'rf_n_estimators': 760, 'rf_max_depth': 22, 'rf_min_samples_split': 0.07921327687399864, 'rf_min_samples_leaf': 0.27066470577163537, 'rf_max_features': 'log2', 'rf_random_state': 42}. \n",
      "[I 2024-05-13 11:04:01,281] Trial 126 finished with values: [0.9629629629629629, 0.1766498496355684] and parameters: {'classifier': 'RandomForest', 'rf_n_estimators': 270, 'rf_max_depth': 31, 'rf_min_samples_split': 0.17353547624285934, 'rf_min_samples_leaf': 0.0525983347637302, 'rf_max_features': 'sqrt', 'rf_random_state': 42}. \n",
      "[I 2024-05-13 11:04:01,409] Trial 127 finished with values: [0.3888888888888889, 0.0] and parameters: {'classifier': 'RandomForest', 'rf_n_estimators': 170, 'rf_max_depth': 30, 'rf_min_samples_split': 0.30145630381741306, 'rf_min_samples_leaf': 0.4358432891212546, 'rf_max_features': 'sqrt', 'rf_random_state': 42}. \n",
      "[I 2024-05-13 11:04:01,558] Trial 128 finished with values: [0.3888888888888889, 0.0] and parameters: {'classifier': 'RandomForest', 'rf_n_estimators': 200, 'rf_max_depth': 27, 'rf_min_samples_split': 0.6748089058309125, 'rf_min_samples_leaf': 0.4467360733593334, 'rf_max_features': 'sqrt', 'rf_random_state': 42}. \n",
      "[I 2024-05-13 11:04:02,227] Trial 129 finished with values: [0.3888888888888889, 0.0] and parameters: {'classifier': 'RandomForest', 'rf_n_estimators': 920, 'rf_max_depth': 5, 'rf_min_samples_split': 0.9487008657483402, 'rf_min_samples_leaf': 0.23779698719215644, 'rf_max_features': 'sqrt', 'rf_random_state': 42}. \n",
      "[I 2024-05-13 11:04:02,604] Trial 130 finished with values: [0.3888888888888889, 0.0] and parameters: {'classifier': 'RandomForest', 'rf_n_estimators': 510, 'rf_max_depth': 5, 'rf_min_samples_split': 0.5190972945354206, 'rf_min_samples_leaf': 0.35539637579613875, 'rf_max_features': 'sqrt', 'rf_random_state': 42}. \n",
      "[I 2024-05-13 11:04:02,899] Trial 131 finished with values: [0.9629629629629629, 0.1709642848118368] and parameters: {'classifier': 'RandomForest', 'rf_n_estimators': 370, 'rf_max_depth': 16, 'rf_min_samples_split': 0.17238916624455197, 'rf_min_samples_leaf': 0.05228449644100793, 'rf_max_features': 'sqrt', 'rf_random_state': 42}. \n",
      "[I 2024-05-13 11:04:03,141] Trial 132 finished with values: [0.3888888888888889, 0.0] and parameters: {'classifier': 'RandomForest', 'rf_n_estimators': 330, 'rf_max_depth': 30, 'rf_min_samples_split': 0.8808158589354241, 'rf_min_samples_leaf': 0.3891793004321504, 'rf_max_features': 'log2', 'rf_random_state': 42}. \n",
      "[I 2024-05-13 11:04:03,238] Trial 133 finished with values: [0.9629629629629629, 0.21575423659122683] and parameters: {'classifier': 'RandomForest', 'rf_n_estimators': 120, 'rf_max_depth': 29, 'rf_min_samples_split': 0.24547807729040091, 'rf_min_samples_leaf': 0.14541234258605573, 'rf_max_features': 'log2', 'rf_random_state': 42}. \n",
      "[I 2024-05-13 11:04:03,962] Trial 134 finished with values: [0.3888888888888889, 0.0] and parameters: {'classifier': 'RandomForest', 'rf_n_estimators': 1000, 'rf_max_depth': 25, 'rf_min_samples_split': 0.5873527980368516, 'rf_min_samples_leaf': 0.38626366280889585, 'rf_max_features': 'sqrt', 'rf_random_state': 42}. \n",
      "[I 2024-05-13 11:04:04,686] Trial 135 finished with values: [0.3888888888888889, 0.0] and parameters: {'classifier': 'RandomForest', 'rf_n_estimators': 990, 'rf_max_depth': 4, 'rf_min_samples_split': 0.9294441933694808, 'rf_min_samples_leaf': 0.06700437773267201, 'rf_max_features': 'log2', 'rf_random_state': 42}. \n",
      "[I 2024-05-13 11:04:04,911] Trial 136 finished with values: [0.3888888888888889, 0.0] and parameters: {'classifier': 'RandomForest', 'rf_n_estimators': 300, 'rf_max_depth': 25, 'rf_min_samples_split': 0.09652177726747603, 'rf_min_samples_leaf': 0.3946197917910829, 'rf_max_features': 'log2', 'rf_random_state': 42}. \n",
      "[I 2024-05-13 11:04:05,286] Trial 137 finished with values: [0.6666666666666666, 0.2810153179013787] and parameters: {'classifier': 'RandomForest', 'rf_n_estimators': 510, 'rf_max_depth': 16, 'rf_min_samples_split': 0.22839917729531162, 'rf_min_samples_leaf': 0.3212000965233023, 'rf_max_features': 'sqrt', 'rf_random_state': 42}. \n",
      "[I 2024-05-13 11:04:05,847] Trial 138 finished with values: [0.3888888888888889, 0.0] and parameters: {'classifier': 'RandomForest', 'rf_n_estimators': 770, 'rf_max_depth': 9, 'rf_min_samples_split': 0.9052676031341352, 'rf_min_samples_leaf': 0.3455318492536782, 'rf_max_features': 'sqrt', 'rf_random_state': 42}. \n",
      "[I 2024-05-13 11:04:06,541] Trial 139 finished with values: [0.3888888888888889, 0.5018211337651945] and parameters: {'classifier': 'RandomForest', 'rf_n_estimators': 960, 'rf_max_depth': 25, 'rf_min_samples_split': 0.11946594789759972, 'rf_min_samples_leaf': 0.3447289709226458, 'rf_max_features': 'log2', 'rf_random_state': 42}. \n",
      "[I 2024-05-13 11:04:06,955] Trial 140 finished with values: [0.3888888888888889, 0.2959294739786912] and parameters: {'classifier': 'RandomForest', 'rf_n_estimators': 570, 'rf_max_depth': 9, 'rf_min_samples_split': 0.674970008256812, 'rf_min_samples_leaf': 0.10112854630803883, 'rf_max_features': 'log2', 'rf_random_state': 42}. \n",
      "[I 2024-05-13 11:04:07,110] Trial 141 finished with values: [0.3888888888888889, 0.0] and parameters: {'classifier': 'RandomForest', 'rf_n_estimators': 210, 'rf_max_depth': 14, 'rf_min_samples_split': 0.786445685354067, 'rf_min_samples_leaf': 0.05212393940739756, 'rf_max_features': 'log2', 'rf_random_state': 42}. \n",
      "[I 2024-05-13 11:04:07,349] Trial 142 finished with values: [0.9629629629629629, 0.24122926748544826] and parameters: {'classifier': 'RandomForest', 'rf_n_estimators': 320, 'rf_max_depth': 18, 'rf_min_samples_split': 0.24110535958930798, 'rf_min_samples_leaf': 0.214922826298813, 'rf_max_features': 'sqrt', 'rf_random_state': 42}. \n",
      "[I 2024-05-13 11:04:07,413] Trial 143 finished with values: [0.9629629629629629, 0.20945579472030484] and parameters: {'classifier': 'RandomForest', 'rf_n_estimators': 80, 'rf_max_depth': 20, 'rf_min_samples_split': 0.3526056501531126, 'rf_min_samples_leaf': 0.03088990342758826, 'rf_max_features': 'sqrt', 'rf_random_state': 42}. \n",
      "[I 2024-05-13 11:04:07,876] Trial 144 finished with values: [0.3888888888888889, 0.0] and parameters: {'classifier': 'RandomForest', 'rf_n_estimators': 650, 'rf_max_depth': 5, 'rf_min_samples_split': 0.5762113137228739, 'rf_min_samples_leaf': 0.43406816598892145, 'rf_max_features': 'sqrt', 'rf_random_state': 42}. \n",
      "[I 2024-05-13 11:04:08,384] Trial 145 finished with values: [0.9629629629629629, 0.17141255627658336] and parameters: {'classifier': 'RandomForest', 'rf_n_estimators': 640, 'rf_max_depth': 11, 'rf_min_samples_split': 0.030846624598580882, 'rf_min_samples_leaf': 0.045992893291507006, 'rf_max_features': 'log2', 'rf_random_state': 42}. \n",
      "[I 2024-05-13 11:04:08,781] Trial 146 finished with values: [0.9629629629629629, 0.21961244988269202] and parameters: {'classifier': 'RandomForest', 'rf_n_estimators': 520, 'rf_max_depth': 3, 'rf_min_samples_split': 0.4124631702399766, 'rf_min_samples_leaf': 0.08756185981490906, 'rf_max_features': 'log2', 'rf_random_state': 42}. \n",
      "[I 2024-05-13 11:04:08,947] Trial 147 finished with values: [0.3888888888888889, 0.0] and parameters: {'classifier': 'RandomForest', 'rf_n_estimators': 220, 'rf_max_depth': 11, 'rf_min_samples_split': 0.5830668308220297, 'rf_min_samples_leaf': 0.37978178020677883, 'rf_max_features': 'sqrt', 'rf_random_state': 42}. \n",
      "[I 2024-05-13 11:04:09,106] Trial 148 finished with values: [0.3888888888888889, 0.0] and parameters: {'classifier': 'RandomForest', 'rf_n_estimators': 210, 'rf_max_depth': 26, 'rf_min_samples_split': 0.5852960759607457, 'rf_min_samples_leaf': 0.41303332161471906, 'rf_max_features': 'log2', 'rf_random_state': 42}. \n",
      "[I 2024-05-13 11:04:09,337] Trial 149 finished with values: [0.3888888888888889, 0.0] and parameters: {'classifier': 'RandomForest', 'rf_n_estimators': 310, 'rf_max_depth': 29, 'rf_min_samples_split': 0.7046957150001447, 'rf_min_samples_leaf': 0.4185501351393687, 'rf_max_features': 'log2', 'rf_random_state': 42}. \n",
      "[I 2024-05-13 11:04:09,489] Trial 150 finished with values: [0.3888888888888889, 0.0] and parameters: {'classifier': 'RandomForest', 'rf_n_estimators': 200, 'rf_max_depth': 28, 'rf_min_samples_split': 0.9243644184904786, 'rf_min_samples_leaf': 0.15189458087960314, 'rf_max_features': 'sqrt', 'rf_random_state': 42}. \n",
      "[I 2024-05-13 11:04:09,643] Trial 151 finished with values: [0.3888888888888889, 0.0] and parameters: {'classifier': 'RandomForest', 'rf_n_estimators': 200, 'rf_max_depth': 11, 'rf_min_samples_split': 0.039998722184888424, 'rf_min_samples_leaf': 0.40039369099717353, 'rf_max_features': 'sqrt', 'rf_random_state': 42}. \n",
      "[I 2024-05-13 11:04:09,761] Trial 152 finished with values: [0.9814814814814815, 0.18049323936257433] and parameters: {'classifier': 'RandomForest', 'rf_n_estimators': 150, 'rf_max_depth': 27, 'rf_min_samples_split': 0.1512860792804717, 'rf_min_samples_leaf': 0.03723114860818917, 'rf_max_features': 'sqrt', 'rf_random_state': 42}. \n",
      "[I 2024-05-13 11:04:10,409] Trial 153 finished with values: [0.6481481481481481, 0.3104875625664837] and parameters: {'classifier': 'RandomForest', 'rf_n_estimators': 880, 'rf_max_depth': 13, 'rf_min_samples_split': 0.6497172551843408, 'rf_min_samples_leaf': 0.2504741589010275, 'rf_max_features': 'log2', 'rf_random_state': 42}. \n",
      "[I 2024-05-13 11:04:11,066] Trial 154 finished with values: [0.3888888888888889, 0.3127223290956368] and parameters: {'classifier': 'RandomForest', 'rf_n_estimators': 880, 'rf_max_depth': 13, 'rf_min_samples_split': 0.6621339729845614, 'rf_min_samples_leaf': 0.01188739248838297, 'rf_max_features': 'log2', 'rf_random_state': 42}. \n",
      "[I 2024-05-13 11:04:11,732] Trial 155 finished with values: [0.6111111111111112, 0.32879125068500814] and parameters: {'classifier': 'RandomForest', 'rf_n_estimators': 890, 'rf_max_depth': 13, 'rf_min_samples_split': 0.6586510362671836, 'rf_min_samples_leaf': 0.2498664197559379, 'rf_max_features': 'log2', 'rf_random_state': 42}. \n",
      "[I 2024-05-13 11:04:12,356] Trial 156 finished with values: [0.3888888888888889, 1.0] and parameters: {'classifier': 'RandomForest', 'rf_n_estimators': 840, 'rf_max_depth': 13, 'rf_min_samples_split': 0.7165843309799542, 'rf_min_samples_leaf': 0.2493995719038865, 'rf_max_features': 'log2', 'rf_random_state': 42}. \n",
      "[I 2024-05-13 11:04:12,990] Trial 157 finished with values: [0.8333333333333334, 0.2706504001884663] and parameters: {'classifier': 'RandomForest', 'rf_n_estimators': 840, 'rf_max_depth': 15, 'rf_min_samples_split': 0.6398254866552038, 'rf_min_samples_leaf': 0.24933022548773334, 'rf_max_features': 'log2', 'rf_random_state': 42}. \n",
      "[I 2024-05-13 11:04:13,659] Trial 158 finished with values: [0.3888888888888889, 1.0] and parameters: {'classifier': 'RandomForest', 'rf_n_estimators': 910, 'rf_max_depth': 10, 'rf_min_samples_split': 0.7146693957434491, 'rf_min_samples_leaf': 0.21643946946885037, 'rf_max_features': 'log2', 'rf_random_state': 42}. \n",
      "[I 2024-05-13 11:04:14,316] Trial 159 finished with values: [0.3888888888888889, 0.39378781452479206] and parameters: {'classifier': 'RandomForest', 'rf_n_estimators': 890, 'rf_max_depth': 10, 'rf_min_samples_split': 0.6716583784815802, 'rf_min_samples_leaf': 0.2501004600932231, 'rf_max_features': 'log2', 'rf_random_state': 42}. \n",
      "[I 2024-05-13 11:04:14,986] Trial 160 finished with values: [0.3888888888888889, 1.0] and parameters: {'classifier': 'RandomForest', 'rf_n_estimators': 900, 'rf_max_depth': 13, 'rf_min_samples_split': 0.7205974468620979, 'rf_min_samples_leaf': 0.28414339461651417, 'rf_max_features': 'log2', 'rf_random_state': 42}. \n",
      "[I 2024-05-13 11:04:15,669] Trial 161 finished with values: [0.9814814814814815, 0.25196943433899643] and parameters: {'classifier': 'RandomForest', 'rf_n_estimators': 900, 'rf_max_depth': 14, 'rf_min_samples_split': 0.5540132068476193, 'rf_min_samples_leaf': 0.21513525539611236, 'rf_max_features': 'log2', 'rf_random_state': 42}. \n",
      "[I 2024-05-13 11:04:16,327] Trial 162 finished with values: [0.6481481481481481, 0.3104875625664837] and parameters: {'classifier': 'RandomForest', 'rf_n_estimators': 880, 'rf_max_depth': 13, 'rf_min_samples_split': 0.6457746077385234, 'rf_min_samples_leaf': 0.25188107299962614, 'rf_max_features': 'log2', 'rf_random_state': 42}. \n",
      "[I 2024-05-13 11:04:16,985] Trial 163 finished with values: [0.3888888888888889, 1.0] and parameters: {'classifier': 'RandomForest', 'rf_n_estimators': 880, 'rf_max_depth': 13, 'rf_min_samples_split': 0.7254844777926237, 'rf_min_samples_leaf': 0.28325527253124144, 'rf_max_features': 'log2', 'rf_random_state': 42}. \n",
      "[I 2024-05-13 11:04:17,551] Trial 164 finished with values: [0.9814814814814815, 0.26342333391411066] and parameters: {'classifier': 'RandomForest', 'rf_n_estimators': 740, 'rf_max_depth': 18, 'rf_min_samples_split': 0.5684687545392222, 'rf_min_samples_leaf': 0.07735228888520787, 'rf_max_features': 'sqrt', 'rf_random_state': 42}. \n",
      "[I 2024-05-13 11:04:18,234] Trial 165 finished with values: [0.3888888888888889, 1.0] and parameters: {'classifier': 'RandomForest', 'rf_n_estimators': 920, 'rf_max_depth': 26, 'rf_min_samples_split': 0.7185857467444768, 'rf_min_samples_leaf': 0.0248701044623958, 'rf_max_features': 'sqrt', 'rf_random_state': 42}. \n",
      "[I 2024-05-13 11:04:18,933] Trial 166 finished with values: [0.9444444444444444, 0.26096389245841045] and parameters: {'classifier': 'RandomForest', 'rf_n_estimators': 930, 'rf_max_depth': 26, 'rf_min_samples_split': 0.5618753014535546, 'rf_min_samples_leaf': 0.2870364865681971, 'rf_max_features': 'sqrt', 'rf_random_state': 42}. \n",
      "[I 2024-05-13 11:04:19,426] Trial 167 finished with values: [0.9814814814814815, 0.25455518395310484] and parameters: {'classifier': 'RandomForest', 'rf_n_estimators': 610, 'rf_max_depth': 26, 'rf_min_samples_split': 0.4941608945263794, 'rf_min_samples_leaf': 0.017874715481853272, 'rf_max_features': 'sqrt', 'rf_random_state': 42}. \n",
      "[I 2024-05-13 11:04:20,113] Trial 168 finished with values: [0.9814814814814815, 0.2597812517031387] and parameters: {'classifier': 'RandomForest', 'rf_n_estimators': 910, 'rf_max_depth': 26, 'rf_min_samples_split': 0.5575423635000787, 'rf_min_samples_leaf': 0.13470265738672244, 'rf_max_features': 'sqrt', 'rf_random_state': 42}. \n",
      "[I 2024-05-13 11:04:20,656] Trial 169 finished with values: [0.3888888888888889, 1.0] and parameters: {'classifier': 'RandomForest', 'rf_n_estimators': 720, 'rf_max_depth': 27, 'rf_min_samples_split': 0.7218113854602224, 'rf_min_samples_leaf': 0.026147269181784172, 'rf_max_features': 'sqrt', 'rf_random_state': 42}. \n",
      "[I 2024-05-13 11:04:21,289] Trial 170 finished with values: [0.9814814814814815, 0.25092107747478454] and parameters: {'classifier': 'RandomForest', 'rf_n_estimators': 810, 'rf_max_depth': 27, 'rf_min_samples_split': 0.4734990491194524, 'rf_min_samples_leaf': 0.01947995779007068, 'rf_max_features': 'sqrt', 'rf_random_state': 42}. \n",
      "[I 2024-05-13 11:04:21,941] Trial 171 finished with values: [0.3888888888888889, 0.0] and parameters: {'classifier': 'RandomForest', 'rf_n_estimators': 880, 'rf_max_depth': 26, 'rf_min_samples_split': 0.7138591672090046, 'rf_min_samples_leaf': 0.4962198101000953, 'rf_max_features': 'sqrt', 'rf_random_state': 42}. \n",
      "[I 2024-05-13 11:04:22,590] Trial 172 finished with values: [0.9814814814814815, 0.25709482314306575] and parameters: {'classifier': 'RandomForest', 'rf_n_estimators': 850, 'rf_max_depth': 28, 'rf_min_samples_split': 0.5004320751116327, 'rf_min_samples_leaf': 0.11286226018927542, 'rf_max_features': 'sqrt', 'rf_random_state': 42}. \n",
      "[I 2024-05-13 11:04:23,206] Trial 173 finished with values: [0.3888888888888889, 0.0] and parameters: {'classifier': 'RandomForest', 'rf_n_estimators': 830, 'rf_max_depth': 26, 'rf_min_samples_split': 0.9661548902832675, 'rf_min_samples_leaf': 0.10317417863324266, 'rf_max_features': 'sqrt', 'rf_random_state': 42}. \n",
      "[I 2024-05-13 11:04:23,862] Trial 174 finished with values: [0.6296296296296297, 0.2869459644608774] and parameters: {'classifier': 'RandomForest', 'rf_n_estimators': 880, 'rf_max_depth': 25, 'rf_min_samples_split': 0.597508803640784, 'rf_min_samples_leaf': 0.3229381107197759, 'rf_max_features': 'sqrt', 'rf_random_state': 42}. \n",
      "[I 2024-05-13 11:04:24,410] Trial 175 finished with values: [0.9814814814814815, 0.24989961780580905] and parameters: {'classifier': 'RandomForest', 'rf_n_estimators': 710, 'rf_max_depth': 27, 'rf_min_samples_split': 0.47010182282849877, 'rf_min_samples_leaf': 0.023481320862915295, 'rf_max_features': 'sqrt', 'rf_random_state': 42}. \n",
      "[I 2024-05-13 11:04:24,959] Trial 176 finished with values: [0.7407407407407407, 0.2520709584507942] and parameters: {'classifier': 'RandomForest', 'rf_n_estimators': 730, 'rf_max_depth': 24, 'rf_min_samples_split': 0.6487285893800014, 'rf_min_samples_leaf': 0.017565849862294057, 'rf_max_features': 'sqrt', 'rf_random_state': 42}. \n",
      "[I 2024-05-13 11:04:25,622] Trial 177 finished with values: [0.9629629629629629, 0.18067632087927832] and parameters: {'classifier': 'RandomForest', 'rf_n_estimators': 840, 'rf_max_depth': 28, 'rf_min_samples_split': 0.1919665285106672, 'rf_min_samples_leaf': 0.05575987516693806, 'rf_max_features': 'sqrt', 'rf_random_state': 42}. \n",
      "[I 2024-05-13 11:04:26,286] Trial 178 finished with values: [0.3888888888888889, 0.5788598425788356] and parameters: {'classifier': 'RandomForest', 'rf_n_estimators': 900, 'rf_max_depth': 26, 'rf_min_samples_split': 0.6959884228562759, 'rf_min_samples_leaf': 0.09422037416683292, 'rf_max_features': 'sqrt', 'rf_random_state': 42}. \n",
      "[I 2024-05-13 11:04:26,887] Trial 179 finished with values: [0.3888888888888889, 0.0] and parameters: {'classifier': 'RandomForest', 'rf_n_estimators': 810, 'rf_max_depth': 25, 'rf_min_samples_split': 0.9545048491773529, 'rf_min_samples_leaf': 0.22609314019317292, 'rf_max_features': 'sqrt', 'rf_random_state': 42}. \n",
      "[I 2024-05-13 11:04:27,536] Trial 180 finished with values: [0.9814814814814815, 0.2610384069952465] and parameters: {'classifier': 'RandomForest', 'rf_n_estimators': 870, 'rf_max_depth': 27, 'rf_min_samples_split': 0.6260670619201751, 'rf_min_samples_leaf': 0.1598769698014542, 'rf_max_features': 'sqrt', 'rf_random_state': 42}. \n",
      "[I 2024-05-13 11:04:28,230] Trial 181 finished with values: [0.3888888888888889, 0.3366075465741091] and parameters: {'classifier': 'RandomForest', 'rf_n_estimators': 940, 'rf_max_depth': 26, 'rf_min_samples_split': 0.6645253494186691, 'rf_min_samples_leaf': 0.21306908166614255, 'rf_max_features': 'sqrt', 'rf_random_state': 42}. \n",
      "[I 2024-05-13 11:04:28,830] Trial 182 finished with values: [0.9629629629629629, 0.1919471618086016] and parameters: {'classifier': 'RandomForest', 'rf_n_estimators': 770, 'rf_max_depth': 25, 'rf_min_samples_split': 0.020190769997733726, 'rf_min_samples_leaf': 0.13489649310401913, 'rf_max_features': 'sqrt', 'rf_random_state': 42}. \n",
      "[I 2024-05-13 11:04:29,450] Trial 183 finished with values: [0.3888888888888889, 1.0] and parameters: {'classifier': 'RandomForest', 'rf_n_estimators': 840, 'rf_max_depth': 27, 'rf_min_samples_split': 0.7225459997378982, 'rf_min_samples_leaf': 0.08107821458859218, 'rf_max_features': 'sqrt', 'rf_random_state': 42}. \n",
      "[I 2024-05-13 11:04:30,077] Trial 184 finished with values: [0.3888888888888889, 1.0] and parameters: {'classifier': 'RandomForest', 'rf_n_estimators': 840, 'rf_max_depth': 27, 'rf_min_samples_split': 0.7219523353535012, 'rf_min_samples_leaf': 0.17176587439499902, 'rf_max_features': 'sqrt', 'rf_random_state': 42}. \n",
      "[I 2024-05-13 11:04:30,765] Trial 185 finished with values: [0.3888888888888889, 1.0] and parameters: {'classifier': 'RandomForest', 'rf_n_estimators': 910, 'rf_max_depth': 13, 'rf_min_samples_split': 0.7224270893644105, 'rf_min_samples_leaf': 0.25286403776373567, 'rf_max_features': 'log2', 'rf_random_state': 42}. \n",
      "[I 2024-05-13 11:04:31,474] Trial 186 finished with values: [0.3888888888888889, 1.0] and parameters: {'classifier': 'RandomForest', 'rf_n_estimators': 920, 'rf_max_depth': 13, 'rf_min_samples_split': 0.7208484479752097, 'rf_min_samples_leaf': 0.2455942870805237, 'rf_max_features': 'log2', 'rf_random_state': 42}. \n",
      "[I 2024-05-13 11:04:32,223] Trial 187 finished with values: [0.3888888888888889, 0.3764883169879525] and parameters: {'classifier': 'RandomForest', 'rf_n_estimators': 900, 'rf_max_depth': 10, 'rf_min_samples_split': 0.6897787573010719, 'rf_min_samples_leaf': 0.28298102754955, 'rf_max_features': 'log2', 'rf_random_state': 42}. \n",
      "[I 2024-05-13 11:04:32,967] Trial 188 finished with values: [0.3888888888888889, 0.0] and parameters: {'classifier': 'RandomForest', 'rf_n_estimators': 930, 'rf_max_depth': 15, 'rf_min_samples_split': 0.7904060727201379, 'rf_min_samples_leaf': 0.25436134900489354, 'rf_max_features': 'log2', 'rf_random_state': 42}. \n",
      "[I 2024-05-13 11:04:33,674] Trial 189 finished with values: [0.3888888888888889, 0.0] and parameters: {'classifier': 'RandomForest', 'rf_n_estimators': 860, 'rf_max_depth': 15, 'rf_min_samples_split': 0.7292678493666834, 'rf_min_samples_leaf': 0.20879470035224237, 'rf_max_features': 'log2', 'rf_random_state': 42}. \n",
      "[I 2024-05-13 11:04:34,380] Trial 190 finished with values: [0.3888888888888889, 1.0] and parameters: {'classifier': 'RandomForest', 'rf_n_estimators': 920, 'rf_max_depth': 13, 'rf_min_samples_split': 0.7194471643023715, 'rf_min_samples_leaf': 0.22583887614082637, 'rf_max_features': 'log2', 'rf_random_state': 42}. \n",
      "[I 2024-05-13 11:04:35,157] Trial 191 finished with values: [0.3888888888888889, 0.0] and parameters: {'classifier': 'RandomForest', 'rf_n_estimators': 900, 'rf_max_depth': 13, 'rf_min_samples_split': 0.8192111342433674, 'rf_min_samples_leaf': 0.28197544980290995, 'rf_max_features': 'log2', 'rf_random_state': 42}. \n",
      "[I 2024-05-13 11:04:35,929] Trial 192 finished with values: [0.7037037037037037, 0.2840716192324212] and parameters: {'classifier': 'RandomForest', 'rf_n_estimators': 880, 'rf_max_depth': 18, 'rf_min_samples_split': 0.6371229880877087, 'rf_min_samples_leaf': 0.26874914902748265, 'rf_max_features': 'log2', 'rf_random_state': 42}. \n",
      "[I 2024-05-13 11:04:36,689] Trial 193 finished with values: [0.3888888888888889, 0.0] and parameters: {'classifier': 'RandomForest', 'rf_n_estimators': 890, 'rf_max_depth': 13, 'rf_min_samples_split': 0.8459016850653354, 'rf_min_samples_leaf': 0.26588668362460466, 'rf_max_features': 'log2', 'rf_random_state': 42}. \n",
      "[I 2024-05-13 11:04:37,400] Trial 194 finished with values: [0.3888888888888889, 0.0] and parameters: {'classifier': 'RandomForest', 'rf_n_estimators': 860, 'rf_max_depth': 14, 'rf_min_samples_split': 0.9761040152176353, 'rf_min_samples_leaf': 0.29201363935338076, 'rf_max_features': 'log2', 'rf_random_state': 42}. \n",
      "[I 2024-05-13 11:04:38,154] Trial 195 finished with values: [0.9444444444444444, 0.2597612226310666] and parameters: {'classifier': 'RandomForest', 'rf_n_estimators': 880, 'rf_max_depth': 13, 'rf_min_samples_split': 0.01192544650048838, 'rf_min_samples_leaf': 0.27643784576448593, 'rf_max_features': 'log2', 'rf_random_state': 42}. \n",
      "[I 2024-05-13 11:04:38,860] Trial 196 finished with values: [0.3888888888888889, 0.0] and parameters: {'classifier': 'RandomForest', 'rf_n_estimators': 840, 'rf_max_depth': 12, 'rf_min_samples_split': 0.3168452075502649, 'rf_min_samples_leaf': 0.49771808869129097, 'rf_max_features': 'log2', 'rf_random_state': 42}. \n",
      "[I 2024-05-13 11:04:39,645] Trial 197 finished with values: [0.3888888888888889, 0.0] and parameters: {'classifier': 'RandomForest', 'rf_n_estimators': 940, 'rf_max_depth': 13, 'rf_min_samples_split': 0.9614400086690043, 'rf_min_samples_leaf': 0.25175975120771754, 'rf_max_features': 'log2', 'rf_random_state': 42}. \n",
      "[I 2024-05-13 11:04:40,418] Trial 198 finished with values: [0.9814814814814815, 0.22996676882433797] and parameters: {'classifier': 'RandomForest', 'rf_n_estimators': 900, 'rf_max_depth': 14, 'rf_min_samples_split': 0.13376572540737197, 'rf_min_samples_leaf': 0.20589052558584275, 'rf_max_features': 'log2', 'rf_random_state': 42}. \n",
      "[I 2024-05-13 11:04:41,177] Trial 199 finished with values: [0.3888888888888889, 0.0] and parameters: {'classifier': 'RandomForest', 'rf_n_estimators': 910, 'rf_max_depth': 12, 'rf_min_samples_split': 0.3274104645677547, 'rf_min_samples_leaf': 0.40265984688461864, 'rf_max_features': 'log2', 'rf_random_state': 42}. \n",
      "[I 2024-05-13 11:04:41,923] Trial 200 finished with values: [0.9629629629629629, 0.1995820777467735] and parameters: {'classifier': 'RandomForest', 'rf_n_estimators': 870, 'rf_max_depth': 10, 'rf_min_samples_split': 0.06836312321740623, 'rf_min_samples_leaf': 0.17022272560343885, 'rf_max_features': 'log2', 'rf_random_state': 42}. \n",
      "[I 2024-05-13 11:04:42,696] Trial 201 finished with values: [0.8888888888888888, 0.2605599106982487] and parameters: {'classifier': 'RandomForest', 'rf_n_estimators': 920, 'rf_max_depth': 16, 'rf_min_samples_split': 0.6386462133373833, 'rf_min_samples_leaf': 0.22318307378838426, 'rf_max_features': 'log2', 'rf_random_state': 42}. \n",
      "[I 2024-05-13 11:04:43,440] Trial 202 finished with values: [0.3888888888888889, 0.4826470308716484] and parameters: {'classifier': 'RandomForest', 'rf_n_estimators': 890, 'rf_max_depth': 18, 'rf_min_samples_split': 0.6991740852920634, 'rf_min_samples_leaf': 0.32397584372601085, 'rf_max_features': 'log2', 'rf_random_state': 42}. \n",
      "[I 2024-05-13 11:04:44,167] Trial 203 finished with values: [0.9629629629629629, 0.2527708098045466] and parameters: {'classifier': 'RandomForest', 'rf_n_estimators': 850, 'rf_max_depth': 17, 'rf_min_samples_split': 0.2741097309294647, 'rf_min_samples_leaf': 0.24698096811958556, 'rf_max_features': 'log2', 'rf_random_state': 42}. \n",
      "[I 2024-05-13 11:04:44,941] Trial 204 finished with values: [0.6296296296296297, 0.2883365744325025] and parameters: {'classifier': 'RandomForest', 'rf_n_estimators': 920, 'rf_max_depth': 18, 'rf_min_samples_split': 0.2029864699468023, 'rf_min_samples_leaf': 0.32783268118847003, 'rf_max_features': 'log2', 'rf_random_state': 42}. \n",
      "[I 2024-05-13 11:04:45,723] Trial 205 finished with values: [0.3888888888888889, 0.0] and parameters: {'classifier': 'RandomForest', 'rf_n_estimators': 940, 'rf_max_depth': 10, 'rf_min_samples_split': 0.7707749833844615, 'rf_min_samples_leaf': 0.18519129284470592, 'rf_max_features': 'log2', 'rf_random_state': 42}. \n",
      "[I 2024-05-13 11:04:46,434] Trial 206 finished with values: [0.3888888888888889, 0.0] and parameters: {'classifier': 'RandomForest', 'rf_n_estimators': 870, 'rf_max_depth': 16, 'rf_min_samples_split': 0.798402325691921, 'rf_min_samples_leaf': 0.16259065997993677, 'rf_max_features': 'log2', 'rf_random_state': 42}. \n",
      "[I 2024-05-13 11:04:47,201] Trial 207 finished with values: [0.9629629629629629, 0.19902059648626802] and parameters: {'classifier': 'RandomForest', 'rf_n_estimators': 910, 'rf_max_depth': 7, 'rf_min_samples_split': 0.2536150365772422, 'rf_min_samples_leaf': 0.17403658471290726, 'rf_max_features': 'log2', 'rf_random_state': 42}. \n",
      "[I 2024-05-13 11:04:47,911] Trial 208 finished with values: [0.3888888888888889, 0.3739162740396671] and parameters: {'classifier': 'RandomForest', 'rf_n_estimators': 840, 'rf_max_depth': 15, 'rf_min_samples_split': 0.6785858421564257, 'rf_min_samples_leaf': 0.2662121651718597, 'rf_max_features': 'log2', 'rf_random_state': 42}. \n",
      "[I 2024-05-13 11:04:48,656] Trial 209 finished with values: [0.3888888888888889, 0.0] and parameters: {'classifier': 'RandomForest', 'rf_n_estimators': 890, 'rf_max_depth': 10, 'rf_min_samples_split': 0.8085508464661866, 'rf_min_samples_leaf': 0.21084897365968625, 'rf_max_features': 'log2', 'rf_random_state': 42}. \n",
      "[I 2024-05-13 11:04:49,366] Trial 210 finished with values: [0.3888888888888889, 0.0] and parameters: {'classifier': 'RandomForest', 'rf_n_estimators': 920, 'rf_max_depth': 13, 'rf_min_samples_split': 0.8517394008046404, 'rf_min_samples_leaf': 0.18729323981138235, 'rf_max_features': 'log2', 'rf_random_state': 42}. \n",
      "[I 2024-05-13 11:04:50,030] Trial 211 finished with values: [0.3888888888888889, 1.0] and parameters: {'classifier': 'RandomForest', 'rf_n_estimators': 880, 'rf_max_depth': 13, 'rf_min_samples_split': 0.7142382096883513, 'rf_min_samples_leaf': 0.22664782520430188, 'rf_max_features': 'log2', 'rf_random_state': 42}. \n",
      "[I 2024-05-13 11:04:50,778] Trial 212 finished with values: [0.9629629629629629, 0.20061712596461856] and parameters: {'classifier': 'RandomForest', 'rf_n_estimators': 860, 'rf_max_depth': 17, 'rf_min_samples_split': 0.3375896248716636, 'rf_min_samples_leaf': 0.17421933037799298, 'rf_max_features': 'log2', 'rf_random_state': 42}. \n",
      "[I 2024-05-13 11:04:51,558] Trial 213 finished with values: [0.8703703703703703, 0.25621958392763067] and parameters: {'classifier': 'RandomForest', 'rf_n_estimators': 920, 'rf_max_depth': 15, 'rf_min_samples_split': 0.32631246109126755, 'rf_min_samples_leaf': 0.3136023761408799, 'rf_max_features': 'log2', 'rf_random_state': 42}. \n",
      "[I 2024-05-13 11:04:51,745] Trial 214 finished with values: [0.3888888888888889, 0.0] and parameters: {'classifier': 'RandomForest', 'rf_n_estimators': 80, 'rf_max_depth': 2, 'rf_min_samples_split': 0.3702527386528474, 'rf_min_samples_leaf': 0.4258702482898027, 'rf_max_features': 'log2', 'rf_random_state': 42}. \n",
      "[I 2024-05-13 11:04:52,497] Trial 215 finished with values: [0.3888888888888889, 0.0] and parameters: {'classifier': 'RandomForest', 'rf_n_estimators': 900, 'rf_max_depth': 16, 'rf_min_samples_split': 0.8315050658901872, 'rf_min_samples_leaf': 0.4884878201741397, 'rf_max_features': 'log2', 'rf_random_state': 42}. \n",
      "[I 2024-05-13 11:04:53,336] Trial 216 finished with values: [1.0, 0.1757037207368244] and parameters: {'classifier': 'RandomForest', 'rf_n_estimators': 940, 'rf_max_depth': 11, 'rf_min_samples_split': 0.11826874477845095, 'rf_min_samples_leaf': 0.012759764971506632, 'rf_max_features': 'log2', 'rf_random_state': 42}. \n",
      "[I 2024-05-13 11:04:54,061] Trial 217 finished with values: [0.9814814814814815, 0.26456363363312996] and parameters: {'classifier': 'RandomForest', 'rf_n_estimators': 820, 'rf_max_depth': 12, 'rf_min_samples_split': 0.6005649826292807, 'rf_min_samples_leaf': 0.08046884931592557, 'rf_max_features': 'log2', 'rf_random_state': 42}. \n",
      "[I 2024-05-13 11:04:54,793] Trial 218 finished with values: [0.9814814814814815, 0.2629970888990517] and parameters: {'classifier': 'RandomForest', 'rf_n_estimators': 840, 'rf_max_depth': 26, 'rf_min_samples_split': 0.5628952953998223, 'rf_min_samples_leaf': 0.09625071036401232, 'rf_max_features': 'log2', 'rf_random_state': 42}. \n",
      "[I 2024-05-13 11:04:55,590] Trial 219 finished with values: [0.3888888888888889, 0.3125153498729554] and parameters: {'classifier': 'RandomForest', 'rf_n_estimators': 950, 'rf_max_depth': 14, 'rf_min_samples_split': 0.11606859822772703, 'rf_min_samples_leaf': 0.33293260330182795, 'rf_max_features': 'log2', 'rf_random_state': 42}. \n",
      "[I 2024-05-13 11:04:56,347] Trial 220 finished with values: [0.3888888888888889, 1.0] and parameters: {'classifier': 'RandomForest', 'rf_n_estimators': 890, 'rf_max_depth': 27, 'rf_min_samples_split': 0.7236605070812756, 'rf_min_samples_leaf': 0.2962438414506324, 'rf_max_features': 'log2', 'rf_random_state': 42}. \n",
      "[I 2024-05-13 11:04:57,097] Trial 221 finished with values: [0.9814814814814815, 0.2632133514874695] and parameters: {'classifier': 'RandomForest', 'rf_n_estimators': 850, 'rf_max_depth': 26, 'rf_min_samples_split': 0.6278189788064454, 'rf_min_samples_leaf': 0.022273023368403075, 'rf_max_features': 'log2', 'rf_random_state': 42}. \n",
      "[I 2024-05-13 11:04:57,866] Trial 222 finished with values: [0.3888888888888889, 0.0] and parameters: {'classifier': 'RandomForest', 'rf_n_estimators': 880, 'rf_max_depth': 13, 'rf_min_samples_split': 0.8667116038343703, 'rf_min_samples_leaf': 0.22368962797713288, 'rf_max_features': 'log2', 'rf_random_state': 42}. \n",
      "[I 2024-05-13 11:04:58,619] Trial 223 finished with values: [0.3888888888888889, 1.0] and parameters: {'classifier': 'RandomForest', 'rf_n_estimators': 860, 'rf_max_depth': 11, 'rf_min_samples_split': 0.7147015169776921, 'rf_min_samples_leaf': 0.012015968319208786, 'rf_max_features': 'log2', 'rf_random_state': 42}. \n",
      "[I 2024-05-13 11:04:59,349] Trial 224 finished with values: [0.9629629629629629, 0.25645653139059854] and parameters: {'classifier': 'RandomForest', 'rf_n_estimators': 800, 'rf_max_depth': 12, 'rf_min_samples_split': 0.5063793060666634, 'rf_min_samples_leaf': 0.23278138867827253, 'rf_max_features': 'log2', 'rf_random_state': 42}. \n",
      "[I 2024-05-13 11:05:00,174] Trial 225 finished with values: [0.9629629629629629, 0.18898674574463648] and parameters: {'classifier': 'RandomForest', 'rf_n_estimators': 910, 'rf_max_depth': 25, 'rf_min_samples_split': 0.2574475433179887, 'rf_min_samples_leaf': 0.044845899612982895, 'rf_max_features': 'log2', 'rf_random_state': 42}. \n",
      "[I 2024-05-13 11:05:00,342] Trial 226 finished with values: [0.3888888888888889, 0.0] and parameters: {'classifier': 'RandomForest', 'rf_n_estimators': 10, 'rf_max_depth': 14, 'rf_min_samples_split': 0.7440529394344055, 'rf_min_samples_leaf': 0.24428487055742318, 'rf_max_features': 'log2', 'rf_random_state': 42}. \n",
      "[I 2024-05-13 11:05:01,141] Trial 227 finished with values: [0.9814814814814815, 0.24806248201737957] and parameters: {'classifier': 'RandomForest', 'rf_n_estimators': 880, 'rf_max_depth': 27, 'rf_min_samples_split': 0.4752723497103302, 'rf_min_samples_leaf': 0.011739788624257466, 'rf_max_features': 'log2', 'rf_random_state': 42}. \n",
      "[I 2024-05-13 11:05:01,950] Trial 228 finished with values: [0.3888888888888889, 0.31281179030461803] and parameters: {'classifier': 'RandomForest', 'rf_n_estimators': 930, 'rf_max_depth': 26, 'rf_min_samples_split': 0.6670666224220955, 'rf_min_samples_leaf': 0.05743004705165558, 'rf_max_features': 'log2', 'rf_random_state': 42}. \n",
      "[I 2024-05-13 11:05:02,710] Trial 229 finished with values: [0.9444444444444444, 0.2648873549306612] and parameters: {'classifier': 'RandomForest', 'rf_n_estimators': 820, 'rf_max_depth': 13, 'rf_min_samples_split': 0.564376232537744, 'rf_min_samples_leaf': 0.27737216283127225, 'rf_max_features': 'log2', 'rf_random_state': 42}. \n",
      "[I 2024-05-13 11:05:03,488] Trial 230 finished with values: [0.3888888888888889, 0.0] and parameters: {'classifier': 'RandomForest', 'rf_n_estimators': 890, 'rf_max_depth': 27, 'rf_min_samples_split': 0.7718625876590939, 'rf_min_samples_leaf': 0.22638780167720718, 'rf_max_features': 'log2', 'rf_random_state': 42}. \n",
      "[I 2024-05-13 11:05:04,424] Trial 231 finished with values: [0.3888888888888889, 1.0] and parameters: {'classifier': 'RandomForest', 'rf_n_estimators': 870, 'rf_max_depth': 26, 'rf_min_samples_split': 0.7165088204174491, 'rf_min_samples_leaf': 0.07955168396760225, 'rf_max_features': 'log2', 'rf_random_state': 42}. \n",
      "[I 2024-05-13 11:05:05,224] Trial 232 finished with values: [0.3888888888888889, 0.0] and parameters: {'classifier': 'RandomForest', 'rf_n_estimators': 900, 'rf_max_depth': 11, 'rf_min_samples_split': 0.5975517558323244, 'rf_min_samples_leaf': 0.4250669546434783, 'rf_max_features': 'log2', 'rf_random_state': 42}. \n",
      "[I 2024-05-13 11:05:05,977] Trial 233 finished with values: [0.3888888888888889, 0.0] and parameters: {'classifier': 'RandomForest', 'rf_n_estimators': 840, 'rf_max_depth': 12, 'rf_min_samples_split': 0.6880751827140837, 'rf_min_samples_leaf': 0.3719157625082281, 'rf_max_features': 'log2', 'rf_random_state': 42}. \n",
      "[I 2024-05-13 11:05:06,643] Trial 234 finished with values: [0.3888888888888889, 0.0] and parameters: {'classifier': 'RandomForest', 'rf_n_estimators': 710, 'rf_max_depth': 25, 'rf_min_samples_split': 0.8137632595630697, 'rf_min_samples_leaf': 0.2975393904528159, 'rf_max_features': 'log2', 'rf_random_state': 42}. \n",
      "[I 2024-05-13 11:05:07,414] Trial 235 finished with values: [0.3888888888888889, 0.0] and parameters: {'classifier': 'RandomForest', 'rf_n_estimators': 870, 'rf_max_depth': 14, 'rf_min_samples_split': 0.36280237625918776, 'rf_min_samples_leaf': 0.3983388873783117, 'rf_max_features': 'log2', 'rf_random_state': 42}. \n",
      "[I 2024-05-13 11:05:08,120] Trial 236 finished with values: [0.9629629629629629, 0.20462809841627216] and parameters: {'classifier': 'RandomForest', 'rf_n_estimators': 750, 'rf_max_depth': 27, 'rf_min_samples_split': 0.3417922760780623, 'rf_min_samples_leaf': 0.18970894984230965, 'rf_max_features': 'log2', 'rf_random_state': 42}. \n",
      "[I 2024-05-13 11:05:08,923] Trial 237 finished with values: [0.6296296296296297, 0.28595162379477324] and parameters: {'classifier': 'RandomForest', 'rf_n_estimators': 910, 'rf_max_depth': 26, 'rf_min_samples_split': 0.6478965805663716, 'rf_min_samples_leaf': 0.3287117847164012, 'rf_max_features': 'log2', 'rf_random_state': 42}. \n",
      "[I 2024-05-13 11:05:09,735] Trial 238 finished with values: [0.3888888888888889, 0.0] and parameters: {'classifier': 'RandomForest', 'rf_n_estimators': 940, 'rf_max_depth': 13, 'rf_min_samples_split': 0.8003064461558798, 'rf_min_samples_leaf': 0.49851397870332925, 'rf_max_features': 'log2', 'rf_random_state': 42}. \n",
      "[I 2024-05-13 11:05:10,519] Trial 239 finished with values: [0.9629629629629629, 0.2567181718722342] and parameters: {'classifier': 'RandomForest', 'rf_n_estimators': 880, 'rf_max_depth': 15, 'rf_min_samples_split': 0.6191444247737816, 'rf_min_samples_leaf': 0.20450519977478018, 'rf_max_features': 'log2', 'rf_random_state': 42}. \n",
      "[I 2024-05-13 11:05:11,284] Trial 240 finished with values: [0.3888888888888889, 1.0] and parameters: {'classifier': 'RandomForest', 'rf_n_estimators': 860, 'rf_max_depth': 11, 'rf_min_samples_split': 0.7253929643198096, 'rf_min_samples_leaf': 0.11383416600647693, 'rf_max_features': 'log2', 'rf_random_state': 42}. \n",
      "[I 2024-05-13 11:05:12,097] Trial 241 finished with values: [0.9629629629629629, 0.25414405306871135] and parameters: {'classifier': 'RandomForest', 'rf_n_estimators': 900, 'rf_max_depth': 12, 'rf_min_samples_split': 0.20524189849898955, 'rf_min_samples_leaf': 0.2418756930479126, 'rf_max_features': 'log2', 'rf_random_state': 42}. \n",
      "[I 2024-05-13 11:05:12,880] Trial 242 finished with values: [0.9444444444444444, 0.26433858333905724] and parameters: {'classifier': 'RandomForest', 'rf_n_estimators': 860, 'rf_max_depth': 13, 'rf_min_samples_split': 0.5536112527229158, 'rf_min_samples_leaf': 0.28976826446515336, 'rf_max_features': 'log2', 'rf_random_state': 42}. \n",
      "[I 2024-05-13 11:05:13,692] Trial 243 finished with values: [0.9629629629629629, 0.2542482960510901] and parameters: {'classifier': 'RandomForest', 'rf_n_estimators': 890, 'rf_max_depth': 12, 'rf_min_samples_split': 0.27223387112756314, 'rf_min_samples_leaf': 0.25798752278592374, 'rf_max_features': 'log2', 'rf_random_state': 42}. \n",
      "[I 2024-05-13 11:05:14,518] Trial 244 finished with values: [0.8703703703703703, 0.25621958392763067] and parameters: {'classifier': 'RandomForest', 'rf_n_estimators': 920, 'rf_max_depth': 14, 'rf_min_samples_split': 0.46560518171021686, 'rf_min_samples_leaf': 0.30782920975672085, 'rf_max_features': 'log2', 'rf_random_state': 42}. \n",
      "[I 2024-05-13 11:05:15,295] Trial 245 finished with values: [0.8703703703703703, 0.25951964012802886] and parameters: {'classifier': 'RandomForest', 'rf_n_estimators': 830, 'rf_max_depth': 26, 'rf_min_samples_split': 0.500890274794232, 'rf_min_samples_leaf': 0.31349748669686445, 'rf_max_features': 'log2', 'rf_random_state': 42}. \n",
      "[I 2024-05-13 11:05:16,104] Trial 246 finished with values: [0.9629629629629629, 0.19889914912019724] and parameters: {'classifier': 'RandomForest', 'rf_n_estimators': 850, 'rf_max_depth': 25, 'rf_min_samples_split': 0.3324713881769139, 'rf_min_samples_leaf': 0.15615465626786038, 'rf_max_features': 'log2', 'rf_random_state': 42}. \n",
      "[I 2024-05-13 11:05:16,925] Trial 247 finished with values: [0.9814814814814815, 0.26067630359808713] and parameters: {'classifier': 'RandomForest', 'rf_n_estimators': 890, 'rf_max_depth': 13, 'rf_min_samples_split': 0.5329224946596394, 'rf_min_samples_leaf': 0.055179598128835626, 'rf_max_features': 'log2', 'rf_random_state': 42}. \n",
      "[I 2024-05-13 11:05:17,730] Trial 248 finished with values: [0.3888888888888889, 0.3127223290956367] and parameters: {'classifier': 'RandomForest', 'rf_n_estimators': 870, 'rf_max_depth': 27, 'rf_min_samples_split': 0.6652229051585591, 'rf_min_samples_leaf': 0.09994464977143877, 'rf_max_features': 'log2', 'rf_random_state': 42}. \n",
      "[I 2024-05-13 11:05:18,464] Trial 249 finished with values: [0.9814814814814815, 0.2578048056969571] and parameters: {'classifier': 'RandomForest', 'rf_n_estimators': 780, 'rf_max_depth': 11, 'rf_min_samples_split': 0.48807477819568973, 'rf_min_samples_leaf': 0.02522138975340593, 'rf_max_features': 'log2', 'rf_random_state': 42}. \n",
      "[I 2024-05-13 11:05:19,257] Trial 250 finished with values: [0.3888888888888889, 1.0] and parameters: {'classifier': 'RandomForest', 'rf_n_estimators': 870, 'rf_max_depth': 26, 'rf_min_samples_split': 0.7113294497097357, 'rf_min_samples_leaf': 0.08225066075722248, 'rf_max_features': 'log2', 'rf_random_state': 42}. \n",
      "[I 2024-05-13 11:05:20,094] Trial 251 finished with values: [0.3888888888888889, 1.0] and parameters: {'classifier': 'RandomForest', 'rf_n_estimators': 920, 'rf_max_depth': 14, 'rf_min_samples_split': 0.719846733917592, 'rf_min_samples_leaf': 0.16515339779836374, 'rf_max_features': 'log2', 'rf_random_state': 42}. \n",
      "[I 2024-05-13 11:05:20,906] Trial 252 finished with values: [0.3888888888888889, 0.0] and parameters: {'classifier': 'RandomForest', 'rf_n_estimators': 890, 'rf_max_depth': 26, 'rf_min_samples_split': 0.8639416965636678, 'rf_min_samples_leaf': 0.0766177099533308, 'rf_max_features': 'log2', 'rf_random_state': 42}. \n",
      "[I 2024-05-13 11:05:21,723] Trial 253 finished with values: [0.3888888888888889, 1.0] and parameters: {'classifier': 'RandomForest', 'rf_n_estimators': 860, 'rf_max_depth': 13, 'rf_min_samples_split': 0.13383331830354867, 'rf_min_samples_leaf': 0.3616392367356819, 'rf_max_features': 'log2', 'rf_random_state': 42}. \n",
      "[I 2024-05-13 11:05:22,413] Trial 254 finished with values: [0.3888888888888889, 0.0] and parameters: {'classifier': 'RandomForest', 'rf_n_estimators': 670, 'rf_max_depth': 25, 'rf_min_samples_split': 0.8467092841532691, 'rf_min_samples_leaf': 0.03737466347651618, 'rf_max_features': 'log2', 'rf_random_state': 42}. \n",
      "[I 2024-05-13 11:05:23,170] Trial 255 finished with values: [0.9629629629629629, 0.19044627176373963] and parameters: {'classifier': 'RandomForest', 'rf_n_estimators': 720, 'rf_max_depth': 27, 'rf_min_samples_split': 0.18985506389180792, 'rf_min_samples_leaf': 0.13284745361114764, 'rf_max_features': 'log2', 'rf_random_state': 42}. \n",
      "[I 2024-05-13 11:05:24,037] Trial 256 finished with values: [0.9814814814814815, 0.2602700901857635] and parameters: {'classifier': 'RandomForest', 'rf_n_estimators': 910, 'rf_max_depth': 12, 'rf_min_samples_split': 0.5924156528746582, 'rf_min_samples_leaf': 0.10803610818598104, 'rf_max_features': 'log2', 'rf_random_state': 42}. \n",
      "[I 2024-05-13 11:05:24,921] Trial 257 finished with values: [0.9629629629629629, 0.2683652072451542] and parameters: {'classifier': 'RandomForest', 'rf_n_estimators': 950, 'rf_max_depth': 26, 'rf_min_samples_split': 0.6357915469317515, 'rf_min_samples_leaf': 0.010353768313471845, 'rf_max_features': 'sqrt', 'rf_random_state': 42}. \n",
      "[I 2024-05-13 11:05:25,868] Trial 258 finished with values: [1.0, 0.17548261833510048] and parameters: {'classifier': 'RandomForest', 'rf_n_estimators': 950, 'rf_max_depth': 11, 'rf_min_samples_split': 0.111011850733821, 'rf_min_samples_leaf': 0.01255390694072922, 'rf_max_features': 'log2', 'rf_random_state': 42}. \n",
      "[I 2024-05-13 11:05:26,715] Trial 259 finished with values: [0.3888888888888889, 0.0] and parameters: {'classifier': 'RandomForest', 'rf_n_estimators': 900, 'rf_max_depth': 15, 'rf_min_samples_split': 0.9727330017624454, 'rf_min_samples_leaf': 0.2973418585523776, 'rf_max_features': 'log2', 'rf_random_state': 42}. \n",
      "[I 2024-05-13 11:05:27,568] Trial 260 finished with values: [0.9444444444444444, 0.25697256667820445] and parameters: {'classifier': 'RandomForest', 'rf_n_estimators': 880, 'rf_max_depth': 13, 'rf_min_samples_split': 0.07667381255127143, 'rf_min_samples_leaf': 0.26815954296773764, 'rf_max_features': 'log2', 'rf_random_state': 42}. \n",
      "[I 2024-05-13 11:05:28,464] Trial 261 finished with values: [0.9814814814814815, 0.25025728569655326] and parameters: {'classifier': 'RandomForest', 'rf_n_estimators': 930, 'rf_max_depth': 14, 'rf_min_samples_split': 0.17206008505018822, 'rf_min_samples_leaf': 0.21932982674056437, 'rf_max_features': 'log2', 'rf_random_state': 42}. \n",
      "[I 2024-05-13 11:05:29,362] Trial 262 finished with values: [0.9629629629629629, 0.19902059648626802] and parameters: {'classifier': 'RandomForest', 'rf_n_estimators': 910, 'rf_max_depth': 12, 'rf_min_samples_split': 0.3157325403154708, 'rf_min_samples_leaf': 0.17581720199206807, 'rf_max_features': 'log2', 'rf_random_state': 42}. \n",
      "[I 2024-05-13 11:05:30,231] Trial 263 finished with values: [0.6296296296296297, 0.2869459644608774] and parameters: {'classifier': 'RandomForest', 'rf_n_estimators': 880, 'rf_max_depth': 14, 'rf_min_samples_split': 0.04764883215809257, 'rf_min_samples_leaf': 0.330476762556218, 'rf_max_features': 'log2', 'rf_random_state': 42}. \n",
      "[I 2024-05-13 11:05:31,107] Trial 264 finished with values: [0.3888888888888889, 0.0] and parameters: {'classifier': 'RandomForest', 'rf_n_estimators': 900, 'rf_max_depth': 13, 'rf_min_samples_split': 0.8004666951766681, 'rf_min_samples_leaf': 0.48896645489817947, 'rf_max_features': 'log2', 'rf_random_state': 42}. \n",
      "[I 2024-05-13 11:05:31,944] Trial 265 finished with values: [0.3888888888888889, 0.0] and parameters: {'classifier': 'RandomForest', 'rf_n_estimators': 870, 'rf_max_depth': 12, 'rf_min_samples_split': 0.9393999306236621, 'rf_min_samples_leaf': 0.24969239000038573, 'rf_max_features': 'log2', 'rf_random_state': 42}. \n",
      "[I 2024-05-13 11:05:32,835] Trial 266 finished with values: [0.3888888888888889, 0.0] and parameters: {'classifier': 'RandomForest', 'rf_n_estimators': 940, 'rf_max_depth': 13, 'rf_min_samples_split': 0.4280924609060845, 'rf_min_samples_leaf': 0.4062175287917941, 'rf_max_features': 'log2', 'rf_random_state': 42}. \n",
      "[I 2024-05-13 11:05:33,706] Trial 267 finished with values: [0.9629629629629629, 0.252317052893245] and parameters: {'classifier': 'RandomForest', 'rf_n_estimators': 890, 'rf_max_depth': 14, 'rf_min_samples_split': 0.3766671428312931, 'rf_min_samples_leaf': 0.23284369734406002, 'rf_max_features': 'log2', 'rf_random_state': 42}. \n",
      "[I 2024-05-13 11:05:34,582] Trial 268 finished with values: [0.3888888888888889, 0.0] and parameters: {'classifier': 'RandomForest', 'rf_n_estimators': 920, 'rf_max_depth': 15, 'rf_min_samples_split': 0.8350496634221107, 'rf_min_samples_leaf': 0.43706045370979474, 'rf_max_features': 'log2', 'rf_random_state': 42}. \n",
      "[I 2024-05-13 11:05:35,415] Trial 269 finished with values: [0.3888888888888889, 0.0] and parameters: {'classifier': 'RandomForest', 'rf_n_estimators': 860, 'rf_max_depth': 10, 'rf_min_samples_split': 0.8724291014851654, 'rf_min_samples_leaf': 0.35735632085031943, 'rf_max_features': 'log2', 'rf_random_state': 42}. \n",
      "[I 2024-05-13 11:05:36,334] Trial 270 finished with values: [1.0, 0.16953542365580243] and parameters: {'classifier': 'RandomForest', 'rf_n_estimators': 870, 'rf_max_depth': 11, 'rf_min_samples_split': 0.036396510657753484, 'rf_min_samples_leaf': 0.010109470255870272, 'rf_max_features': 'log2', 'rf_random_state': 42}. \n",
      "[I 2024-05-13 11:05:37,211] Trial 271 finished with values: [0.9444444444444444, 0.25585522660884985] and parameters: {'classifier': 'RandomForest', 'rf_n_estimators': 890, 'rf_max_depth': 11, 'rf_min_samples_split': 0.018103306611123027, 'rf_min_samples_leaf': 0.2594701483183113, 'rf_max_features': 'log2', 'rf_random_state': 42}. \n",
      "[I 2024-05-13 11:05:38,080] Trial 272 finished with values: [0.3888888888888889, 0.0] and parameters: {'classifier': 'RandomForest', 'rf_n_estimators': 910, 'rf_max_depth': 12, 'rf_min_samples_split': 0.7264660188584122, 'rf_min_samples_leaf': 0.41691230571896, 'rf_max_features': 'log2', 'rf_random_state': 42}. \n",
      "[I 2024-05-13 11:05:38,923] Trial 273 finished with values: [0.3888888888888889, 0.0] and parameters: {'classifier': 'RandomForest', 'rf_n_estimators': 860, 'rf_max_depth': 13, 'rf_min_samples_split': 0.9519488969905748, 'rf_min_samples_leaf': 0.11647806518356515, 'rf_max_features': 'log2', 'rf_random_state': 42}. \n",
      "[I 2024-05-13 11:05:39,779] Trial 274 finished with values: [0.3888888888888889, 0.38032638373420946] and parameters: {'classifier': 'RandomForest', 'rf_n_estimators': 890, 'rf_max_depth': 11, 'rf_min_samples_split': 0.6822865887736996, 'rf_min_samples_leaf': 0.15626912862466036, 'rf_max_features': 'log2', 'rf_random_state': 42}. \n",
      "[I 2024-05-13 11:05:40,074] Trial 275 finished with values: [0.9444444444444444, 0.19043076419090188] and parameters: {'classifier': 'RandomForest', 'rf_n_estimators': 60, 'rf_max_depth': 12, 'rf_min_samples_split': 0.21315181407360706, 'rf_min_samples_leaf': 0.18690877008246623, 'rf_max_features': 'log2', 'rf_random_state': 42}. \n",
      "[I 2024-05-13 11:05:40,965] Trial 276 finished with values: [0.6481481481481481, 0.2845947251656239] and parameters: {'classifier': 'RandomForest', 'rf_n_estimators': 910, 'rf_max_depth': 14, 'rf_min_samples_split': 0.6375866203154548, 'rf_min_samples_leaf': 0.32065141240521633, 'rf_max_features': 'log2', 'rf_random_state': 42}. \n",
      "[I 2024-05-13 11:05:41,825] Trial 277 finished with values: [0.9629629629629629, 0.2527708098045466] and parameters: {'classifier': 'RandomForest', 'rf_n_estimators': 850, 'rf_max_depth': 13, 'rf_min_samples_split': 0.29062313371457527, 'rf_min_samples_leaf': 0.24348120255836533, 'rf_max_features': 'log2', 'rf_random_state': 42}. \n",
      "[I 2024-05-13 11:05:42,681] Trial 278 finished with values: [0.3888888888888889, 0.0] and parameters: {'classifier': 'RandomForest', 'rf_n_estimators': 880, 'rf_max_depth': 12, 'rf_min_samples_split': 0.769693980166674, 'rf_min_samples_leaf': 0.42274909655245485, 'rf_max_features': 'log2', 'rf_random_state': 42}. \n",
      "[I 2024-05-13 11:05:43,250] Trial 279 finished with values: [0.9629629629629629, 0.2041931443583167] and parameters: {'classifier': 'RandomForest', 'rf_n_estimators': 450, 'rf_max_depth': 10, 'rf_min_samples_split': 0.3815448620079807, 'rf_min_samples_leaf': 0.13937065593216658, 'rf_max_features': 'log2', 'rf_random_state': 42}. \n",
      "[I 2024-05-13 11:05:44,155] Trial 280 finished with values: [0.9629629629629629, 0.1750990469030994] and parameters: {'classifier': 'RandomForest', 'rf_n_estimators': 880, 'rf_max_depth': 13, 'rf_min_samples_split': 0.07149351970600529, 'rf_min_samples_leaf': 0.08472703578684528, 'rf_max_features': 'log2', 'rf_random_state': 42}. \n",
      "[I 2024-05-13 11:05:45,007] Trial 281 finished with values: [0.3888888888888889, 1.0] and parameters: {'classifier': 'RandomForest', 'rf_n_estimators': 870, 'rf_max_depth': 13, 'rf_min_samples_split': 0.7177522281241839, 'rf_min_samples_leaf': 0.27843349749176777, 'rf_max_features': 'log2', 'rf_random_state': 42}. \n",
      "[I 2024-05-13 11:05:45,895] Trial 282 finished with values: [0.3888888888888889, 0.0] and parameters: {'classifier': 'RandomForest', 'rf_n_estimators': 900, 'rf_max_depth': 13, 'rf_min_samples_split': 0.7047957720201073, 'rf_min_samples_leaf': 0.4560735605249601, 'rf_max_features': 'log2', 'rf_random_state': 42}. \n",
      "[I 2024-05-13 11:05:46,806] Trial 283 finished with values: [0.3888888888888889, 0.0] and parameters: {'classifier': 'RandomForest', 'rf_n_estimators': 930, 'rf_max_depth': 13, 'rf_min_samples_split': 0.7469013180453659, 'rf_min_samples_leaf': 0.2849244245760332, 'rf_max_features': 'log2', 'rf_random_state': 42}. \n",
      "[I 2024-05-13 11:05:47,699] Trial 284 finished with values: [0.9629629629629629, 0.18759009964338125] and parameters: {'classifier': 'RandomForest', 'rf_n_estimators': 860, 'rf_max_depth': 13, 'rf_min_samples_split': 0.011924996243248553, 'rf_min_samples_leaf': 0.12542778425418286, 'rf_max_features': 'log2', 'rf_random_state': 42}. \n",
      "[I 2024-05-13 11:05:48,596] Trial 285 finished with values: [0.9814814814814815, 0.24273428703851085] and parameters: {'classifier': 'RandomForest', 'rf_n_estimators': 900, 'rf_max_depth': 13, 'rf_min_samples_split': 0.15655416594501614, 'rf_min_samples_leaf': 0.21343125526418422, 'rf_max_features': 'log2', 'rf_random_state': 42}. \n",
      "[I 2024-05-13 11:05:49,460] Trial 286 finished with values: [0.3888888888888889, 0.0] and parameters: {'classifier': 'RandomForest', 'rf_n_estimators': 870, 'rf_max_depth': 14, 'rf_min_samples_split': 0.1892189500905579, 'rf_min_samples_leaf': 0.47327143340111866, 'rf_max_features': 'log2', 'rf_random_state': 42}. \n",
      "[I 2024-05-13 11:05:50,362] Trial 287 finished with values: [0.8703703703703703, 0.25621958392763067] and parameters: {'classifier': 'RandomForest', 'rf_n_estimators': 920, 'rf_max_depth': 13, 'rf_min_samples_split': 0.43117819226954196, 'rf_min_samples_leaf': 0.3109962362189062, 'rf_max_features': 'log2', 'rf_random_state': 42}. \n",
      "[I 2024-05-13 11:05:51,256] Trial 288 finished with values: [0.9629629629629629, 0.21327049802483933] and parameters: {'classifier': 'RandomForest', 'rf_n_estimators': 890, 'rf_max_depth': 14, 'rf_min_samples_split': 0.26825687642355855, 'rf_min_samples_leaf': 0.2007469916819881, 'rf_max_features': 'log2', 'rf_random_state': 42}. \n",
      "[I 2024-05-13 11:05:52,115] Trial 289 finished with values: [0.3888888888888889, 0.0] and parameters: {'classifier': 'RandomForest', 'rf_n_estimators': 850, 'rf_max_depth': 13, 'rf_min_samples_split': 0.1212699220606252, 'rf_min_samples_leaf': 0.4071895848524799, 'rf_max_features': 'log2', 'rf_random_state': 42}. \n",
      "[I 2024-05-13 11:05:53,019] Trial 290 finished with values: [0.3888888888888889, 0.0] and parameters: {'classifier': 'RandomForest', 'rf_n_estimators': 920, 'rf_max_depth': 13, 'rf_min_samples_split': 0.7088424694839109, 'rf_min_samples_leaf': 0.36566679367196575, 'rf_max_features': 'log2', 'rf_random_state': 42}. \n",
      "[I 2024-05-13 11:05:53,903] Trial 291 finished with values: [0.6296296296296297, 0.337715756237255] and parameters: {'classifier': 'RandomForest', 'rf_n_estimators': 880, 'rf_max_depth': 13, 'rf_min_samples_split': 0.659308161604875, 'rf_min_samples_leaf': 0.31563428026506424, 'rf_max_features': 'log2', 'rf_random_state': 42}. \n",
      "[I 2024-05-13 11:05:54,181] Trial 292 finished with values: [0.3888888888888889, 0.0] and parameters: {'classifier': 'RandomForest', 'rf_n_estimators': 10, 'rf_max_depth': 14, 'rf_min_samples_split': 0.9966347417062464, 'rf_min_samples_leaf': 0.3503683052420681, 'rf_max_features': 'log2', 'rf_random_state': 42}. \n",
      "[I 2024-05-13 11:05:54,847] Trial 293 finished with values: [0.9629629629629629, 0.20135386718917592] and parameters: {'classifier': 'RandomForest', 'rf_n_estimators': 550, 'rf_max_depth': 13, 'rf_min_samples_split': 0.3636290780933337, 'rf_min_samples_leaf': 0.1634251949018475, 'rf_max_features': 'log2', 'rf_random_state': 42}. \n",
      "[I 2024-05-13 11:05:55,714] Trial 294 finished with values: [0.3888888888888889, 0.0] and parameters: {'classifier': 'RandomForest', 'rf_n_estimators': 840, 'rf_max_depth': 12, 'rf_min_samples_split': 0.2501164078808916, 'rf_min_samples_leaf': 0.3907675939010292, 'rf_max_features': 'log2', 'rf_random_state': 42}. \n",
      "[I 2024-05-13 11:05:56,605] Trial 295 finished with values: [0.3888888888888889, 0.0] and parameters: {'classifier': 'RandomForest', 'rf_n_estimators': 860, 'rf_max_depth': 14, 'rf_min_samples_split': 0.814956711914963, 'rf_min_samples_leaf': 0.31581641153100415, 'rf_max_features': 'log2', 'rf_random_state': 42}. \n",
      "[I 2024-05-13 11:05:57,486] Trial 296 finished with values: [0.3888888888888889, 0.0] and parameters: {'classifier': 'RandomForest', 'rf_n_estimators': 840, 'rf_max_depth': 13, 'rf_min_samples_split': 0.3259576463964823, 'rf_min_samples_leaf': 0.37306794432670615, 'rf_max_features': 'log2', 'rf_random_state': 42}. \n",
      "[I 2024-05-13 11:05:58,394] Trial 297 finished with values: [0.8703703703703703, 0.26906785133056144] and parameters: {'classifier': 'RandomForest', 'rf_n_estimators': 870, 'rf_max_depth': 12, 'rf_min_samples_split': 0.3893618725980613, 'rf_min_samples_leaf': 0.30099340722805734, 'rf_max_features': 'log2', 'rf_random_state': 42}. \n",
      "[I 2024-05-13 11:05:59,277] Trial 298 finished with values: [0.3888888888888889, 0.0] and parameters: {'classifier': 'RandomForest', 'rf_n_estimators': 860, 'rf_max_depth': 14, 'rf_min_samples_split': 0.14668309361494503, 'rf_min_samples_leaf': 0.39548275914566494, 'rf_max_features': 'log2', 'rf_random_state': 42}. \n",
      "[I 2024-05-13 11:06:00,162] Trial 299 finished with values: [0.3888888888888889, 0.0] and parameters: {'classifier': 'RandomForest', 'rf_n_estimators': 860, 'rf_max_depth': 13, 'rf_min_samples_split': 0.468678973815239, 'rf_min_samples_leaf': 0.36949450939210704, 'rf_max_features': 'log2', 'rf_random_state': 42}. \n",
      "[I 2024-05-13 11:06:01,058] Trial 300 finished with values: [0.3888888888888889, 0.0] and parameters: {'classifier': 'RandomForest', 'rf_n_estimators': 870, 'rf_max_depth': 13, 'rf_min_samples_split': 0.860955411578757, 'rf_min_samples_leaf': 0.3611480458445038, 'rf_max_features': 'log2', 'rf_random_state': 42}. \n",
      "[I 2024-05-13 11:06:01,957] Trial 301 finished with values: [0.3888888888888889, 0.0] and parameters: {'classifier': 'RandomForest', 'rf_n_estimators': 880, 'rf_max_depth': 13, 'rf_min_samples_split': 0.9620820301120621, 'rf_min_samples_leaf': 0.32249171357615797, 'rf_max_features': 'log2', 'rf_random_state': 42}. \n",
      "[I 2024-05-13 11:06:02,839] Trial 302 finished with values: [0.3888888888888889, 0.0] and parameters: {'classifier': 'RandomForest', 'rf_n_estimators': 850, 'rf_max_depth': 12, 'rf_min_samples_split': 0.7290918028140597, 'rf_min_samples_leaf': 0.33682485276418755, 'rf_max_features': 'log2', 'rf_random_state': 42}. \n",
      "[I 2024-05-13 11:06:03,725] Trial 303 finished with values: [0.3888888888888889, 0.0] and parameters: {'classifier': 'RandomForest', 'rf_n_estimators': 870, 'rf_max_depth': 13, 'rf_min_samples_split': 0.979814411360724, 'rf_min_samples_leaf': 0.29763184315940017, 'rf_max_features': 'log2', 'rf_random_state': 42}. \n",
      "[I 2024-05-13 11:06:04,587] Trial 304 finished with values: [0.3888888888888889, 0.31766667457003794] and parameters: {'classifier': 'RandomForest', 'rf_n_estimators': 830, 'rf_max_depth': 14, 'rf_min_samples_split': 0.13718245031204446, 'rf_min_samples_leaf': 0.33192524578515914, 'rf_max_features': 'log2', 'rf_random_state': 42}. \n",
      "[I 2024-05-13 11:06:05,485] Trial 305 finished with values: [0.3888888888888889, 0.0] and parameters: {'classifier': 'RandomForest', 'rf_n_estimators': 880, 'rf_max_depth': 12, 'rf_min_samples_split': 0.8265357309469947, 'rf_min_samples_leaf': 0.3525561919092275, 'rf_max_features': 'log2', 'rf_random_state': 42}. \n",
      "[I 2024-05-13 11:06:06,107] Trial 306 finished with values: [0.3888888888888889, 0.0] and parameters: {'classifier': 'RandomForest', 'rf_n_estimators': 490, 'rf_max_depth': 13, 'rf_min_samples_split': 0.7689742971861815, 'rf_min_samples_leaf': 0.2915823270702399, 'rf_max_features': 'log2', 'rf_random_state': 42}. \n",
      "[I 2024-05-13 11:06:06,801] Trial 307 finished with values: [0.3888888888888889, 0.0] and parameters: {'classifier': 'RandomForest', 'rf_n_estimators': 600, 'rf_max_depth': 13, 'rf_min_samples_split': 0.7834151000218321, 'rf_min_samples_leaf': 0.31887732760475684, 'rf_max_features': 'log2', 'rf_random_state': 42}. \n",
      "[I 2024-05-13 11:06:07,118] Trial 308 finished with values: [0.7962962962962963, 0.31198257655780415] and parameters: {'classifier': 'RandomForest', 'rf_n_estimators': 50, 'rf_max_depth': 14, 'rf_min_samples_split': 0.4932963490726643, 'rf_min_samples_leaf': 0.3114103725411804, 'rf_max_features': 'log2', 'rf_random_state': 42}. \n",
      "[I 2024-05-13 11:06:07,249] Trial 309 finished with values: [0.7962962962962963, 0.31198257655780415] and parameters: {'classifier': 'RandomForest', 'rf_n_estimators': 50, 'rf_max_depth': 15, 'rf_min_samples_split': 0.5024654371980812, 'rf_min_samples_leaf': 0.3110099253758641, 'rf_max_features': 'log2', 'rf_random_state': 42}. \n",
      "[I 2024-05-13 11:06:07,933] Trial 310 finished with values: [0.3888888888888889, 1.0] and parameters: {'classifier': 'RandomForest', 'rf_n_estimators': 850, 'rf_max_depth': 15, 'rf_min_samples_split': 0.7175338259370546, 'rf_min_samples_leaf': 0.30910338939414556, 'rf_max_features': 'log2', 'rf_random_state': 42}. \n",
      "[I 2024-05-13 11:06:08,824] Trial 311 finished with values: [0.9444444444444444, 0.26433858333905724] and parameters: {'classifier': 'RandomForest', 'rf_n_estimators': 860, 'rf_max_depth': 13, 'rf_min_samples_split': 0.4947125055756279, 'rf_min_samples_leaf': 0.28366667690832886, 'rf_max_features': 'log2', 'rf_random_state': 42}. \n",
      "[I 2024-05-13 11:06:09,418] Trial 312 finished with values: [0.42592592592592593, 0.27944102438297247] and parameters: {'classifier': 'RandomForest', 'rf_n_estimators': 450, 'rf_max_depth': 14, 'rf_min_samples_split': 0.3475277843859443, 'rf_min_samples_leaf': 0.32881562110799584, 'rf_max_features': 'log2', 'rf_random_state': 42}. \n",
      "[I 2024-05-13 11:06:10,154] Trial 313 finished with values: [0.3888888888888889, 0.0] and parameters: {'classifier': 'RandomForest', 'rf_n_estimators': 660, 'rf_max_depth': 12, 'rf_min_samples_split': 0.4610122094206952, 'rf_min_samples_leaf': 0.3643571110058915, 'rf_max_features': 'log2', 'rf_random_state': 42}. \n",
      "[I 2024-05-13 11:06:10,868] Trial 314 finished with values: [0.3888888888888889, 0.7298457229232027] and parameters: {'classifier': 'RandomForest', 'rf_n_estimators': 620, 'rf_max_depth': 2, 'rf_min_samples_split': 0.5111284356815466, 'rf_min_samples_leaf': 0.3506831964954026, 'rf_max_features': 'log2', 'rf_random_state': 42}. \n",
      "[I 2024-05-13 11:06:11,216] Trial 315 finished with values: [0.8518518518518519, 0.31337981615652366] and parameters: {'classifier': 'RandomForest', 'rf_n_estimators': 90, 'rf_max_depth': 13, 'rf_min_samples_split': 0.06592706545885862, 'rf_min_samples_leaf': 0.29872207414131924, 'rf_max_features': 'log2', 'rf_random_state': 42}. \n",
      "[I 2024-05-13 11:06:11,374] Trial 316 finished with values: [0.8703703703703703, 0.29744428450309657] and parameters: {'classifier': 'RandomForest', 'rf_n_estimators': 80, 'rf_max_depth': 14, 'rf_min_samples_split': 0.0742132129667389, 'rf_min_samples_leaf': 0.2936227188508526, 'rf_max_features': 'log2', 'rf_random_state': 42}. \n",
      "[I 2024-05-13 11:06:11,731] Trial 317 finished with values: [0.8518518518518519, 0.29128239284699653] and parameters: {'classifier': 'RandomForest', 'rf_n_estimators': 90, 'rf_max_depth': 14, 'rf_min_samples_split': 0.05852214963628444, 'rf_min_samples_leaf': 0.29670151156503644, 'rf_max_features': 'log2', 'rf_random_state': 42}. \n",
      "[I 2024-05-13 11:06:12,030] Trial 318 finished with values: [0.7222222222222222, 0.5212757663038606] and parameters: {'classifier': 'RandomForest', 'rf_n_estimators': 10, 'rf_max_depth': 12, 'rf_min_samples_split': 0.08457436897190215, 'rf_min_samples_leaf': 0.30109062693117816, 'rf_max_features': 'log2', 'rf_random_state': 42}. \n",
      "[I 2024-05-13 11:06:12,328] Trial 319 finished with values: [0.7222222222222222, 0.5212757663038606] and parameters: {'classifier': 'RandomForest', 'rf_n_estimators': 10, 'rf_max_depth': 11, 'rf_min_samples_split': 0.070556893630972, 'rf_min_samples_leaf': 0.30232876362640476, 'rf_max_features': 'log2', 'rf_random_state': 42}. \n",
      "[I 2024-05-13 11:06:12,653] Trial 320 finished with values: [0.7962962962962963, 0.31738244101177415] and parameters: {'classifier': 'RandomForest', 'rf_n_estimators': 30, 'rf_max_depth': 11, 'rf_min_samples_split': 0.10876891893008694, 'rf_min_samples_leaf': 0.3057417098778859, 'rf_max_features': 'log2', 'rf_random_state': 42}. \n",
      "[I 2024-05-13 11:06:13,001] Trial 321 finished with values: [0.8888888888888888, 0.34383998648989944] and parameters: {'classifier': 'RandomForest', 'rf_n_estimators': 20, 'rf_max_depth': 11, 'rf_min_samples_split': 0.08204831938434211, 'rf_min_samples_leaf': 0.2910442736033365, 'rf_max_features': 'log2', 'rf_random_state': 42}. \n",
      "[I 2024-05-13 11:06:13,112] Trial 322 finished with values: [0.8703703703703703, 0.47051082193525684] and parameters: {'classifier': 'RandomForest', 'rf_n_estimators': 10, 'rf_max_depth': 10, 'rf_min_samples_split': 0.09288721211004526, 'rf_min_samples_leaf': 0.28317085608864584, 'rf_max_features': 'log2', 'rf_random_state': 42}. \n",
      "[I 2024-05-13 11:06:13,434] Trial 323 finished with values: [0.8703703703703703, 0.47051082193525684] and parameters: {'classifier': 'RandomForest', 'rf_n_estimators': 10, 'rf_max_depth': 7, 'rf_min_samples_split': 0.09429377170255128, 'rf_min_samples_leaf': 0.285967474876826, 'rf_max_features': 'log2', 'rf_random_state': 42}. \n",
      "[I 2024-05-13 11:06:13,763] Trial 324 finished with values: [0.8888888888888888, 0.47928561996450547] and parameters: {'classifier': 'RandomForest', 'rf_n_estimators': 10, 'rf_max_depth': 7, 'rf_min_samples_split': 0.11850990808732993, 'rf_min_samples_leaf': 0.28006102094019036, 'rf_max_features': 'log2', 'rf_random_state': 42}. \n",
      "[I 2024-05-13 11:06:13,901] Trial 325 finished with values: [0.8703703703703703, 0.2711011996599566] and parameters: {'classifier': 'RandomForest', 'rf_n_estimators': 40, 'rf_max_depth': 7, 'rf_min_samples_split': 0.12693421639192493, 'rf_min_samples_leaf': 0.2758088080455051, 'rf_max_features': 'log2', 'rf_random_state': 42}. \n",
      "[I 2024-05-13 11:06:14,013] Trial 326 finished with values: [0.9074074074074074, 0.3636237720214712] and parameters: {'classifier': 'RandomForest', 'rf_n_estimators': 10, 'rf_max_depth': 7, 'rf_min_samples_split': 0.11933495976166077, 'rf_min_samples_leaf': 0.16645179701723578, 'rf_max_features': 'log2', 'rf_random_state': 42}. \n",
      "[I 2024-05-13 11:06:14,348] Trial 327 finished with values: [0.8888888888888888, 0.2680391048867571] and parameters: {'classifier': 'RandomForest', 'rf_n_estimators': 30, 'rf_max_depth': 7, 'rf_min_samples_split': 0.1171978988914807, 'rf_min_samples_leaf': 0.2773961334917002, 'rf_max_features': 'log2', 'rf_random_state': 42}. \n",
      "[I 2024-05-13 11:06:14,663] Trial 328 finished with values: [0.9259259259259259, 0.5065930746700583] and parameters: {'classifier': 'RandomForest', 'rf_n_estimators': 10, 'rf_max_depth': 6, 'rf_min_samples_split': 0.13677421739291806, 'rf_min_samples_leaf': 0.27282565701061573, 'rf_max_features': 'log2', 'rf_random_state': 42}. \n",
      "[I 2024-05-13 11:06:14,778] Trial 329 finished with values: [0.3888888888888889, 0.0] and parameters: {'classifier': 'RandomForest', 'rf_n_estimators': 10, 'rf_max_depth': 2, 'rf_min_samples_split': 0.15440355303900125, 'rf_min_samples_leaf': 0.4908920506690999, 'rf_max_features': 'log2', 'rf_random_state': 42}. \n",
      "[I 2024-05-13 11:06:14,910] Trial 330 finished with values: [0.8888888888888888, 0.29457462261085376] and parameters: {'classifier': 'RandomForest', 'rf_n_estimators': 30, 'rf_max_depth': 5, 'rf_min_samples_split': 0.14301420051114747, 'rf_min_samples_leaf': 0.2724777483738216, 'rf_max_features': 'log2', 'rf_random_state': 42}. \n",
      "[I 2024-05-13 11:06:15,034] Trial 331 finished with values: [0.3888888888888889, 0.0] and parameters: {'classifier': 'RandomForest', 'rf_n_estimators': 10, 'rf_max_depth': 6, 'rf_min_samples_split': 0.038360494071226534, 'rf_min_samples_leaf': 0.49839257080737154, 'rf_max_features': 'log2', 'rf_random_state': 42}. \n",
      "[I 2024-05-13 11:06:15,166] Trial 332 finished with values: [0.3888888888888889, 0.0] and parameters: {'classifier': 'RandomForest', 'rf_n_estimators': 30, 'rf_max_depth': 2, 'rf_min_samples_split': 0.17130044885425916, 'rf_min_samples_leaf': 0.47206067000699936, 'rf_max_features': 'log2', 'rf_random_state': 42}. \n",
      "[I 2024-05-13 11:06:15,284] Trial 333 finished with values: [0.3888888888888889, 0.0] and parameters: {'classifier': 'RandomForest', 'rf_n_estimators': 10, 'rf_max_depth': 4, 'rf_min_samples_split': 0.19609136933658905, 'rf_min_samples_leaf': 0.46299064561841674, 'rf_max_features': 'log2', 'rf_random_state': 42}. \n",
      "[I 2024-05-13 11:06:15,415] Trial 334 finished with values: [0.3888888888888889, 0.0] and parameters: {'classifier': 'RandomForest', 'rf_n_estimators': 30, 'rf_max_depth': 6, 'rf_min_samples_split': 0.16683925025773905, 'rf_min_samples_leaf': 0.4825529476604016, 'rf_max_features': 'log2', 'rf_random_state': 42}. \n",
      "[I 2024-05-13 11:06:15,533] Trial 335 finished with values: [0.9259259259259259, 0.3766774376576524] and parameters: {'classifier': 'RandomForest', 'rf_n_estimators': 10, 'rf_max_depth': 5, 'rf_min_samples_split': 0.22857245877877191, 'rf_min_samples_leaf': 0.19261131157519257, 'rf_max_features': 'log2', 'rf_random_state': 42}. \n",
      "[I 2024-05-13 11:06:15,679] Trial 336 finished with values: [0.9629629629629629, 0.19484185158778577] and parameters: {'classifier': 'RandomForest', 'rf_n_estimators': 40, 'rf_max_depth': 8, 'rf_min_samples_split': 0.17981450856742598, 'rf_min_samples_leaf': 0.17244182829476545, 'rf_max_features': 'log2', 'rf_random_state': 42}. \n",
      "[I 2024-05-13 11:06:15,803] Trial 337 finished with values: [0.9444444444444444, 0.1814815328189997] and parameters: {'classifier': 'RandomForest', 'rf_n_estimators': 10, 'rf_max_depth': 6, 'rf_min_samples_split': 0.14042112226157022, 'rf_min_samples_leaf': 0.07966415980802877, 'rf_max_features': 'log2', 'rf_random_state': 42}. \n",
      "[I 2024-05-13 11:06:15,954] Trial 338 finished with values: [0.9629629629629629, 0.1857049098418847] and parameters: {'classifier': 'RandomForest', 'rf_n_estimators': 50, 'rf_max_depth': 4, 'rf_min_samples_split': 0.19935218832502838, 'rf_min_samples_leaf': 0.14461026177846212, 'rf_max_features': 'log2', 'rf_random_state': 42}. \n",
      "[I 2024-05-13 11:06:16,089] Trial 339 finished with values: [0.9259259259259259, 0.21926662481853565] and parameters: {'classifier': 'RandomForest', 'rf_n_estimators': 30, 'rf_max_depth': 2, 'rf_min_samples_split': 0.2540997449233977, 'rf_min_samples_leaf': 0.1808606256193608, 'rf_max_features': 'log2', 'rf_random_state': 42}. \n",
      "[I 2024-05-13 11:06:16,210] Trial 340 finished with values: [0.9074074074074074, 0.314365156611524] and parameters: {'classifier': 'RandomForest', 'rf_n_estimators': 10, 'rf_max_depth': 6, 'rf_min_samples_split': 0.22169831594048084, 'rf_min_samples_leaf': 0.15759397153345894, 'rf_max_features': 'log2', 'rf_random_state': 42}. \n",
      "[I 2024-05-13 11:06:16,331] Trial 341 finished with values: [0.3888888888888889, 0.0] and parameters: {'classifier': 'RandomForest', 'rf_n_estimators': 10, 'rf_max_depth': 6, 'rf_min_samples_split': 0.2767059105872459, 'rf_min_samples_leaf': 0.46213857541534686, 'rf_max_features': 'log2', 'rf_random_state': 42}. \n",
      "[I 2024-05-13 11:06:16,465] Trial 342 finished with values: [0.3888888888888889, 0.0] and parameters: {'classifier': 'RandomForest', 'rf_n_estimators': 30, 'rf_max_depth': 5, 'rf_min_samples_split': 0.18221390897080417, 'rf_min_samples_leaf': 0.41620392960798736, 'rf_max_features': 'log2', 'rf_random_state': 42}. \n",
      "[I 2024-05-13 11:06:16,588] Trial 343 finished with values: [0.3888888888888889, 0.0] and parameters: {'classifier': 'RandomForest', 'rf_n_estimators': 10, 'rf_max_depth': 6, 'rf_min_samples_split': 0.22875739885372404, 'rf_min_samples_leaf': 0.4274469806724412, 'rf_max_features': 'log2', 'rf_random_state': 42}. \n",
      "[I 2024-05-13 11:06:16,725] Trial 344 finished with values: [0.3888888888888889, 0.0] and parameters: {'classifier': 'RandomForest', 'rf_n_estimators': 30, 'rf_max_depth': 6, 'rf_min_samples_split': 0.03123591309238033, 'rf_min_samples_leaf': 0.43175619750175986, 'rf_max_features': 'log2', 'rf_random_state': 42}. \n",
      "[I 2024-05-13 11:06:16,848] Trial 345 finished with values: [0.3888888888888889, 0.0] and parameters: {'classifier': 'RandomForest', 'rf_n_estimators': 10, 'rf_max_depth': 7, 'rf_min_samples_split': 0.15554492900701955, 'rf_min_samples_leaf': 0.3795118598943062, 'rf_max_features': 'log2', 'rf_random_state': 42}. \n",
      "[I 2024-05-13 11:06:16,995] Trial 346 finished with values: [0.3888888888888889, 0.0] and parameters: {'classifier': 'RandomForest', 'rf_n_estimators': 30, 'rf_max_depth': 5, 'rf_min_samples_split': 0.25974731240201865, 'rf_min_samples_leaf': 0.45722120681209677, 'rf_max_features': 'log2', 'rf_random_state': 42}. \n",
      "[I 2024-05-13 11:06:17,162] Trial 347 finished with values: [0.9629629629629629, 0.15597252676886697] and parameters: {'classifier': 'RandomForest', 'rf_n_estimators': 50, 'rf_max_depth': 6, 'rf_min_samples_split': 0.238682995546431, 'rf_min_samples_leaf': 0.11607764530230616, 'rf_max_features': 'log2', 'rf_random_state': 42}. \n",
      "[I 2024-05-13 11:06:17,290] Trial 348 finished with values: [0.9259259259259259, 0.36696660074203846] and parameters: {'classifier': 'RandomForest', 'rf_n_estimators': 10, 'rf_max_depth': 7, 'rf_min_samples_split': 0.0598403266006545, 'rf_min_samples_leaf': 0.20680778537523545, 'rf_max_features': 'log2', 'rf_random_state': 42}. \n",
      "[I 2024-05-13 11:06:17,433] Trial 349 finished with values: [0.8888888888888888, 0.2680391048867571] and parameters: {'classifier': 'RandomForest', 'rf_n_estimators': 30, 'rf_max_depth': 5, 'rf_min_samples_split': 0.3698763951678392, 'rf_min_samples_leaf': 0.2748197691947217, 'rf_max_features': 'log2', 'rf_random_state': 42}. \n",
      "[I 2024-05-13 11:06:17,562] Trial 350 finished with values: [0.9259259259259259, 0.3766774376576524] and parameters: {'classifier': 'RandomForest', 'rf_n_estimators': 10, 'rf_max_depth': 6, 'rf_min_samples_split': 0.11913613136654058, 'rf_min_samples_leaf': 0.1901503048682331, 'rf_max_features': 'log2', 'rf_random_state': 42}. \n",
      "[I 2024-05-13 11:06:17,710] Trial 351 finished with values: [0.9259259259259259, 0.21926662481853565] and parameters: {'classifier': 'RandomForest', 'rf_n_estimators': 30, 'rf_max_depth': 7, 'rf_min_samples_split': 0.10786309412527788, 'rf_min_samples_leaf': 0.17777421984751676, 'rf_max_features': 'log2', 'rf_random_state': 42}. \n",
      "[I 2024-05-13 11:06:17,847] Trial 352 finished with values: [0.3888888888888889, 0.0] and parameters: {'classifier': 'RandomForest', 'rf_n_estimators': 20, 'rf_max_depth': 6, 'rf_min_samples_split': 0.20810887753894364, 'rf_min_samples_leaf': 0.40462492036667075, 'rf_max_features': 'log2', 'rf_random_state': 42}. \n",
      "[I 2024-05-13 11:06:17,980] Trial 353 finished with values: [0.8888888888888888, 0.4648808062012051] and parameters: {'classifier': 'RandomForest', 'rf_n_estimators': 10, 'rf_max_depth': 5, 'rf_min_samples_split': 0.1334121814886693, 'rf_min_samples_leaf': 0.22272903759076312, 'rf_max_features': 'log2', 'rf_random_state': 42}. \n",
      "[I 2024-05-13 11:06:18,140] Trial 354 finished with values: [0.9629629629629629, 0.20175349587776803] and parameters: {'classifier': 'RandomForest', 'rf_n_estimators': 50, 'rf_max_depth': 6, 'rf_min_samples_split': 0.16618217044520991, 'rf_min_samples_leaf': 0.15793448224205356, 'rf_max_features': 'log2', 'rf_random_state': 42}. \n",
      "[I 2024-05-13 11:06:18,274] Trial 355 finished with values: [0.3888888888888889, 0.0] and parameters: {'classifier': 'RandomForest', 'rf_n_estimators': 10, 'rf_max_depth': 6, 'rf_min_samples_split': 0.840259151347831, 'rf_min_samples_leaf': 0.340324752190325, 'rf_max_features': 'log2', 'rf_random_state': 42}. \n",
      "[I 2024-05-13 11:06:18,420] Trial 356 finished with values: [0.3888888888888889, 0.0] and parameters: {'classifier': 'RandomForest', 'rf_n_estimators': 30, 'rf_max_depth': 7, 'rf_min_samples_split': 0.9398269316389454, 'rf_min_samples_leaf': 0.3893722349757474, 'rf_max_features': 'log2', 'rf_random_state': 42}. \n",
      "[I 2024-05-13 11:06:18,556] Trial 357 finished with values: [0.3888888888888889, 0.0] and parameters: {'classifier': 'RandomForest', 'rf_n_estimators': 10, 'rf_max_depth': 5, 'rf_min_samples_split': 0.027872547664432618, 'rf_min_samples_leaf': 0.37661503216583475, 'rf_max_features': 'log2', 'rf_random_state': 42}. \n",
      "[I 2024-05-13 11:06:18,710] Trial 358 finished with values: [0.9629629629629629, 0.17069666259733718] and parameters: {'classifier': 'RandomForest', 'rf_n_estimators': 40, 'rf_max_depth': 6, 'rf_min_samples_split': 0.28755728490220456, 'rf_min_samples_leaf': 0.13829757560279513, 'rf_max_features': 'log2', 'rf_random_state': 42}. \n",
      "[I 2024-05-13 11:06:18,844] Trial 359 finished with values: [0.3888888888888889, 0.0] and parameters: {'classifier': 'RandomForest', 'rf_n_estimators': 10, 'rf_max_depth': 7, 'rf_min_samples_split': 0.011301188029813641, 'rf_min_samples_leaf': 0.4380361170264254, 'rf_max_features': 'log2', 'rf_random_state': 42}. \n",
      "[I 2024-05-13 11:06:18,993] Trial 360 finished with values: [0.8888888888888888, 0.2680391048867571] and parameters: {'classifier': 'RandomForest', 'rf_n_estimators': 30, 'rf_max_depth': 5, 'rf_min_samples_split': 0.1953779247588076, 'rf_min_samples_leaf': 0.27845723576040327, 'rf_max_features': 'log2', 'rf_random_state': 42}. \n",
      "[I 2024-05-13 11:06:19,133] Trial 361 finished with values: [0.9259259259259259, 0.2735470340307026] and parameters: {'classifier': 'RandomForest', 'rf_n_estimators': 10, 'rf_max_depth': 6, 'rf_min_samples_split': 0.31731634770313577, 'rf_min_samples_leaf': 0.13411498354470036, 'rf_max_features': 'log2', 'rf_random_state': 42}. \n",
      "[I 2024-05-13 11:06:19,290] Trial 362 finished with values: [0.9259259259259259, 0.2324402518177584] and parameters: {'classifier': 'RandomForest', 'rf_n_estimators': 30, 'rf_max_depth': 6, 'rf_min_samples_split': 0.2361163437450683, 'rf_min_samples_leaf': 0.20151232558158305, 'rf_max_features': 'log2', 'rf_random_state': 42}. \n",
      "[I 2024-05-13 11:06:19,429] Trial 363 finished with values: [0.9259259259259259, 0.16210856376630844] and parameters: {'classifier': 'RandomForest', 'rf_n_estimators': 10, 'rf_max_depth': 7, 'rf_min_samples_split': 0.1098018616111529, 'rf_min_samples_leaf': 0.0874459026808877, 'rf_max_features': 'log2', 'rf_random_state': 42}. \n",
      "[I 2024-05-13 11:06:19,594] Trial 364 finished with values: [0.3888888888888889, 0.0] and parameters: {'classifier': 'RandomForest', 'rf_n_estimators': 50, 'rf_max_depth': 5, 'rf_min_samples_split': 0.3853160970067136, 'rf_min_samples_leaf': 0.4871747647006435, 'rf_max_features': 'log2', 'rf_random_state': 42}. \n",
      "[I 2024-05-13 11:06:19,732] Trial 365 finished with values: [0.3888888888888889, 0.0] and parameters: {'classifier': 'RandomForest', 'rf_n_estimators': 10, 'rf_max_depth': 6, 'rf_min_samples_split': 0.5597240618037187, 'rf_min_samples_leaf': 0.4418274653871977, 'rf_max_features': 'log2', 'rf_random_state': 42}. \n",
      "[I 2024-05-13 11:06:19,881] Trial 366 finished with values: [0.3888888888888889, 0.0] and parameters: {'classifier': 'RandomForest', 'rf_n_estimators': 30, 'rf_max_depth': 7, 'rf_min_samples_split': 0.8750000691130904, 'rf_min_samples_leaf': 0.40871920115106214, 'rf_max_features': 'log2', 'rf_random_state': 42}. \n",
      "[I 2024-05-13 11:06:20,032] Trial 367 finished with values: [0.3888888888888889, 0.0] and parameters: {'classifier': 'RandomForest', 'rf_n_estimators': 30, 'rf_max_depth': 5, 'rf_min_samples_split': 0.8096672531056188, 'rf_min_samples_leaf': 0.3650313400388457, 'rf_max_features': 'log2', 'rf_random_state': 42}. \n",
      "[I 2024-05-13 11:06:20,170] Trial 368 finished with values: [0.3888888888888889, 0.0] and parameters: {'classifier': 'RandomForest', 'rf_n_estimators': 10, 'rf_max_depth': 6, 'rf_min_samples_split': 0.051704155775070426, 'rf_min_samples_leaf': 0.39714267846398765, 'rf_max_features': 'log2', 'rf_random_state': 42}. \n",
      "[I 2024-05-13 11:06:20,337] Trial 369 finished with values: [0.9629629629629629, 0.16238507086273835] and parameters: {'classifier': 'RandomForest', 'rf_n_estimators': 50, 'rf_max_depth': 6, 'rf_min_samples_split': 0.14013241772206708, 'rf_min_samples_leaf': 0.10512309895408478, 'rf_max_features': 'log2', 'rf_random_state': 42}. \n",
      "[I 2024-05-13 11:06:20,472] Trial 370 finished with values: [0.9444444444444444, 0.18710190534107374] and parameters: {'classifier': 'RandomForest', 'rf_n_estimators': 10, 'rf_max_depth': 6, 'rf_min_samples_split': 0.0784517230309528, 'rf_min_samples_leaf': 0.02069426768519122, 'rf_max_features': 'log2', 'rf_random_state': 42}. \n",
      "[I 2024-05-13 11:06:20,607] Trial 371 finished with values: [0.3888888888888889, 0.0] and parameters: {'classifier': 'RandomForest', 'rf_n_estimators': 10, 'rf_max_depth': 7, 'rf_min_samples_split': 0.2685145591012996, 'rf_min_samples_leaf': 0.42086023109562254, 'rf_max_features': 'log2', 'rf_random_state': 42}. \n",
      "[I 2024-05-13 11:06:20,753] Trial 372 finished with values: [0.3888888888888889, 0.0] and parameters: {'classifier': 'RandomForest', 'rf_n_estimators': 30, 'rf_max_depth': 5, 'rf_min_samples_split': 0.7483481001628166, 'rf_min_samples_leaf': 0.2715354118265443, 'rf_max_features': 'log2', 'rf_random_state': 42}. \n",
      "[I 2024-05-13 11:06:20,887] Trial 373 finished with values: [0.9444444444444444, 0.3003278365433475] and parameters: {'classifier': 'RandomForest', 'rf_n_estimators': 10, 'rf_max_depth': 6, 'rf_min_samples_split': 0.35536603296309255, 'rf_min_samples_leaf': 0.04287426244110429, 'rf_max_features': 'log2', 'rf_random_state': 42}. \n",
      "[I 2024-05-13 11:06:21,022] Trial 374 finished with values: [0.3888888888888889, 0.0] and parameters: {'classifier': 'RandomForest', 'rf_n_estimators': 10, 'rf_max_depth': 6, 'rf_min_samples_split': 0.9981479179508763, 'rf_min_samples_leaf': 0.18440459576104756, 'rf_max_features': 'log2', 'rf_random_state': 42}. \n",
      "[I 2024-05-13 11:06:21,172] Trial 375 finished with values: [0.3888888888888889, 0.0] and parameters: {'classifier': 'RandomForest', 'rf_n_estimators': 30, 'rf_max_depth': 6, 'rf_min_samples_split': 0.8590992087163578, 'rf_min_samples_leaf': 0.12529088135636862, 'rf_max_features': 'log2', 'rf_random_state': 42}. \n",
      "[I 2024-05-13 11:06:21,307] Trial 376 finished with values: [0.9444444444444444, 0.274834575828553] and parameters: {'classifier': 'RandomForest', 'rf_n_estimators': 10, 'rf_max_depth': 7, 'rf_min_samples_split': 0.33188327242787763, 'rf_min_samples_leaf': 0.09935969304161504, 'rf_max_features': 'log2', 'rf_random_state': 42}. \n",
      "[I 2024-05-13 11:06:21,450] Trial 377 finished with values: [0.3888888888888889, 0.0] and parameters: {'classifier': 'RandomForest', 'rf_n_estimators': 10, 'rf_max_depth': 7, 'rf_min_samples_split': 0.7897257569500127, 'rf_min_samples_leaf': 0.05097990341712433, 'rf_max_features': 'log2', 'rf_random_state': 42}. \n",
      "[I 2024-05-13 11:06:21,605] Trial 378 finished with values: [0.9444444444444444, 0.1859327414934977] and parameters: {'classifier': 'RandomForest', 'rf_n_estimators': 30, 'rf_max_depth': 5, 'rf_min_samples_split': 0.3494126133019442, 'rf_min_samples_leaf': 0.044804922571200924, 'rf_max_features': 'log2', 'rf_random_state': 42}. \n",
      "[I 2024-05-13 11:06:21,743] Trial 379 finished with values: [0.9259259259259259, 0.3766774376576524] and parameters: {'classifier': 'RandomForest', 'rf_n_estimators': 10, 'rf_max_depth': 6, 'rf_min_samples_split': 0.3294525760219583, 'rf_min_samples_leaf': 0.18770689768959808, 'rf_max_features': 'log2', 'rf_random_state': 42}. \n",
      "[I 2024-05-13 11:06:21,882] Trial 380 finished with values: [0.9074074074074074, 0.37388731262456576] and parameters: {'classifier': 'RandomForest', 'rf_n_estimators': 10, 'rf_max_depth': 6, 'rf_min_samples_split': 0.44084172300683966, 'rf_min_samples_leaf': 0.19418079148447548, 'rf_max_features': 'log2', 'rf_random_state': 42}. \n",
      "[I 2024-05-13 11:06:22,022] Trial 381 finished with values: [0.3888888888888889, 0.0] and parameters: {'classifier': 'RandomForest', 'rf_n_estimators': 10, 'rf_max_depth': 6, 'rf_min_samples_split': 0.10711566475402991, 'rf_min_samples_leaf': 0.45359023574989177, 'rf_max_features': 'log2', 'rf_random_state': 42}. \n",
      "[I 2024-05-13 11:06:22,176] Trial 382 finished with values: [0.3888888888888889, 0.0] and parameters: {'classifier': 'RandomForest', 'rf_n_estimators': 30, 'rf_max_depth': 6, 'rf_min_samples_split': 0.8972253456930905, 'rf_min_samples_leaf': 0.16815156826818317, 'rf_max_features': 'log2', 'rf_random_state': 42}. \n",
      "[I 2024-05-13 11:06:22,316] Trial 383 finished with values: [0.3888888888888889, 0.0] and parameters: {'classifier': 'RandomForest', 'rf_n_estimators': 10, 'rf_max_depth': 6, 'rf_min_samples_split': 0.18505465972520116, 'rf_min_samples_leaf': 0.47394136770450634, 'rf_max_features': 'log2', 'rf_random_state': 42}. \n",
      "[I 2024-05-13 11:06:22,470] Trial 384 finished with values: [0.9444444444444444, 0.23177026846178927] and parameters: {'classifier': 'RandomForest', 'rf_n_estimators': 30, 'rf_max_depth': 6, 'rf_min_samples_split': 0.5394564815332105, 'rf_min_samples_leaf': 0.02589418263326093, 'rf_max_features': 'log2', 'rf_random_state': 42}. \n",
      "[I 2024-05-13 11:06:22,611] Trial 385 finished with values: [0.8888888888888888, 0.4668733147978552] and parameters: {'classifier': 'RandomForest', 'rf_n_estimators': 10, 'rf_max_depth': 6, 'rf_min_samples_split': 0.3282051120157326, 'rf_min_samples_leaf': 0.22780653149451008, 'rf_max_features': 'log2', 'rf_random_state': 42}. \n",
      "[I 2024-05-13 11:06:22,780] Trial 386 finished with values: [0.3888888888888889, 0.0] and parameters: {'classifier': 'RandomForest', 'rf_n_estimators': 50, 'rf_max_depth': 6, 'rf_min_samples_split': 0.9710124421076014, 'rf_min_samples_leaf': 0.3437712549518981, 'rf_max_features': 'log2', 'rf_random_state': 42}. \n",
      "[I 2024-05-13 11:06:22,936] Trial 387 finished with values: [0.9444444444444444, 0.18398818112136717] and parameters: {'classifier': 'RandomForest', 'rf_n_estimators': 30, 'rf_max_depth': 6, 'rf_min_samples_split': 0.36505611745007244, 'rf_min_samples_leaf': 0.07345918758285105, 'rf_max_features': 'log2', 'rf_random_state': 42}. \n",
      "[I 2024-05-13 11:06:23,081] Trial 388 finished with values: [0.9259259259259259, 0.1562702023139816] and parameters: {'classifier': 'RandomForest', 'rf_n_estimators': 10, 'rf_max_depth': 6, 'rf_min_samples_split': 0.21086816797061664, 'rf_min_samples_leaf': 0.08360372055345376, 'rf_max_features': 'log2', 'rf_random_state': 42}. \n",
      "[I 2024-05-13 11:06:23,229] Trial 389 finished with values: [0.9629629629629629, 0.19120633611304327] and parameters: {'classifier': 'RandomForest', 'rf_n_estimators': 10, 'rf_max_depth': 7, 'rf_min_samples_split': 0.1606843552690509, 'rf_min_samples_leaf': 0.011017231597183444, 'rf_max_features': 'log2', 'rf_random_state': 42}. \n",
      "[I 2024-05-13 11:06:23,374] Trial 390 finished with values: [0.9259259259259259, 0.3766774376576524] and parameters: {'classifier': 'RandomForest', 'rf_n_estimators': 10, 'rf_max_depth': 6, 'rf_min_samples_split': 0.055963611324405416, 'rf_min_samples_leaf': 0.19271175909167465, 'rf_max_features': 'log2', 'rf_random_state': 42}. \n",
      "[I 2024-05-13 11:06:23,535] Trial 391 finished with values: [0.9074074074074074, 0.2520387351138099] and parameters: {'classifier': 'RandomForest', 'rf_n_estimators': 30, 'rf_max_depth': 6, 'rf_min_samples_split': 0.1212739357725702, 'rf_min_samples_leaf': 0.2121912430085841, 'rf_max_features': 'log2', 'rf_random_state': 42}. \n",
      "[I 2024-05-13 11:06:23,686] Trial 392 finished with values: [0.9259259259259259, 0.3766774376576524] and parameters: {'classifier': 'RandomForest', 'rf_n_estimators': 10, 'rf_max_depth': 5, 'rf_min_samples_split': 0.31086481820348066, 'rf_min_samples_leaf': 0.1915395363509887, 'rf_max_features': 'log2', 'rf_random_state': 42}. \n",
      "[I 2024-05-13 11:06:23,860] Trial 393 finished with values: [0.9444444444444444, 0.19972699737298283] and parameters: {'classifier': 'RandomForest', 'rf_n_estimators': 30, 'rf_max_depth': 6, 'rf_min_samples_split': 0.421973261392884, 'rf_min_samples_leaf': 0.10062409143478707, 'rf_max_features': 'log2', 'rf_random_state': 42}. \n",
      "[I 2024-05-13 11:06:24,018] Trial 394 finished with values: [0.9259259259259259, 0.23455249547522494] and parameters: {'classifier': 'RandomForest', 'rf_n_estimators': 10, 'rf_max_depth': 6, 'rf_min_samples_split': 0.05483095205102545, 'rf_min_samples_leaf': 0.1520019769735011, 'rf_max_features': 'log2', 'rf_random_state': 42}. \n",
      "[I 2024-05-13 11:06:24,189] Trial 395 finished with values: [0.3888888888888889, 0.0] and parameters: {'classifier': 'RandomForest', 'rf_n_estimators': 30, 'rf_max_depth': 7, 'rf_min_samples_split': 0.24703424915531647, 'rf_min_samples_leaf': 0.3525470911317915, 'rf_max_features': 'log2', 'rf_random_state': 42}. \n",
      "[I 2024-05-13 11:06:24,348] Trial 396 finished with values: [0.3888888888888889, 0.0] and parameters: {'classifier': 'RandomForest', 'rf_n_estimators': 10, 'rf_max_depth': 5, 'rf_min_samples_split': 0.08697778611528173, 'rf_min_samples_leaf': 0.39142654772274066, 'rf_max_features': 'log2', 'rf_random_state': 42}. \n",
      "[I 2024-05-13 11:06:24,527] Trial 397 finished with values: [0.3888888888888889, 0.0] and parameters: {'classifier': 'RandomForest', 'rf_n_estimators': 40, 'rf_max_depth': 6, 'rf_min_samples_split': 0.7272098573871683, 'rf_min_samples_leaf': 0.4326229175876985, 'rf_max_features': 'log2', 'rf_random_state': 42}. \n",
      "[I 2024-05-13 11:06:24,686] Trial 398 finished with values: [0.3888888888888889, 0.0] and parameters: {'classifier': 'RandomForest', 'rf_n_estimators': 10, 'rf_max_depth': 6, 'rf_min_samples_split': 0.8968383794381649, 'rf_min_samples_leaf': 0.06106826681588037, 'rf_max_features': 'log2', 'rf_random_state': 42}. \n",
      "[I 2024-05-13 11:06:24,861] Trial 399 finished with values: [0.9444444444444444, 0.1859327414934977] and parameters: {'classifier': 'RandomForest', 'rf_n_estimators': 30, 'rf_max_depth': 7, 'rf_min_samples_split': 0.34036091881107267, 'rf_min_samples_leaf': 0.03887364332963627, 'rf_max_features': 'log2', 'rf_random_state': 42}. \n",
      "[I 2024-05-13 11:06:25,009] Trial 400 finished with values: [0.3888888888888889, 0.0] and parameters: {'classifier': 'RandomForest', 'rf_n_estimators': 10, 'rf_max_depth': 5, 'rf_min_samples_split': 0.394219735575923, 'rf_min_samples_leaf': 0.48692565791619524, 'rf_max_features': 'log2', 'rf_random_state': 42}. \n",
      "[I 2024-05-13 11:06:25,160] Trial 401 finished with values: [0.3888888888888889, 0.0] and parameters: {'classifier': 'RandomForest', 'rf_n_estimators': 10, 'rf_max_depth': 6, 'rf_min_samples_split': 0.4679681710010253, 'rf_min_samples_leaf': 0.3623658453225841, 'rf_max_features': 'log2', 'rf_random_state': 42}. \n",
      "[I 2024-05-13 11:06:25,329] Trial 402 finished with values: [0.3888888888888889, 0.0] and parameters: {'classifier': 'RandomForest', 'rf_n_estimators': 30, 'rf_max_depth': 6, 'rf_min_samples_split': 0.9207213793154345, 'rf_min_samples_leaf': 0.3720503066537706, 'rf_max_features': 'log2', 'rf_random_state': 42}. \n",
      "[I 2024-05-13 11:06:25,481] Trial 403 finished with values: [0.3888888888888889, 0.0] and parameters: {'classifier': 'RandomForest', 'rf_n_estimators': 10, 'rf_max_depth': 5, 'rf_min_samples_split': 0.29739953554857645, 'rf_min_samples_leaf': 0.4999420952327557, 'rf_max_features': 'log2', 'rf_random_state': 42}. \n",
      "[I 2024-05-13 11:06:25,632] Trial 404 finished with values: [0.3888888888888889, 0.0] and parameters: {'classifier': 'RandomForest', 'rf_n_estimators': 10, 'rf_max_depth': 6, 'rf_min_samples_split': 0.8321466148997892, 'rf_min_samples_leaf': 0.11081561042059301, 'rf_max_features': 'log2', 'rf_random_state': 42}. \n",
      "[I 2024-05-13 11:06:25,804] Trial 405 finished with values: [0.3888888888888889, 0.0] and parameters: {'classifier': 'RandomForest', 'rf_n_estimators': 30, 'rf_max_depth': 6, 'rf_min_samples_split': 0.7786048434435758, 'rf_min_samples_leaf': 0.1307492325889636, 'rf_max_features': 'log2', 'rf_random_state': 42}. \n",
      "[I 2024-05-13 11:06:25,962] Trial 406 finished with values: [0.3888888888888889, 0.0] and parameters: {'classifier': 'RandomForest', 'rf_n_estimators': 10, 'rf_max_depth': 6, 'rf_min_samples_split': 0.7572790306229191, 'rf_min_samples_leaf': 0.2656330559635746, 'rf_max_features': 'log2', 'rf_random_state': 42}. \n",
      "[I 2024-05-13 11:06:26,149] Trial 407 finished with values: [0.9629629629629629, 0.2302788977796255] and parameters: {'classifier': 'RandomForest', 'rf_n_estimators': 50, 'rf_max_depth': 7, 'rf_min_samples_split': 0.03294252734930225, 'rf_min_samples_leaf': 0.19464227279454377, 'rf_max_features': 'log2', 'rf_random_state': 42}. \n",
      "[I 2024-05-13 11:06:26,319] Trial 408 finished with values: [0.3888888888888889, 0.0] and parameters: {'classifier': 'RandomForest', 'rf_n_estimators': 30, 'rf_max_depth': 5, 'rf_min_samples_split': 0.9569543820624289, 'rf_min_samples_leaf': 0.28345192214652803, 'rf_max_features': 'log2', 'rf_random_state': 42}. \n",
      "[I 2024-05-13 11:06:26,472] Trial 409 finished with values: [0.9259259259259259, 0.1943034007761023] and parameters: {'classifier': 'RandomForest', 'rf_n_estimators': 10, 'rf_max_depth': 6, 'rf_min_samples_split': 0.13249510646122387, 'rf_min_samples_leaf': 0.1212947398287226, 'rf_max_features': 'log2', 'rf_random_state': 42}. \n",
      "[I 2024-05-13 11:06:26,630] Trial 410 finished with values: [0.9259259259259259, 0.36696660074203846] and parameters: {'classifier': 'RandomForest', 'rf_n_estimators': 10, 'rf_max_depth': 6, 'rf_min_samples_split': 0.26455286695383284, 'rf_min_samples_leaf': 0.205867723393978, 'rf_max_features': 'log2', 'rf_random_state': 42}. \n",
      "[I 2024-05-13 11:06:26,790] Trial 411 finished with values: [0.8888888888888888, 0.4668733147978552] and parameters: {'classifier': 'RandomForest', 'rf_n_estimators': 10, 'rf_max_depth': 6, 'rf_min_samples_split': 0.177277409805235, 'rf_min_samples_leaf': 0.22875694798681617, 'rf_max_features': 'log2', 'rf_random_state': 42}. \n",
      "[I 2024-05-13 11:06:26,959] Trial 412 finished with values: [0.3888888888888889, 0.0] and parameters: {'classifier': 'RandomForest', 'rf_n_estimators': 30, 'rf_max_depth': 6, 'rf_min_samples_split': 0.7158378353812652, 'rf_min_samples_leaf': 0.14609531413938806, 'rf_max_features': 'log2', 'rf_random_state': 42}. \n",
      "[I 2024-05-13 11:06:27,117] Trial 413 finished with values: [0.9259259259259259, 0.3766774376576524] and parameters: {'classifier': 'RandomForest', 'rf_n_estimators': 10, 'rf_max_depth': 7, 'rf_min_samples_split': 0.3169771113064393, 'rf_min_samples_leaf': 0.18790170737283085, 'rf_max_features': 'log2', 'rf_random_state': 42}. \n",
      "[I 2024-05-13 11:06:27,286] Trial 414 finished with values: [0.3888888888888889, 0.0] and parameters: {'classifier': 'RandomForest', 'rf_n_estimators': 30, 'rf_max_depth': 7, 'rf_min_samples_split': 0.8624602678392642, 'rf_min_samples_leaf': 0.4442762107615172, 'rf_max_features': 'log2', 'rf_random_state': 42}. \n",
      "[I 2024-05-13 11:06:27,448] Trial 415 finished with values: [0.3888888888888889, 0.0] and parameters: {'classifier': 'RandomForest', 'rf_n_estimators': 10, 'rf_max_depth': 5, 'rf_min_samples_split': 0.20203220704546618, 'rf_min_samples_leaf': 0.4615703354785291, 'rf_max_features': 'log2', 'rf_random_state': 42}. \n",
      "[I 2024-05-13 11:06:27,620] Trial 416 finished with values: [0.3888888888888889, 0.0] and parameters: {'classifier': 'RandomForest', 'rf_n_estimators': 30, 'rf_max_depth': 6, 'rf_min_samples_split': 0.5754901353751487, 'rf_min_samples_leaf': 0.47825314093228344, 'rf_max_features': 'sqrt', 'rf_random_state': 42}. \n",
      "[I 2024-05-13 11:06:27,782] Trial 417 finished with values: [0.3888888888888889, 0.0] and parameters: {'classifier': 'RandomForest', 'rf_n_estimators': 10, 'rf_max_depth': 7, 'rf_min_samples_split': 0.8021183509169099, 'rf_min_samples_leaf': 0.2577069691924346, 'rf_max_features': 'log2', 'rf_random_state': 42}. \n",
      "[I 2024-05-13 11:06:27,963] Trial 418 finished with values: [0.9444444444444444, 0.23728266177530444] and parameters: {'classifier': 'RandomForest', 'rf_n_estimators': 30, 'rf_max_depth': 5, 'rf_min_samples_split': 0.5250352567422345, 'rf_min_samples_leaf': 0.17160410526442824, 'rf_max_features': 'log2', 'rf_random_state': 42}. \n",
      "[I 2024-05-13 11:06:28,129] Trial 419 finished with values: [0.3888888888888889, 0.0] and parameters: {'classifier': 'RandomForest', 'rf_n_estimators': 10, 'rf_max_depth': 6, 'rf_min_samples_split': 0.15406200953763577, 'rf_min_samples_leaf': 0.41822015405197616, 'rf_max_features': 'log2', 'rf_random_state': 42}. \n",
      "[I 2024-05-13 11:06:28,292] Trial 420 finished with values: [0.8888888888888888, 0.4668733147978552] and parameters: {'classifier': 'RandomForest', 'rf_n_estimators': 10, 'rf_max_depth': 6, 'rf_min_samples_split': 0.31372459955896903, 'rf_min_samples_leaf': 0.22645134719702217, 'rf_max_features': 'log2', 'rf_random_state': 42}. \n",
      "[I 2024-05-13 11:06:28,458] Trial 421 finished with values: [0.9444444444444444, 0.46170908086424134] and parameters: {'classifier': 'RandomForest', 'rf_n_estimators': 10, 'rf_max_depth': 6, 'rf_min_samples_split': 0.5993198522996707, 'rf_min_samples_leaf': 0.09754638949536548, 'rf_max_features': 'log2', 'rf_random_state': 42}. \n",
      "[I 2024-05-13 11:06:28,626] Trial 422 finished with values: [0.9444444444444444, 0.30577358128826426] and parameters: {'classifier': 'RandomForest', 'rf_n_estimators': 20, 'rf_max_depth': 5, 'rf_min_samples_split': 0.6033682159068403, 'rf_min_samples_leaf': 0.09760005894745909, 'rf_max_features': 'log2', 'rf_random_state': 42}. \n",
      "[I 2024-05-13 11:06:28,804] Trial 423 finished with values: [0.9259259259259259, 0.2418097351395997] and parameters: {'classifier': 'RandomForest', 'rf_n_estimators': 30, 'rf_max_depth': 5, 'rf_min_samples_split': 0.5874051642241878, 'rf_min_samples_leaf': 0.08882062610129796, 'rf_max_features': 'log2', 'rf_random_state': 42}. \n",
      "[I 2024-05-13 11:06:28,972] Trial 424 finished with values: [0.9444444444444444, 0.3127724653711228] and parameters: {'classifier': 'RandomForest', 'rf_n_estimators': 20, 'rf_max_depth': 7, 'rf_min_samples_split': 0.5958689284371957, 'rf_min_samples_leaf': 0.11104666515688921, 'rf_max_features': 'log2', 'rf_random_state': 42}. \n",
      "[I 2024-05-13 11:06:29,134] Trial 425 finished with values: [0.9444444444444444, 0.46170908086424134] and parameters: {'classifier': 'RandomForest', 'rf_n_estimators': 10, 'rf_max_depth': 7, 'rf_min_samples_split': 0.6016998379224603, 'rf_min_samples_leaf': 0.10718370665504631, 'rf_max_features': 'log2', 'rf_random_state': 42}. \n",
      "[I 2024-05-13 11:06:29,307] Trial 426 finished with values: [0.3888888888888889, 0.0] and parameters: {'classifier': 'RandomForest', 'rf_n_estimators': 30, 'rf_max_depth': 7, 'rf_min_samples_split': 0.4347305842830105, 'rf_min_samples_leaf': 0.34698989399819385, 'rf_max_features': 'sqrt', 'rf_random_state': 42}. \n",
      "[I 2024-05-13 11:06:29,468] Trial 427 finished with values: [0.9074074074074074, 0.3636237720214712] and parameters: {'classifier': 'RandomForest', 'rf_n_estimators': 10, 'rf_max_depth': 8, 'rf_min_samples_split': 0.29055209729689935, 'rf_min_samples_leaf': 0.1612941951709873, 'rf_max_features': 'sqrt', 'rf_random_state': 42}. \n",
      "[I 2024-05-13 11:06:29,641] Trial 428 finished with values: [0.3888888888888889, 0.0] and parameters: {'classifier': 'RandomForest', 'rf_n_estimators': 30, 'rf_max_depth': 7, 'rf_min_samples_split': 0.06008846296745797, 'rf_min_samples_leaf': 0.3752652412855729, 'rf_max_features': 'sqrt', 'rf_random_state': 42}. \n",
      "[I 2024-05-13 11:06:29,805] Trial 429 finished with values: [0.8888888888888888, 0.46410621762481397] and parameters: {'classifier': 'RandomForest', 'rf_n_estimators': 10, 'rf_max_depth': 4, 'rf_min_samples_split': 0.011674816033996865, 'rf_min_samples_leaf': 0.2167656905221727, 'rf_max_features': 'sqrt', 'rf_random_state': 42}. \n",
      "[I 2024-05-13 11:06:29,977] Trial 430 finished with values: [0.9259259259259259, 0.3766774376576524] and parameters: {'classifier': 'RandomForest', 'rf_n_estimators': 10, 'rf_max_depth': 5, 'rf_min_samples_split': 0.10410318284771544, 'rf_min_samples_leaf': 0.18739090884057236, 'rf_max_features': 'sqrt', 'rf_random_state': 42}. \n",
      "[I 2024-05-13 11:06:30,143] Trial 431 finished with values: [0.3888888888888889, 0.0] and parameters: {'classifier': 'RandomForest', 'rf_n_estimators': 10, 'rf_max_depth': 5, 'rf_min_samples_split': 0.8755656371416941, 'rf_min_samples_leaf': 0.06664280970110606, 'rf_max_features': 'sqrt', 'rf_random_state': 42}. \n",
      "[I 2024-05-13 11:06:30,315] Trial 432 finished with values: [0.3888888888888889, 0.4996534629477096] and parameters: {'classifier': 'RandomForest', 'rf_n_estimators': 30, 'rf_max_depth': 7, 'rf_min_samples_split': 0.48106677824718574, 'rf_min_samples_leaf': 0.32795588009731597, 'rf_max_features': 'sqrt', 'rf_random_state': 42}. \n",
      "[I 2024-05-13 11:06:30,479] Trial 433 finished with values: [0.3888888888888889, 0.0] and parameters: {'classifier': 'RandomForest', 'rf_n_estimators': 10, 'rf_max_depth': 8, 'rf_min_samples_split': 0.10163813252577597, 'rf_min_samples_leaf': 0.40253166086015235, 'rf_max_features': 'log2', 'rf_random_state': 42}. \n",
      "[I 2024-05-13 11:06:30,644] Trial 434 finished with values: [0.3888888888888889, 0.0] and parameters: {'classifier': 'RandomForest', 'rf_n_estimators': 10, 'rf_max_depth': 5, 'rf_min_samples_split': 0.08129757788964703, 'rf_min_samples_leaf': 0.3873448776306005, 'rf_max_features': 'log2', 'rf_random_state': 42}. \n",
      "[I 2024-05-13 11:06:30,820] Trial 435 finished with values: [0.8888888888888888, 0.29457462261085376] and parameters: {'classifier': 'RandomForest', 'rf_n_estimators': 30, 'rf_max_depth': 22, 'rf_min_samples_split': 0.3993915985625092, 'rf_min_samples_leaf': 0.2707647124217705, 'rf_max_features': 'sqrt', 'rf_random_state': 42}. \n",
      "[I 2024-05-13 11:06:30,980] Trial 436 finished with values: [0.3888888888888889, 0.0] and parameters: {'classifier': 'RandomForest', 'rf_n_estimators': 10, 'rf_max_depth': 7, 'rf_min_samples_split': 0.9340469513589476, 'rf_min_samples_leaf': 0.28914740333553784, 'rf_max_features': 'log2', 'rf_random_state': 42}. \n",
      "[I 2024-05-13 11:06:31,161] Trial 437 finished with values: [0.3888888888888889, 0.0] and parameters: {'classifier': 'RandomForest', 'rf_n_estimators': 30, 'rf_max_depth': 5, 'rf_min_samples_split': 0.8192008205678123, 'rf_min_samples_leaf': 0.28048832447107647, 'rf_max_features': 'log2', 'rf_random_state': 42}. \n",
      "[I 2024-05-13 11:06:31,328] Trial 438 finished with values: [0.7222222222222222, 0.5212757663038606] and parameters: {'classifier': 'RandomForest', 'rf_n_estimators': 10, 'rf_max_depth': 4, 'rf_min_samples_split': 0.2498987069219375, 'rf_min_samples_leaf': 0.30517936906650245, 'rf_max_features': 'log2', 'rf_random_state': 42}. \n",
      "[I 2024-05-13 11:06:31,878] Trial 439 finished with values: [0.3888888888888889, 0.0] and parameters: {'classifier': 'RandomForest', 'rf_n_estimators': 550, 'rf_max_depth': 6, 'rf_min_samples_split': 0.8423092425236735, 'rf_min_samples_leaf': 0.3032788218480539, 'rf_max_features': 'log2', 'rf_random_state': 42}. \n",
      "[I 2024-05-13 11:06:32,045] Trial 440 finished with values: [0.9629629629629629, 0.18836023869683804] and parameters: {'classifier': 'RandomForest', 'rf_n_estimators': 10, 'rf_max_depth': 7, 'rf_min_samples_split': 0.12283448309431377, 'rf_min_samples_leaf': 0.011968454218530378, 'rf_max_features': 'sqrt', 'rf_random_state': 42}. \n",
      "[I 2024-05-13 11:06:32,223] Trial 441 finished with values: [0.9074074074074074, 0.3251402541541386] and parameters: {'classifier': 'RandomForest', 'rf_n_estimators': 10, 'rf_max_depth': 4, 'rf_min_samples_split': 0.1806661511478, 'rf_min_samples_leaf': 0.1987644277661675, 'rf_max_features': 'log2', 'rf_random_state': 42}. \n",
      "[I 2024-05-13 11:06:32,400] Trial 442 finished with values: [0.9444444444444444, 0.2187832124021415] and parameters: {'classifier': 'RandomForest', 'rf_n_estimators': 20, 'rf_max_depth': 5, 'rf_min_samples_split': 0.23611137274041716, 'rf_min_samples_leaf': 0.18740021020580294, 'rf_max_features': 'log2', 'rf_random_state': 42}. \n",
      "[I 2024-05-13 11:06:32,570] Trial 443 finished with values: [0.3888888888888889, 0.0] and parameters: {'classifier': 'RandomForest', 'rf_n_estimators': 10, 'rf_max_depth': 7, 'rf_min_samples_split': 0.3799529460088754, 'rf_min_samples_leaf': 0.4688803770935648, 'rf_max_features': 'log2', 'rf_random_state': 42}. \n",
      "[I 2024-05-13 11:06:32,753] Trial 444 finished with values: [0.3888888888888889, 0.0] and parameters: {'classifier': 'RandomForest', 'rf_n_estimators': 30, 'rf_max_depth': 5, 'rf_min_samples_split': 0.7398087206937595, 'rf_min_samples_leaf': 0.35882696037096157, 'rf_max_features': 'sqrt', 'rf_random_state': 42}. \n",
      "[I 2024-05-13 11:06:33,320] Trial 445 finished with values: [0.9814814814814815, 0.2433501199705147] and parameters: {'classifier': 'RandomForest', 'rf_n_estimators': 580, 'rf_max_depth': 7, 'rf_min_samples_split': 0.459099670227918, 'rf_min_samples_leaf': 0.11543909948926007, 'rf_max_features': 'log2', 'rf_random_state': 42}. \n",
      "[I 2024-05-13 11:06:33,492] Trial 446 finished with values: [0.9074074074074074, 0.37388731262456576] and parameters: {'classifier': 'RandomForest', 'rf_n_estimators': 10, 'rf_max_depth': 5, 'rf_min_samples_split': 0.5415013549380416, 'rf_min_samples_leaf': 0.19389254276875761, 'rf_max_features': 'log2', 'rf_random_state': 42}. \n",
      "[I 2024-05-13 11:06:33,676] Trial 447 finished with values: [0.3888888888888889, 0.0] and parameters: {'classifier': 'RandomForest', 'rf_n_estimators': 30, 'rf_max_depth': 7, 'rf_min_samples_split': 0.1410270308785712, 'rf_min_samples_leaf': 0.4070862999817465, 'rf_max_features': 'log2', 'rf_random_state': 42}. \n",
      "[I 2024-05-13 11:06:33,844] Trial 448 finished with values: [0.8888888888888888, 0.4648808062012051] and parameters: {'classifier': 'RandomForest', 'rf_n_estimators': 10, 'rf_max_depth': 5, 'rf_min_samples_split': 0.2564763642337099, 'rf_min_samples_leaf': 0.21837590984278663, 'rf_max_features': 'sqrt', 'rf_random_state': 42}. \n",
      "[I 2024-05-13 11:06:34,031] Trial 449 finished with values: [0.3888888888888889, 0.0] and parameters: {'classifier': 'RandomForest', 'rf_n_estimators': 30, 'rf_max_depth': 4, 'rf_min_samples_split': 0.9809600318602272, 'rf_min_samples_leaf': 0.03253553695997191, 'rf_max_features': 'log2', 'rf_random_state': 42}. \n",
      "[I 2024-05-13 11:06:34,205] Trial 450 finished with values: [0.9074074074074074, 0.22201919886431476] and parameters: {'classifier': 'RandomForest', 'rf_n_estimators': 10, 'rf_max_depth': 6, 'rf_min_samples_split': 0.039197098058324276, 'rf_min_samples_leaf': 0.13674108666788742, 'rf_max_features': 'log2', 'rf_random_state': 42}. \n",
      "[I 2024-05-13 11:06:34,554] Trial 451 finished with values: [0.9629629629629629, 0.20611116465670298] and parameters: {'classifier': 'RandomForest', 'rf_n_estimators': 240, 'rf_max_depth': 6, 'rf_min_samples_split': 0.32423102112650803, 'rf_min_samples_leaf': 0.17884982202461425, 'rf_max_features': 'log2', 'rf_random_state': 42}. \n",
      "[I 2024-05-13 11:06:34,734] Trial 452 finished with values: [0.8888888888888888, 0.5058533126363742] and parameters: {'classifier': 'RandomForest', 'rf_n_estimators': 10, 'rf_max_depth': 6, 'rf_min_samples_split': 0.20539586083302425, 'rf_min_samples_leaf': 0.26421293784957706, 'rf_max_features': 'log2', 'rf_random_state': 42}. \n",
      "[I 2024-05-13 11:06:34,911] Trial 453 finished with values: [0.3888888888888889, 0.0] and parameters: {'classifier': 'RandomForest', 'rf_n_estimators': 10, 'rf_max_depth': 6, 'rf_min_samples_split': 0.4234923532471517, 'rf_min_samples_leaf': 0.4874914327139762, 'rf_max_features': 'sqrt', 'rf_random_state': 42}. \n",
      "[I 2024-05-13 11:06:35,088] Trial 454 finished with values: [0.3888888888888889, 0.0] and parameters: {'classifier': 'RandomForest', 'rf_n_estimators': 10, 'rf_max_depth': 6, 'rf_min_samples_split': 0.9439023925182067, 'rf_min_samples_leaf': 0.3304617340755015, 'rf_max_features': 'sqrt', 'rf_random_state': 42}. \n",
      "[I 2024-05-13 11:06:35,284] Trial 455 finished with values: [0.3888888888888889, 0.0] and parameters: {'classifier': 'RandomForest', 'rf_n_estimators': 30, 'rf_max_depth': 6, 'rf_min_samples_split': 0.8843213168792721, 'rf_min_samples_leaf': 0.061558045839020054, 'rf_max_features': 'sqrt', 'rf_random_state': 42}. \n",
      "[I 2024-05-13 11:06:35,460] Trial 456 finished with values: [0.3888888888888889, 0.0] and parameters: {'classifier': 'RandomForest', 'rf_n_estimators': 10, 'rf_max_depth': 6, 'rf_min_samples_split': 0.7690696901227373, 'rf_min_samples_leaf': 0.4532153395044003, 'rf_max_features': 'sqrt', 'rf_random_state': 42}. \n",
      "[I 2024-05-13 11:06:35,652] Trial 457 finished with values: [0.3888888888888889, 0.0] and parameters: {'classifier': 'RandomForest', 'rf_n_estimators': 30, 'rf_max_depth': 6, 'rf_min_samples_split': 0.7245887734238119, 'rf_min_samples_leaf': 0.4245062369247467, 'rf_max_features': 'sqrt', 'rf_random_state': 42}. \n",
      "[I 2024-05-13 11:06:36,149] Trial 458 finished with values: [0.3888888888888889, 0.0] and parameters: {'classifier': 'RandomForest', 'rf_n_estimators': 480, 'rf_max_depth': 6, 'rf_min_samples_split': 0.4514428622140491, 'rf_min_samples_leaf': 0.3789083617369621, 'rf_max_features': 'sqrt', 'rf_random_state': 42}. \n",
      "[I 2024-05-13 11:06:36,328] Trial 459 finished with values: [0.3888888888888889, 0.0] and parameters: {'classifier': 'RandomForest', 'rf_n_estimators': 10, 'rf_max_depth': 6, 'rf_min_samples_split': 0.7918071247149623, 'rf_min_samples_leaf': 0.07686920606404155, 'rf_max_features': 'log2', 'rf_random_state': 42}. \n",
      "[I 2024-05-13 11:06:36,516] Trial 460 finished with values: [0.3888888888888889, 0.0] and parameters: {'classifier': 'RandomForest', 'rf_n_estimators': 10, 'rf_max_depth': 6, 'rf_min_samples_split': 0.7025047462101548, 'rf_min_samples_leaf': 0.16675828461357373, 'rf_max_features': 'sqrt', 'rf_random_state': 42}. \n",
      "[I 2024-05-13 11:06:36,962] Trial 461 finished with values: [0.3888888888888889, 0.0] and parameters: {'classifier': 'RandomForest', 'rf_n_estimators': 390, 'rf_max_depth': 6, 'rf_min_samples_split': 0.1620399340820191, 'rf_min_samples_leaf': 0.44540966465495946, 'rf_max_features': 'log2', 'rf_random_state': 42}. \n",
      "[I 2024-05-13 11:06:37,144] Trial 462 finished with values: [0.3888888888888889, 0.0] and parameters: {'classifier': 'RandomForest', 'rf_n_estimators': 10, 'rf_max_depth': 6, 'rf_min_samples_split': 0.5622295717448658, 'rf_min_samples_leaf': 0.39531853789915083, 'rf_max_features': 'sqrt', 'rf_random_state': 42}. \n",
      "[I 2024-05-13 11:06:37,340] Trial 463 finished with values: [0.8888888888888888, 0.29457462261085376] and parameters: {'classifier': 'RandomForest', 'rf_n_estimators': 30, 'rf_max_depth': 6, 'rf_min_samples_split': 0.5213802755614183, 'rf_min_samples_leaf': 0.27078617702036933, 'rf_max_features': 'log2', 'rf_random_state': 42}. \n",
      "[I 2024-05-13 11:06:37,525] Trial 464 finished with values: [0.3888888888888889, 0.0] and parameters: {'classifier': 'RandomForest', 'rf_n_estimators': 10, 'rf_max_depth': 6, 'rf_min_samples_split': 0.8502835211118565, 'rf_min_samples_leaf': 0.43737268872445567, 'rf_max_features': 'log2', 'rf_random_state': 42}. \n",
      "[I 2024-05-13 11:06:37,716] Trial 465 finished with values: [0.8888888888888888, 0.34236168010628865] and parameters: {'classifier': 'RandomForest', 'rf_n_estimators': 20, 'rf_max_depth': 6, 'rf_min_samples_split': 0.6147018138891616, 'rf_min_samples_leaf': 0.12450815518234801, 'rf_max_features': 'sqrt', 'rf_random_state': 42}. \n",
      "[I 2024-05-13 11:06:37,904] Trial 466 finished with values: [0.9629629629629629, 0.1874248128706525] and parameters: {'classifier': 'RandomForest', 'rf_n_estimators': 10, 'rf_max_depth': 6, 'rf_min_samples_split': 0.1103933982885118, 'rf_min_samples_leaf': 0.010027523787128123, 'rf_max_features': 'log2', 'rf_random_state': 42}. \n",
      "[I 2024-05-13 11:06:38,448] Trial 467 finished with values: [0.3888888888888889, 0.0] and parameters: {'classifier': 'RandomForest', 'rf_n_estimators': 540, 'rf_max_depth': 31, 'rf_min_samples_split': 0.9314099958144275, 'rf_min_samples_leaf': 0.42707841499368415, 'rf_max_features': 'log2', 'rf_random_state': 42}. \n",
      "[I 2024-05-13 11:06:38,656] Trial 468 finished with values: [0.9444444444444444, 0.18608524017905315] and parameters: {'classifier': 'RandomForest', 'rf_n_estimators': 30, 'rf_max_depth': 6, 'rf_min_samples_split': 0.20599885808387713, 'rf_min_samples_leaf': 0.15261223069829788, 'rf_max_features': 'log2', 'rf_random_state': 42}. \n",
      "[I 2024-05-13 11:06:38,847] Trial 469 finished with values: [0.3888888888888889, 0.0] and parameters: {'classifier': 'RandomForest', 'rf_n_estimators': 10, 'rf_max_depth': 6, 'rf_min_samples_split': 0.8167288592509341, 'rf_min_samples_leaf': 0.10500366242989562, 'rf_max_features': 'sqrt', 'rf_random_state': 42}. \n",
      "[I 2024-05-13 11:06:39,035] Trial 470 finished with values: [0.3888888888888889, 0.0] and parameters: {'classifier': 'RandomForest', 'rf_n_estimators': 10, 'rf_max_depth': 6, 'rf_min_samples_split': 0.9655974799800934, 'rf_min_samples_leaf': 0.33607115157811324, 'rf_max_features': 'sqrt', 'rf_random_state': 42}. \n",
      "[I 2024-05-13 11:06:39,224] Trial 471 finished with values: [0.3888888888888889, 0.0] and parameters: {'classifier': 'RandomForest', 'rf_n_estimators': 10, 'rf_max_depth': 6, 'rf_min_samples_split': 0.8963225949101136, 'rf_min_samples_leaf': 0.10897077522887422, 'rf_max_features': 'log2', 'rf_random_state': 42}. \n",
      "[I 2024-05-13 11:06:39,428] Trial 472 finished with values: [0.9444444444444444, 0.17628958720673715] and parameters: {'classifier': 'RandomForest', 'rf_n_estimators': 30, 'rf_max_depth': 6, 'rf_min_samples_split': 0.07410316218433964, 'rf_min_samples_leaf': 0.14304861890000342, 'rf_max_features': 'log2', 'rf_random_state': 42}. \n",
      "[I 2024-05-13 11:06:39,625] Trial 473 finished with values: [0.9444444444444444, 0.38409434364385964] and parameters: {'classifier': 'RandomForest', 'rf_n_estimators': 10, 'rf_max_depth': 6, 'rf_min_samples_split': 0.5704541895316293, 'rf_min_samples_leaf': 0.024989427626035406, 'rf_max_features': 'log2', 'rf_random_state': 42}. \n",
      "[I 2024-05-13 11:06:40,219] Trial 474 finished with values: [0.3888888888888889, 0.0] and parameters: {'classifier': 'RandomForest', 'rf_n_estimators': 590, 'rf_max_depth': 6, 'rf_min_samples_split': 0.4807966654421281, 'rf_min_samples_leaf': 0.4122150982840257, 'rf_max_features': 'log2', 'rf_random_state': 42}. \n",
      "[I 2024-05-13 11:06:40,931] Trial 475 finished with values: [0.3888888888888889, 0.0] and parameters: {'classifier': 'RandomForest', 'rf_n_estimators': 740, 'rf_max_depth': 6, 'rf_min_samples_split': 0.7584044630206536, 'rf_min_samples_leaf': 0.35982273403610326, 'rf_max_features': 'log2', 'rf_random_state': 42}. \n",
      "[I 2024-05-13 11:06:41,150] Trial 476 finished with values: [0.3888888888888889, 0.0] and parameters: {'classifier': 'RandomForest', 'rf_n_estimators': 30, 'rf_max_depth': 6, 'rf_min_samples_split': 0.6943094168917613, 'rf_min_samples_leaf': 0.4999445810558686, 'rf_max_features': 'log2', 'rf_random_state': 42}. \n",
      "[I 2024-05-13 11:06:41,362] Trial 477 finished with values: [0.9444444444444444, 0.3127724653711228] and parameters: {'classifier': 'RandomForest', 'rf_n_estimators': 20, 'rf_max_depth': 6, 'rf_min_samples_split': 0.5944109303894108, 'rf_min_samples_leaf': 0.08294233370502974, 'rf_max_features': 'log2', 'rf_random_state': 42}. \n",
      "[I 2024-05-13 11:06:41,572] Trial 478 finished with values: [0.9444444444444444, 0.2934725678970931] and parameters: {'classifier': 'RandomForest', 'rf_n_estimators': 10, 'rf_max_depth': 6, 'rf_min_samples_split': 0.4049108215871945, 'rf_min_samples_leaf': 0.05233484903502569, 'rf_max_features': 'sqrt', 'rf_random_state': 42}. \n",
      "[I 2024-05-13 11:06:41,802] Trial 479 finished with values: [0.9814814814814815, 0.16195768649609088] and parameters: {'classifier': 'RandomForest', 'rf_n_estimators': 30, 'rf_max_depth': 6, 'rf_min_samples_split': 0.14583384104013625, 'rf_min_samples_leaf': 0.027879189772035053, 'rf_max_features': 'log2', 'rf_random_state': 42}. \n",
      "[I 2024-05-13 11:06:42,024] Trial 480 finished with values: [0.9444444444444444, 0.38409434364385964] and parameters: {'classifier': 'RandomForest', 'rf_n_estimators': 10, 'rf_max_depth': 7, 'rf_min_samples_split': 0.5695295891282246, 'rf_min_samples_leaf': 0.022463071165024745, 'rf_max_features': 'log2', 'rf_random_state': 42}. \n",
      "[I 2024-05-13 11:06:42,241] Trial 481 finished with values: [0.9259259259259259, 0.4781418461045579] and parameters: {'classifier': 'RandomForest', 'rf_n_estimators': 10, 'rf_max_depth': 8, 'rf_min_samples_split': 0.5499596411074065, 'rf_min_samples_leaf': 0.2355741813680214, 'rf_max_features': 'log2', 'rf_random_state': 42}. \n",
      "[I 2024-05-13 11:06:42,453] Trial 482 finished with values: [0.3888888888888889, 0.0] and parameters: {'classifier': 'RandomForest', 'rf_n_estimators': 10, 'rf_max_depth': 23, 'rf_min_samples_split': 0.3674366806462631, 'rf_min_samples_leaf': 0.340815827147086, 'rf_max_features': 'sqrt', 'rf_random_state': 42}. \n",
      "[I 2024-05-13 11:06:43,324] Trial 483 finished with values: [0.3888888888888889, 0.0] and parameters: {'classifier': 'RandomForest', 'rf_n_estimators': 970, 'rf_max_depth': 6, 'rf_min_samples_split': 0.9125906331948204, 'rf_min_samples_leaf': 0.15297361836362525, 'rf_max_features': 'sqrt', 'rf_random_state': 42}. \n",
      "[I 2024-05-13 11:06:43,851] Trial 484 finished with values: [0.9814814814814815, 0.23078122265462608] and parameters: {'classifier': 'RandomForest', 'rf_n_estimators': 450, 'rf_max_depth': 6, 'rf_min_samples_split': 0.44064473170730845, 'rf_min_samples_leaf': 0.1126887206185887, 'rf_max_features': 'sqrt', 'rf_random_state': 42}. \n",
      "[I 2024-05-13 11:06:44,066] Trial 485 finished with values: [0.9259259259259259, 0.5065930746700583] and parameters: {'classifier': 'RandomForest', 'rf_n_estimators': 10, 'rf_max_depth': 6, 'rf_min_samples_split': 0.5386450426581872, 'rf_min_samples_leaf': 0.2682319775578038, 'rf_max_features': 'sqrt', 'rf_random_state': 42}. \n",
      "[I 2024-05-13 11:06:44,947] Trial 486 finished with values: [0.9814814814814815, 0.26217917998059637] and parameters: {'classifier': 'RandomForest', 'rf_n_estimators': 960, 'rf_max_depth': 26, 'rf_min_samples_split': 0.6161954084284551, 'rf_min_samples_leaf': 0.010129140989558458, 'rf_max_features': 'sqrt', 'rf_random_state': 42}. \n",
      "[I 2024-05-13 11:06:45,856] Trial 487 finished with values: [0.9814814814814815, 0.26184184856701576] and parameters: {'classifier': 'RandomForest', 'rf_n_estimators': 980, 'rf_max_depth': 26, 'rf_min_samples_split': 0.5851597317424009, 'rf_min_samples_leaf': 0.010001784290027935, 'rf_max_features': 'sqrt', 'rf_random_state': 42}. \n",
      "[I 2024-05-13 11:06:46,745] Trial 488 finished with values: [0.9814814814814815, 0.2595450769487464] and parameters: {'classifier': 'RandomForest', 'rf_n_estimators': 970, 'rf_max_depth': 26, 'rf_min_samples_split': 0.566039571795051, 'rf_min_samples_leaf': 0.018871853333216025, 'rf_max_features': 'sqrt', 'rf_random_state': 42}. \n",
      "[I 2024-05-13 11:06:47,636] Trial 489 finished with values: [0.9814814814814815, 0.2622559641984391] and parameters: {'classifier': 'RandomForest', 'rf_n_estimators': 970, 'rf_max_depth': 26, 'rf_min_samples_split': 0.6087928723641137, 'rf_min_samples_leaf': 0.01815840475253253, 'rf_max_features': 'sqrt', 'rf_random_state': 42}. \n",
      "[I 2024-05-13 11:06:48,502] Trial 490 finished with values: [0.3888888888888889, 0.3905325029288266] and parameters: {'classifier': 'RandomForest', 'rf_n_estimators': 950, 'rf_max_depth': 26, 'rf_min_samples_split': 0.680808529755968, 'rf_min_samples_leaf': 0.010163738536276386, 'rf_max_features': 'sqrt', 'rf_random_state': 42}. \n",
      "[I 2024-05-13 11:06:49,393] Trial 491 finished with values: [0.9814814814814815, 0.26024562594769285] and parameters: {'classifier': 'RandomForest', 'rf_n_estimators': 950, 'rf_max_depth': 25, 'rf_min_samples_split': 0.5739041776523087, 'rf_min_samples_leaf': 0.02108371201785018, 'rf_max_features': 'sqrt', 'rf_random_state': 42}. \n",
      "[I 2024-05-13 11:06:50,276] Trial 492 finished with values: [0.9629629629629629, 0.2683652072451542] and parameters: {'classifier': 'RandomForest', 'rf_n_estimators': 950, 'rf_max_depth': 27, 'rf_min_samples_split': 0.6324157067212963, 'rf_min_samples_leaf': 0.018464914191110987, 'rf_max_features': 'sqrt', 'rf_random_state': 42}. \n",
      "[I 2024-05-13 11:06:51,168] Trial 493 finished with values: [0.9814814814814815, 0.26122493498159405] and parameters: {'classifier': 'RandomForest', 'rf_n_estimators': 950, 'rf_max_depth': 11, 'rf_min_samples_split': 0.5943203200101415, 'rf_min_samples_leaf': 0.07462743321667034, 'rf_max_features': 'sqrt', 'rf_random_state': 42}. \n",
      "[I 2024-05-13 11:06:51,942] Trial 494 finished with values: [0.9814814814814815, 0.26407724370296826] and parameters: {'classifier': 'RandomForest', 'rf_n_estimators': 760, 'rf_max_depth': 11, 'rf_min_samples_split': 0.5831904596685136, 'rf_min_samples_leaf': 0.07514812847298145, 'rf_max_features': 'sqrt', 'rf_random_state': 42}. \n",
      "[I 2024-05-13 11:06:52,744] Trial 495 finished with values: [0.9814814814814815, 0.26518540437795723] and parameters: {'classifier': 'RandomForest', 'rf_n_estimators': 800, 'rf_max_depth': 11, 'rf_min_samples_split': 0.596454106023226, 'rf_min_samples_leaf': 0.04072452095463246, 'rf_max_features': 'sqrt', 'rf_random_state': 42}. \n",
      "[I 2024-05-13 11:06:53,527] Trial 496 finished with values: [0.9814814814814815, 0.26432566263508517] and parameters: {'classifier': 'RandomForest', 'rf_n_estimators': 790, 'rf_max_depth': 11, 'rf_min_samples_split': 0.5993813831828461, 'rf_min_samples_leaf': 0.03472459969145411, 'rf_max_features': 'sqrt', 'rf_random_state': 42}. \n",
      "[I 2024-05-13 11:06:54,321] Trial 497 finished with values: [0.9814814814814815, 0.26514642108279574] and parameters: {'classifier': 'RandomForest', 'rf_n_estimators': 800, 'rf_max_depth': 11, 'rf_min_samples_split': 0.6031704912410762, 'rf_min_samples_leaf': 0.02606615065494898, 'rf_max_features': 'sqrt', 'rf_random_state': 42}. \n",
      "[I 2024-05-13 11:06:55,225] Trial 498 finished with values: [0.9814814814814815, 0.2269489390097994] and parameters: {'classifier': 'RandomForest', 'rf_n_estimators': 950, 'rf_max_depth': 11, 'rf_min_samples_split': 0.42359279072287986, 'rf_min_samples_leaf': 0.0219793815458472, 'rf_max_features': 'sqrt', 'rf_random_state': 42}. \n",
      "[I 2024-05-13 11:06:56,116] Trial 499 finished with values: [0.3888888888888889, 0.0] and parameters: {'classifier': 'RandomForest', 'rf_n_estimators': 950, 'rf_max_depth': 11, 'rf_min_samples_split': 0.7966087011069004, 'rf_min_samples_leaf': 0.02116916209944264, 'rf_max_features': 'sqrt', 'rf_random_state': 42}. \n"
     ]
    }
   ],
   "source": [
    "# Test\n",
    "synthetic_df = autohypothesis_utils.create_dataset(n=10, k=500, c=3, b=4)\n",
    "exp,X_train, X_dev, y_train, y_dev  = autohypothesis_utils.opti_loop(wine,500, optimize_obj=\"dual\")"
   ]
  },
  {
   "cell_type": "code",
   "execution_count": 6,
   "metadata": {},
   "outputs": [
    {
     "data": {
      "application/vnd.plotly.v1+json": {
       "config": {
        "plotlyServerURL": "https://plot.ly"
       },
       "data": [
        {
         "hovertemplate": "%{text}<extra>Trial</extra>",
         "marker": {
          "color": [],
          "colorbar": {
           "title": {
            "text": "Trial"
           }
          },
          "colorscale": [
           [
            0,
            "rgb(247,251,255)"
           ],
           [
            0.125,
            "rgb(222,235,247)"
           ],
           [
            0.25,
            "rgb(198,219,239)"
           ],
           [
            0.375,
            "rgb(158,202,225)"
           ],
           [
            0.5,
            "rgb(107,174,214)"
           ],
           [
            0.625,
            "rgb(66,146,198)"
           ],
           [
            0.75,
            "rgb(33,113,181)"
           ],
           [
            0.875,
            "rgb(8,81,156)"
           ],
           [
            1,
            "rgb(8,48,107)"
           ]
          ],
          "line": {
           "color": "Grey",
           "width": 0.5
          }
         },
         "mode": "markers",
         "showlegend": false,
         "text": [],
         "type": "scatter",
         "x": [],
         "y": []
        },
        {
         "hovertemplate": "%{text}<extra>Best Trial</extra>",
         "marker": {
          "color": [
           21,
           22,
           156,
           158,
           160,
           163,
           165,
           169,
           183,
           184,
           185,
           186,
           190,
           211,
           216,
           220,
           223,
           231,
           240,
           250,
           251,
           253,
           257,
           281,
           310,
           318,
           319,
           328,
           421,
           425,
           438,
           485,
           492,
           495
          ],
          "colorbar": {
           "title": {
            "text": "Best Trial"
           },
           "x": 1,
           "xpad": 40
          },
          "colorscale": [
           [
            0,
            "rgb(255,245,240)"
           ],
           [
            0.125,
            "rgb(254,224,210)"
           ],
           [
            0.25,
            "rgb(252,187,161)"
           ],
           [
            0.375,
            "rgb(252,146,114)"
           ],
           [
            0.5,
            "rgb(251,106,74)"
           ],
           [
            0.625,
            "rgb(239,59,44)"
           ],
           [
            0.75,
            "rgb(203,24,29)"
           ],
           [
            0.875,
            "rgb(165,15,21)"
           ],
           [
            1,
            "rgb(103,0,13)"
           ]
          ],
          "line": {
           "color": "Grey",
           "width": 0.5
          }
         },
         "mode": "markers",
         "showlegend": false,
         "text": [
          "{<br>  \"number\": 21,<br>  \"values\": [<br>    0.3888888888888889,<br>    1.0<br>  ],<br>  \"params\": {<br>    \"classifier\": \"RandomForest\",<br>    \"rf_n_estimators\": 600,<br>    \"rf_max_depth\": 20,<br>    \"rf_min_samples_split\": 0.7187268560312803,<br>    \"rf_min_samples_leaf\": 0.23070711130402274,<br>    \"rf_max_features\": \"sqrt\",<br>    \"rf_random_state\": 42<br>  }<br>}",
          "{<br>  \"number\": 22,<br>  \"values\": [<br>    0.3888888888888889,<br>    1.0<br>  ],<br>  \"params\": {<br>    \"classifier\": \"RandomForest\",<br>    \"rf_n_estimators\": 50,<br>    \"rf_max_depth\": 25,<br>    \"rf_min_samples_split\": 0.6958914388726675,<br>    \"rf_min_samples_leaf\": 0.12063766822223576,<br>    \"rf_max_features\": \"log2\",<br>    \"rf_random_state\": 42<br>  }<br>}",
          "{<br>  \"number\": 156,<br>  \"values\": [<br>    0.3888888888888889,<br>    1.0<br>  ],<br>  \"params\": {<br>    \"classifier\": \"RandomForest\",<br>    \"rf_n_estimators\": 840,<br>    \"rf_max_depth\": 13,<br>    \"rf_min_samples_split\": 0.7165843309799542,<br>    \"rf_min_samples_leaf\": 0.2493995719038865,<br>    \"rf_max_features\": \"log2\",<br>    \"rf_random_state\": 42<br>  }<br>}",
          "{<br>  \"number\": 158,<br>  \"values\": [<br>    0.3888888888888889,<br>    1.0<br>  ],<br>  \"params\": {<br>    \"classifier\": \"RandomForest\",<br>    \"rf_n_estimators\": 910,<br>    \"rf_max_depth\": 10,<br>    \"rf_min_samples_split\": 0.7146693957434491,<br>    \"rf_min_samples_leaf\": 0.21643946946885037,<br>    \"rf_max_features\": \"log2\",<br>    \"rf_random_state\": 42<br>  }<br>}",
          "{<br>  \"number\": 160,<br>  \"values\": [<br>    0.3888888888888889,<br>    1.0<br>  ],<br>  \"params\": {<br>    \"classifier\": \"RandomForest\",<br>    \"rf_n_estimators\": 900,<br>    \"rf_max_depth\": 13,<br>    \"rf_min_samples_split\": 0.7205974468620979,<br>    \"rf_min_samples_leaf\": 0.28414339461651417,<br>    \"rf_max_features\": \"log2\",<br>    \"rf_random_state\": 42<br>  }<br>}",
          "{<br>  \"number\": 163,<br>  \"values\": [<br>    0.3888888888888889,<br>    1.0<br>  ],<br>  \"params\": {<br>    \"classifier\": \"RandomForest\",<br>    \"rf_n_estimators\": 880,<br>    \"rf_max_depth\": 13,<br>    \"rf_min_samples_split\": 0.7254844777926237,<br>    \"rf_min_samples_leaf\": 0.28325527253124144,<br>    \"rf_max_features\": \"log2\",<br>    \"rf_random_state\": 42<br>  }<br>}",
          "{<br>  \"number\": 165,<br>  \"values\": [<br>    0.3888888888888889,<br>    1.0<br>  ],<br>  \"params\": {<br>    \"classifier\": \"RandomForest\",<br>    \"rf_n_estimators\": 920,<br>    \"rf_max_depth\": 26,<br>    \"rf_min_samples_split\": 0.7185857467444768,<br>    \"rf_min_samples_leaf\": 0.0248701044623958,<br>    \"rf_max_features\": \"sqrt\",<br>    \"rf_random_state\": 42<br>  }<br>}",
          "{<br>  \"number\": 169,<br>  \"values\": [<br>    0.3888888888888889,<br>    1.0<br>  ],<br>  \"params\": {<br>    \"classifier\": \"RandomForest\",<br>    \"rf_n_estimators\": 720,<br>    \"rf_max_depth\": 27,<br>    \"rf_min_samples_split\": 0.7218113854602224,<br>    \"rf_min_samples_leaf\": 0.026147269181784172,<br>    \"rf_max_features\": \"sqrt\",<br>    \"rf_random_state\": 42<br>  }<br>}",
          "{<br>  \"number\": 183,<br>  \"values\": [<br>    0.3888888888888889,<br>    1.0<br>  ],<br>  \"params\": {<br>    \"classifier\": \"RandomForest\",<br>    \"rf_n_estimators\": 840,<br>    \"rf_max_depth\": 27,<br>    \"rf_min_samples_split\": 0.7225459997378982,<br>    \"rf_min_samples_leaf\": 0.08107821458859218,<br>    \"rf_max_features\": \"sqrt\",<br>    \"rf_random_state\": 42<br>  }<br>}",
          "{<br>  \"number\": 184,<br>  \"values\": [<br>    0.3888888888888889,<br>    1.0<br>  ],<br>  \"params\": {<br>    \"classifier\": \"RandomForest\",<br>    \"rf_n_estimators\": 840,<br>    \"rf_max_depth\": 27,<br>    \"rf_min_samples_split\": 0.7219523353535012,<br>    \"rf_min_samples_leaf\": 0.17176587439499902,<br>    \"rf_max_features\": \"sqrt\",<br>    \"rf_random_state\": 42<br>  }<br>}",
          "{<br>  \"number\": 185,<br>  \"values\": [<br>    0.3888888888888889,<br>    1.0<br>  ],<br>  \"params\": {<br>    \"classifier\": \"RandomForest\",<br>    \"rf_n_estimators\": 910,<br>    \"rf_max_depth\": 13,<br>    \"rf_min_samples_split\": 0.7224270893644105,<br>    \"rf_min_samples_leaf\": 0.25286403776373567,<br>    \"rf_max_features\": \"log2\",<br>    \"rf_random_state\": 42<br>  }<br>}",
          "{<br>  \"number\": 186,<br>  \"values\": [<br>    0.3888888888888889,<br>    1.0<br>  ],<br>  \"params\": {<br>    \"classifier\": \"RandomForest\",<br>    \"rf_n_estimators\": 920,<br>    \"rf_max_depth\": 13,<br>    \"rf_min_samples_split\": 0.7208484479752097,<br>    \"rf_min_samples_leaf\": 0.2455942870805237,<br>    \"rf_max_features\": \"log2\",<br>    \"rf_random_state\": 42<br>  }<br>}",
          "{<br>  \"number\": 190,<br>  \"values\": [<br>    0.3888888888888889,<br>    1.0<br>  ],<br>  \"params\": {<br>    \"classifier\": \"RandomForest\",<br>    \"rf_n_estimators\": 920,<br>    \"rf_max_depth\": 13,<br>    \"rf_min_samples_split\": 0.7194471643023715,<br>    \"rf_min_samples_leaf\": 0.22583887614082637,<br>    \"rf_max_features\": \"log2\",<br>    \"rf_random_state\": 42<br>  }<br>}",
          "{<br>  \"number\": 211,<br>  \"values\": [<br>    0.3888888888888889,<br>    1.0<br>  ],<br>  \"params\": {<br>    \"classifier\": \"RandomForest\",<br>    \"rf_n_estimators\": 880,<br>    \"rf_max_depth\": 13,<br>    \"rf_min_samples_split\": 0.7142382096883513,<br>    \"rf_min_samples_leaf\": 0.22664782520430188,<br>    \"rf_max_features\": \"log2\",<br>    \"rf_random_state\": 42<br>  }<br>}",
          "{<br>  \"number\": 216,<br>  \"values\": [<br>    1.0,<br>    0.1757037207368244<br>  ],<br>  \"params\": {<br>    \"classifier\": \"RandomForest\",<br>    \"rf_n_estimators\": 940,<br>    \"rf_max_depth\": 11,<br>    \"rf_min_samples_split\": 0.11826874477845095,<br>    \"rf_min_samples_leaf\": 0.012759764971506632,<br>    \"rf_max_features\": \"log2\",<br>    \"rf_random_state\": 42<br>  }<br>}",
          "{<br>  \"number\": 220,<br>  \"values\": [<br>    0.3888888888888889,<br>    1.0<br>  ],<br>  \"params\": {<br>    \"classifier\": \"RandomForest\",<br>    \"rf_n_estimators\": 890,<br>    \"rf_max_depth\": 27,<br>    \"rf_min_samples_split\": 0.7236605070812756,<br>    \"rf_min_samples_leaf\": 0.2962438414506324,<br>    \"rf_max_features\": \"log2\",<br>    \"rf_random_state\": 42<br>  }<br>}",
          "{<br>  \"number\": 223,<br>  \"values\": [<br>    0.3888888888888889,<br>    1.0<br>  ],<br>  \"params\": {<br>    \"classifier\": \"RandomForest\",<br>    \"rf_n_estimators\": 860,<br>    \"rf_max_depth\": 11,<br>    \"rf_min_samples_split\": 0.7147015169776921,<br>    \"rf_min_samples_leaf\": 0.012015968319208786,<br>    \"rf_max_features\": \"log2\",<br>    \"rf_random_state\": 42<br>  }<br>}",
          "{<br>  \"number\": 231,<br>  \"values\": [<br>    0.3888888888888889,<br>    1.0<br>  ],<br>  \"params\": {<br>    \"classifier\": \"RandomForest\",<br>    \"rf_n_estimators\": 870,<br>    \"rf_max_depth\": 26,<br>    \"rf_min_samples_split\": 0.7165088204174491,<br>    \"rf_min_samples_leaf\": 0.07955168396760225,<br>    \"rf_max_features\": \"log2\",<br>    \"rf_random_state\": 42<br>  }<br>}",
          "{<br>  \"number\": 240,<br>  \"values\": [<br>    0.3888888888888889,<br>    1.0<br>  ],<br>  \"params\": {<br>    \"classifier\": \"RandomForest\",<br>    \"rf_n_estimators\": 860,<br>    \"rf_max_depth\": 11,<br>    \"rf_min_samples_split\": 0.7253929643198096,<br>    \"rf_min_samples_leaf\": 0.11383416600647693,<br>    \"rf_max_features\": \"log2\",<br>    \"rf_random_state\": 42<br>  }<br>}",
          "{<br>  \"number\": 250,<br>  \"values\": [<br>    0.3888888888888889,<br>    1.0<br>  ],<br>  \"params\": {<br>    \"classifier\": \"RandomForest\",<br>    \"rf_n_estimators\": 870,<br>    \"rf_max_depth\": 26,<br>    \"rf_min_samples_split\": 0.7113294497097357,<br>    \"rf_min_samples_leaf\": 0.08225066075722248,<br>    \"rf_max_features\": \"log2\",<br>    \"rf_random_state\": 42<br>  }<br>}",
          "{<br>  \"number\": 251,<br>  \"values\": [<br>    0.3888888888888889,<br>    1.0<br>  ],<br>  \"params\": {<br>    \"classifier\": \"RandomForest\",<br>    \"rf_n_estimators\": 920,<br>    \"rf_max_depth\": 14,<br>    \"rf_min_samples_split\": 0.719846733917592,<br>    \"rf_min_samples_leaf\": 0.16515339779836374,<br>    \"rf_max_features\": \"log2\",<br>    \"rf_random_state\": 42<br>  }<br>}",
          "{<br>  \"number\": 253,<br>  \"values\": [<br>    0.3888888888888889,<br>    1.0<br>  ],<br>  \"params\": {<br>    \"classifier\": \"RandomForest\",<br>    \"rf_n_estimators\": 860,<br>    \"rf_max_depth\": 13,<br>    \"rf_min_samples_split\": 0.13383331830354867,<br>    \"rf_min_samples_leaf\": 0.3616392367356819,<br>    \"rf_max_features\": \"log2\",<br>    \"rf_random_state\": 42<br>  }<br>}",
          "{<br>  \"number\": 257,<br>  \"values\": [<br>    0.9629629629629629,<br>    0.2683652072451542<br>  ],<br>  \"params\": {<br>    \"classifier\": \"RandomForest\",<br>    \"rf_n_estimators\": 950,<br>    \"rf_max_depth\": 26,<br>    \"rf_min_samples_split\": 0.6357915469317515,<br>    \"rf_min_samples_leaf\": 0.010353768313471845,<br>    \"rf_max_features\": \"sqrt\",<br>    \"rf_random_state\": 42<br>  }<br>}",
          "{<br>  \"number\": 281,<br>  \"values\": [<br>    0.3888888888888889,<br>    1.0<br>  ],<br>  \"params\": {<br>    \"classifier\": \"RandomForest\",<br>    \"rf_n_estimators\": 870,<br>    \"rf_max_depth\": 13,<br>    \"rf_min_samples_split\": 0.7177522281241839,<br>    \"rf_min_samples_leaf\": 0.27843349749176777,<br>    \"rf_max_features\": \"log2\",<br>    \"rf_random_state\": 42<br>  }<br>}",
          "{<br>  \"number\": 310,<br>  \"values\": [<br>    0.3888888888888889,<br>    1.0<br>  ],<br>  \"params\": {<br>    \"classifier\": \"RandomForest\",<br>    \"rf_n_estimators\": 850,<br>    \"rf_max_depth\": 15,<br>    \"rf_min_samples_split\": 0.7175338259370546,<br>    \"rf_min_samples_leaf\": 0.30910338939414556,<br>    \"rf_max_features\": \"log2\",<br>    \"rf_random_state\": 42<br>  }<br>}",
          "{<br>  \"number\": 318,<br>  \"values\": [<br>    0.7222222222222222,<br>    0.5212757663038606<br>  ],<br>  \"params\": {<br>    \"classifier\": \"RandomForest\",<br>    \"rf_n_estimators\": 10,<br>    \"rf_max_depth\": 12,<br>    \"rf_min_samples_split\": 0.08457436897190215,<br>    \"rf_min_samples_leaf\": 0.30109062693117816,<br>    \"rf_max_features\": \"log2\",<br>    \"rf_random_state\": 42<br>  }<br>}",
          "{<br>  \"number\": 319,<br>  \"values\": [<br>    0.7222222222222222,<br>    0.5212757663038606<br>  ],<br>  \"params\": {<br>    \"classifier\": \"RandomForest\",<br>    \"rf_n_estimators\": 10,<br>    \"rf_max_depth\": 11,<br>    \"rf_min_samples_split\": 0.070556893630972,<br>    \"rf_min_samples_leaf\": 0.30232876362640476,<br>    \"rf_max_features\": \"log2\",<br>    \"rf_random_state\": 42<br>  }<br>}",
          "{<br>  \"number\": 328,<br>  \"values\": [<br>    0.9259259259259259,<br>    0.5065930746700583<br>  ],<br>  \"params\": {<br>    \"classifier\": \"RandomForest\",<br>    \"rf_n_estimators\": 10,<br>    \"rf_max_depth\": 6,<br>    \"rf_min_samples_split\": 0.13677421739291806,<br>    \"rf_min_samples_leaf\": 0.27282565701061573,<br>    \"rf_max_features\": \"log2\",<br>    \"rf_random_state\": 42<br>  }<br>}",
          "{<br>  \"number\": 421,<br>  \"values\": [<br>    0.9444444444444444,<br>    0.46170908086424134<br>  ],<br>  \"params\": {<br>    \"classifier\": \"RandomForest\",<br>    \"rf_n_estimators\": 10,<br>    \"rf_max_depth\": 6,<br>    \"rf_min_samples_split\": 0.5993198522996707,<br>    \"rf_min_samples_leaf\": 0.09754638949536548,<br>    \"rf_max_features\": \"log2\",<br>    \"rf_random_state\": 42<br>  }<br>}",
          "{<br>  \"number\": 425,<br>  \"values\": [<br>    0.9444444444444444,<br>    0.46170908086424134<br>  ],<br>  \"params\": {<br>    \"classifier\": \"RandomForest\",<br>    \"rf_n_estimators\": 10,<br>    \"rf_max_depth\": 7,<br>    \"rf_min_samples_split\": 0.6016998379224603,<br>    \"rf_min_samples_leaf\": 0.10718370665504631,<br>    \"rf_max_features\": \"log2\",<br>    \"rf_random_state\": 42<br>  }<br>}",
          "{<br>  \"number\": 438,<br>  \"values\": [<br>    0.7222222222222222,<br>    0.5212757663038606<br>  ],<br>  \"params\": {<br>    \"classifier\": \"RandomForest\",<br>    \"rf_n_estimators\": 10,<br>    \"rf_max_depth\": 4,<br>    \"rf_min_samples_split\": 0.2498987069219375,<br>    \"rf_min_samples_leaf\": 0.30517936906650245,<br>    \"rf_max_features\": \"log2\",<br>    \"rf_random_state\": 42<br>  }<br>}",
          "{<br>  \"number\": 485,<br>  \"values\": [<br>    0.9259259259259259,<br>    0.5065930746700583<br>  ],<br>  \"params\": {<br>    \"classifier\": \"RandomForest\",<br>    \"rf_n_estimators\": 10,<br>    \"rf_max_depth\": 6,<br>    \"rf_min_samples_split\": 0.5386450426581872,<br>    \"rf_min_samples_leaf\": 0.2682319775578038,<br>    \"rf_max_features\": \"sqrt\",<br>    \"rf_random_state\": 42<br>  }<br>}",
          "{<br>  \"number\": 492,<br>  \"values\": [<br>    0.9629629629629629,<br>    0.2683652072451542<br>  ],<br>  \"params\": {<br>    \"classifier\": \"RandomForest\",<br>    \"rf_n_estimators\": 950,<br>    \"rf_max_depth\": 27,<br>    \"rf_min_samples_split\": 0.6324157067212963,<br>    \"rf_min_samples_leaf\": 0.018464914191110987,<br>    \"rf_max_features\": \"sqrt\",<br>    \"rf_random_state\": 42<br>  }<br>}",
          "{<br>  \"number\": 495,<br>  \"values\": [<br>    0.9814814814814815,<br>    0.26518540437795723<br>  ],<br>  \"params\": {<br>    \"classifier\": \"RandomForest\",<br>    \"rf_n_estimators\": 800,<br>    \"rf_max_depth\": 11,<br>    \"rf_min_samples_split\": 0.596454106023226,<br>    \"rf_min_samples_leaf\": 0.04072452095463246,<br>    \"rf_max_features\": \"sqrt\",<br>    \"rf_random_state\": 42<br>  }<br>}"
         ],
         "type": "scatter",
         "x": [
          0.3888888888888889,
          0.3888888888888889,
          0.3888888888888889,
          0.3888888888888889,
          0.3888888888888889,
          0.3888888888888889,
          0.3888888888888889,
          0.3888888888888889,
          0.3888888888888889,
          0.3888888888888889,
          0.3888888888888889,
          0.3888888888888889,
          0.3888888888888889,
          0.3888888888888889,
          1,
          0.3888888888888889,
          0.3888888888888889,
          0.3888888888888889,
          0.3888888888888889,
          0.3888888888888889,
          0.3888888888888889,
          0.3888888888888889,
          0.9629629629629629,
          0.3888888888888889,
          0.3888888888888889,
          0.7222222222222222,
          0.7222222222222222,
          0.9259259259259259,
          0.9444444444444444,
          0.9444444444444444,
          0.7222222222222222,
          0.9259259259259259,
          0.9629629629629629,
          0.9814814814814815
         ],
         "y": [
          1,
          1,
          1,
          1,
          1,
          1,
          1,
          1,
          1,
          1,
          1,
          1,
          1,
          1,
          0.1757037207368244,
          1,
          1,
          1,
          1,
          1,
          1,
          1,
          0.2683652072451542,
          1,
          1,
          0.5212757663038606,
          0.5212757663038606,
          0.5065930746700583,
          0.46170908086424134,
          0.46170908086424134,
          0.5212757663038606,
          0.5065930746700583,
          0.2683652072451542,
          0.26518540437795723
         ]
        }
       ],
       "layout": {
        "template": {
         "data": {
          "bar": [
           {
            "error_x": {
             "color": "#2a3f5f"
            },
            "error_y": {
             "color": "#2a3f5f"
            },
            "marker": {
             "line": {
              "color": "#E5ECF6",
              "width": 0.5
             },
             "pattern": {
              "fillmode": "overlay",
              "size": 10,
              "solidity": 0.2
             }
            },
            "type": "bar"
           }
          ],
          "barpolar": [
           {
            "marker": {
             "line": {
              "color": "#E5ECF6",
              "width": 0.5
             },
             "pattern": {
              "fillmode": "overlay",
              "size": 10,
              "solidity": 0.2
             }
            },
            "type": "barpolar"
           }
          ],
          "carpet": [
           {
            "aaxis": {
             "endlinecolor": "#2a3f5f",
             "gridcolor": "white",
             "linecolor": "white",
             "minorgridcolor": "white",
             "startlinecolor": "#2a3f5f"
            },
            "baxis": {
             "endlinecolor": "#2a3f5f",
             "gridcolor": "white",
             "linecolor": "white",
             "minorgridcolor": "white",
             "startlinecolor": "#2a3f5f"
            },
            "type": "carpet"
           }
          ],
          "choropleth": [
           {
            "colorbar": {
             "outlinewidth": 0,
             "ticks": ""
            },
            "type": "choropleth"
           }
          ],
          "contour": [
           {
            "colorbar": {
             "outlinewidth": 0,
             "ticks": ""
            },
            "colorscale": [
             [
              0,
              "#0d0887"
             ],
             [
              0.1111111111111111,
              "#46039f"
             ],
             [
              0.2222222222222222,
              "#7201a8"
             ],
             [
              0.3333333333333333,
              "#9c179e"
             ],
             [
              0.4444444444444444,
              "#bd3786"
             ],
             [
              0.5555555555555556,
              "#d8576b"
             ],
             [
              0.6666666666666666,
              "#ed7953"
             ],
             [
              0.7777777777777778,
              "#fb9f3a"
             ],
             [
              0.8888888888888888,
              "#fdca26"
             ],
             [
              1,
              "#f0f921"
             ]
            ],
            "type": "contour"
           }
          ],
          "contourcarpet": [
           {
            "colorbar": {
             "outlinewidth": 0,
             "ticks": ""
            },
            "type": "contourcarpet"
           }
          ],
          "heatmap": [
           {
            "colorbar": {
             "outlinewidth": 0,
             "ticks": ""
            },
            "colorscale": [
             [
              0,
              "#0d0887"
             ],
             [
              0.1111111111111111,
              "#46039f"
             ],
             [
              0.2222222222222222,
              "#7201a8"
             ],
             [
              0.3333333333333333,
              "#9c179e"
             ],
             [
              0.4444444444444444,
              "#bd3786"
             ],
             [
              0.5555555555555556,
              "#d8576b"
             ],
             [
              0.6666666666666666,
              "#ed7953"
             ],
             [
              0.7777777777777778,
              "#fb9f3a"
             ],
             [
              0.8888888888888888,
              "#fdca26"
             ],
             [
              1,
              "#f0f921"
             ]
            ],
            "type": "heatmap"
           }
          ],
          "heatmapgl": [
           {
            "colorbar": {
             "outlinewidth": 0,
             "ticks": ""
            },
            "colorscale": [
             [
              0,
              "#0d0887"
             ],
             [
              0.1111111111111111,
              "#46039f"
             ],
             [
              0.2222222222222222,
              "#7201a8"
             ],
             [
              0.3333333333333333,
              "#9c179e"
             ],
             [
              0.4444444444444444,
              "#bd3786"
             ],
             [
              0.5555555555555556,
              "#d8576b"
             ],
             [
              0.6666666666666666,
              "#ed7953"
             ],
             [
              0.7777777777777778,
              "#fb9f3a"
             ],
             [
              0.8888888888888888,
              "#fdca26"
             ],
             [
              1,
              "#f0f921"
             ]
            ],
            "type": "heatmapgl"
           }
          ],
          "histogram": [
           {
            "marker": {
             "pattern": {
              "fillmode": "overlay",
              "size": 10,
              "solidity": 0.2
             }
            },
            "type": "histogram"
           }
          ],
          "histogram2d": [
           {
            "colorbar": {
             "outlinewidth": 0,
             "ticks": ""
            },
            "colorscale": [
             [
              0,
              "#0d0887"
             ],
             [
              0.1111111111111111,
              "#46039f"
             ],
             [
              0.2222222222222222,
              "#7201a8"
             ],
             [
              0.3333333333333333,
              "#9c179e"
             ],
             [
              0.4444444444444444,
              "#bd3786"
             ],
             [
              0.5555555555555556,
              "#d8576b"
             ],
             [
              0.6666666666666666,
              "#ed7953"
             ],
             [
              0.7777777777777778,
              "#fb9f3a"
             ],
             [
              0.8888888888888888,
              "#fdca26"
             ],
             [
              1,
              "#f0f921"
             ]
            ],
            "type": "histogram2d"
           }
          ],
          "histogram2dcontour": [
           {
            "colorbar": {
             "outlinewidth": 0,
             "ticks": ""
            },
            "colorscale": [
             [
              0,
              "#0d0887"
             ],
             [
              0.1111111111111111,
              "#46039f"
             ],
             [
              0.2222222222222222,
              "#7201a8"
             ],
             [
              0.3333333333333333,
              "#9c179e"
             ],
             [
              0.4444444444444444,
              "#bd3786"
             ],
             [
              0.5555555555555556,
              "#d8576b"
             ],
             [
              0.6666666666666666,
              "#ed7953"
             ],
             [
              0.7777777777777778,
              "#fb9f3a"
             ],
             [
              0.8888888888888888,
              "#fdca26"
             ],
             [
              1,
              "#f0f921"
             ]
            ],
            "type": "histogram2dcontour"
           }
          ],
          "mesh3d": [
           {
            "colorbar": {
             "outlinewidth": 0,
             "ticks": ""
            },
            "type": "mesh3d"
           }
          ],
          "parcoords": [
           {
            "line": {
             "colorbar": {
              "outlinewidth": 0,
              "ticks": ""
             }
            },
            "type": "parcoords"
           }
          ],
          "pie": [
           {
            "automargin": true,
            "type": "pie"
           }
          ],
          "scatter": [
           {
            "fillpattern": {
             "fillmode": "overlay",
             "size": 10,
             "solidity": 0.2
            },
            "type": "scatter"
           }
          ],
          "scatter3d": [
           {
            "line": {
             "colorbar": {
              "outlinewidth": 0,
              "ticks": ""
             }
            },
            "marker": {
             "colorbar": {
              "outlinewidth": 0,
              "ticks": ""
             }
            },
            "type": "scatter3d"
           }
          ],
          "scattercarpet": [
           {
            "marker": {
             "colorbar": {
              "outlinewidth": 0,
              "ticks": ""
             }
            },
            "type": "scattercarpet"
           }
          ],
          "scattergeo": [
           {
            "marker": {
             "colorbar": {
              "outlinewidth": 0,
              "ticks": ""
             }
            },
            "type": "scattergeo"
           }
          ],
          "scattergl": [
           {
            "marker": {
             "colorbar": {
              "outlinewidth": 0,
              "ticks": ""
             }
            },
            "type": "scattergl"
           }
          ],
          "scattermapbox": [
           {
            "marker": {
             "colorbar": {
              "outlinewidth": 0,
              "ticks": ""
             }
            },
            "type": "scattermapbox"
           }
          ],
          "scatterpolar": [
           {
            "marker": {
             "colorbar": {
              "outlinewidth": 0,
              "ticks": ""
             }
            },
            "type": "scatterpolar"
           }
          ],
          "scatterpolargl": [
           {
            "marker": {
             "colorbar": {
              "outlinewidth": 0,
              "ticks": ""
             }
            },
            "type": "scatterpolargl"
           }
          ],
          "scatterternary": [
           {
            "marker": {
             "colorbar": {
              "outlinewidth": 0,
              "ticks": ""
             }
            },
            "type": "scatterternary"
           }
          ],
          "surface": [
           {
            "colorbar": {
             "outlinewidth": 0,
             "ticks": ""
            },
            "colorscale": [
             [
              0,
              "#0d0887"
             ],
             [
              0.1111111111111111,
              "#46039f"
             ],
             [
              0.2222222222222222,
              "#7201a8"
             ],
             [
              0.3333333333333333,
              "#9c179e"
             ],
             [
              0.4444444444444444,
              "#bd3786"
             ],
             [
              0.5555555555555556,
              "#d8576b"
             ],
             [
              0.6666666666666666,
              "#ed7953"
             ],
             [
              0.7777777777777778,
              "#fb9f3a"
             ],
             [
              0.8888888888888888,
              "#fdca26"
             ],
             [
              1,
              "#f0f921"
             ]
            ],
            "type": "surface"
           }
          ],
          "table": [
           {
            "cells": {
             "fill": {
              "color": "#EBF0F8"
             },
             "line": {
              "color": "white"
             }
            },
            "header": {
             "fill": {
              "color": "#C8D4E3"
             },
             "line": {
              "color": "white"
             }
            },
            "type": "table"
           }
          ]
         },
         "layout": {
          "annotationdefaults": {
           "arrowcolor": "#2a3f5f",
           "arrowhead": 0,
           "arrowwidth": 1
          },
          "autotypenumbers": "strict",
          "coloraxis": {
           "colorbar": {
            "outlinewidth": 0,
            "ticks": ""
           }
          },
          "colorscale": {
           "diverging": [
            [
             0,
             "#8e0152"
            ],
            [
             0.1,
             "#c51b7d"
            ],
            [
             0.2,
             "#de77ae"
            ],
            [
             0.3,
             "#f1b6da"
            ],
            [
             0.4,
             "#fde0ef"
            ],
            [
             0.5,
             "#f7f7f7"
            ],
            [
             0.6,
             "#e6f5d0"
            ],
            [
             0.7,
             "#b8e186"
            ],
            [
             0.8,
             "#7fbc41"
            ],
            [
             0.9,
             "#4d9221"
            ],
            [
             1,
             "#276419"
            ]
           ],
           "sequential": [
            [
             0,
             "#0d0887"
            ],
            [
             0.1111111111111111,
             "#46039f"
            ],
            [
             0.2222222222222222,
             "#7201a8"
            ],
            [
             0.3333333333333333,
             "#9c179e"
            ],
            [
             0.4444444444444444,
             "#bd3786"
            ],
            [
             0.5555555555555556,
             "#d8576b"
            ],
            [
             0.6666666666666666,
             "#ed7953"
            ],
            [
             0.7777777777777778,
             "#fb9f3a"
            ],
            [
             0.8888888888888888,
             "#fdca26"
            ],
            [
             1,
             "#f0f921"
            ]
           ],
           "sequentialminus": [
            [
             0,
             "#0d0887"
            ],
            [
             0.1111111111111111,
             "#46039f"
            ],
            [
             0.2222222222222222,
             "#7201a8"
            ],
            [
             0.3333333333333333,
             "#9c179e"
            ],
            [
             0.4444444444444444,
             "#bd3786"
            ],
            [
             0.5555555555555556,
             "#d8576b"
            ],
            [
             0.6666666666666666,
             "#ed7953"
            ],
            [
             0.7777777777777778,
             "#fb9f3a"
            ],
            [
             0.8888888888888888,
             "#fdca26"
            ],
            [
             1,
             "#f0f921"
            ]
           ]
          },
          "colorway": [
           "#636efa",
           "#EF553B",
           "#00cc96",
           "#ab63fa",
           "#FFA15A",
           "#19d3f3",
           "#FF6692",
           "#B6E880",
           "#FF97FF",
           "#FECB52"
          ],
          "font": {
           "color": "#2a3f5f"
          },
          "geo": {
           "bgcolor": "white",
           "lakecolor": "white",
           "landcolor": "#E5ECF6",
           "showlakes": true,
           "showland": true,
           "subunitcolor": "white"
          },
          "hoverlabel": {
           "align": "left"
          },
          "hovermode": "closest",
          "mapbox": {
           "style": "light"
          },
          "paper_bgcolor": "white",
          "plot_bgcolor": "#E5ECF6",
          "polar": {
           "angularaxis": {
            "gridcolor": "white",
            "linecolor": "white",
            "ticks": ""
           },
           "bgcolor": "#E5ECF6",
           "radialaxis": {
            "gridcolor": "white",
            "linecolor": "white",
            "ticks": ""
           }
          },
          "scene": {
           "xaxis": {
            "backgroundcolor": "#E5ECF6",
            "gridcolor": "white",
            "gridwidth": 2,
            "linecolor": "white",
            "showbackground": true,
            "ticks": "",
            "zerolinecolor": "white"
           },
           "yaxis": {
            "backgroundcolor": "#E5ECF6",
            "gridcolor": "white",
            "gridwidth": 2,
            "linecolor": "white",
            "showbackground": true,
            "ticks": "",
            "zerolinecolor": "white"
           },
           "zaxis": {
            "backgroundcolor": "#E5ECF6",
            "gridcolor": "white",
            "gridwidth": 2,
            "linecolor": "white",
            "showbackground": true,
            "ticks": "",
            "zerolinecolor": "white"
           }
          },
          "shapedefaults": {
           "line": {
            "color": "#2a3f5f"
           }
          },
          "ternary": {
           "aaxis": {
            "gridcolor": "white",
            "linecolor": "white",
            "ticks": ""
           },
           "baxis": {
            "gridcolor": "white",
            "linecolor": "white",
            "ticks": ""
           },
           "bgcolor": "#E5ECF6",
           "caxis": {
            "gridcolor": "white",
            "linecolor": "white",
            "ticks": ""
           }
          },
          "title": {
           "x": 0.05
          },
          "xaxis": {
           "automargin": true,
           "gridcolor": "white",
           "linecolor": "white",
           "ticks": "",
           "title": {
            "standoff": 15
           },
           "zerolinecolor": "white",
           "zerolinewidth": 2
          },
          "yaxis": {
           "automargin": true,
           "gridcolor": "white",
           "linecolor": "white",
           "ticks": "",
           "title": {
            "standoff": 15
           },
           "zerolinecolor": "white",
           "zerolinewidth": 2
          }
         }
        },
        "title": {
         "text": "Pareto-front MOTPE"
        },
        "xaxis": {
         "title": {
          "text": "Accuracy"
         }
        },
        "yaxis": {
         "title": {
          "text": "Entropie"
         }
        }
       }
      }
     },
     "metadata": {},
     "output_type": "display_data"
    }
   ],
   "source": [
    "fig = optuna.visualization.plot_pareto_front(exp, target_names=[\"Accuracy\", \"Entropie\"], include_dominated_trials=False)\n",
    "#fig = optuna.visualization.plot_pareto_front(motpe_experiment, target_names=[\"objective 1\", \"objective 2\"])\n",
    "fig.layout.title = 'Pareto-front MOTPE'\n",
    "fig"
   ]
  },
  {
   "cell_type": "code",
   "execution_count": 7,
   "metadata": {},
   "outputs": [],
   "source": [
    "all_objectives = np.array([trial.values for trial in exp.best_trials ])\n",
    "#all_objectives = np.unique(all_objectives, axis=0)\n",
    "sorted_objectives = all_objectives[np.argsort(all_objectives[:, 0])]\n",
    "spread = np.mean(np.sqrt(np.sum(np.diff(sorted_objectives, axis=0)**2, axis=1)))\n",
    "# Uniformité\n",
    "uniformity = np.mean(np.std(np.diff(sorted_objectives, axis=0), axis=0))\n",
    "\n",
    "# Taille du Front\n",
    "front_size = len(all_objectives)\n",
    "#all_objectives"
   ]
  },
  {
   "cell_type": "code",
   "execution_count": 8,
   "metadata": {},
   "outputs": [],
   "source": [
    "data = []\n",
    "for trial in exp.best_trials:\n",
    "    # Ici, on suppose que `values` contient [accuracy, entropy] dans cet ordre\n",
    "    accuracy, entropy = (round(val, 3) for val in trial.values) if trial.values else (None, None)\n",
    "    data.append({\n",
    "        'number': trial.number,\n",
    "        'accuracy': accuracy,\n",
    "        'entropy': 1-entropy,\n",
    "        'params': trial.params\n",
    "    })\n",
    "\n",
    "# Convertir la liste de dictionnaires en un DataFrame\n",
    "df = pd.DataFrame(data)\n",
    "df.to_csv(\"opti_duo_500_wine.csv\")"
   ]
  },
  {
   "cell_type": "code",
   "execution_count": 9,
   "metadata": {},
   "outputs": [],
   "source": [
    "#print(f\"Spread: {spread}\", f\"Uniformity: {uniformity}\", f\"Front size: {front_size}\", sep=\"\\n\")"
   ]
  },
  {
   "cell_type": "code",
   "execution_count": 24,
   "metadata": {},
   "outputs": [
    {
     "name": "stdout",
     "output_type": "stream",
     "text": [
      "Accuracy: 0.9259 - Entropy: 0.4934\n"
     ]
    }
   ],
   "source": [
    "params = autohypothesis_utils.get_trial_hyperparams(exp, trial_number=485) #61 #126\n",
    "pipeline = autohypothesis_utils.rebuild_pipeline_with_hyperparams(params)\n",
    "pipeline.fit(X_train, y_train)\n",
    "acc = accuracy_score(y_dev, pipeline.predict(X_dev))\n",
    "entropy = autohypothesis_utils.clusterEntropy(pipeline, X_dev, pipeline.predict(X_dev))\n",
    "print(f\"Accuracy: {acc:.4f} - Entropy: {1-entropy:.4f}\")\n"
   ]
  },
  {
   "cell_type": "code",
   "execution_count": 25,
   "metadata": {},
   "outputs": [],
   "source": [
    "from sklearn.metrics import confusion_matrix\n",
    "\n",
    "\n",
    "confusion_matrix = confusion_matrix(y_dev, pipeline.predict(X_dev))"
   ]
  },
  {
   "cell_type": "code",
   "execution_count": 26,
   "metadata": {},
   "outputs": [
    {
     "data": {
      "image/png": "[encoded data removed]",
      "text/plain": [
       "<Figure size 800x670 with 2 Axes>"
      ]
     },
     "metadata": {},
     "output_type": "display_data"
    }
   ],
   "source": [
    "import shap\n",
    "\n",
    "# Initialize your explainer\n",
    "explainer = shap.Explainer(pipeline.named_steps['classifier'])\n",
    "\n",
    "# Compute SHAP values\n",
    "shap_values = explainer.shap_values(X_dev)\n",
    "\n",
    "# Summarize the SHAP values in a plot\n",
    "shap.summary_plot(shap_values[0], X_dev)\n"
   ]
  },
  {
   "cell_type": "code",
   "execution_count": 29,
   "metadata": {},
   "outputs": [
    {
     "data": {
      "text/html": [
       "<div>\n",
       "<style scoped>\n",
       "    .dataframe tbody tr th:only-of-type {\n",
       "        vertical-align: middle;\n",
       "    }\n",
       "\n",
       "    .dataframe tbody tr th {\n",
       "        vertical-align: top;\n",
       "    }\n",
       "\n",
       "    .dataframe thead th {\n",
       "        text-align: right;\n",
       "    }\n",
       "</style>\n",
       "<table border=\"1\" class=\"dataframe\">\n",
       "  <thead>\n",
       "    <tr style=\"text-align: right;\">\n",
       "      <th></th>\n",
       "      <th>Class</th>\n",
       "      <th>Feature</th>\n",
       "      <th>Rule For</th>\n",
       "      <th>Rule Against</th>\n",
       "      <th>Couverture Pour</th>\n",
       "      <th>Couverture Contre</th>\n",
       "      <th>Intervalle Pour</th>\n",
       "      <th>Intervalle Contre</th>\n",
       "      <th>Importance</th>\n",
       "      <th>Signe Importance</th>\n",
       "    </tr>\n",
       "  </thead>\n",
       "  <tbody>\n",
       "    <tr>\n",
       "      <th>6</th>\n",
       "      <td>0</td>\n",
       "      <td>flavanoids</td>\n",
       "      <td>2.37 and &lt; 3.93</td>\n",
       "      <td>nan and &lt; nan</td>\n",
       "      <td>100.000000</td>\n",
       "      <td>0.000000</td>\n",
       "      <td>41.21%-75.05%</td>\n",
       "      <td>nan%-nan%</td>\n",
       "      <td>57.62</td>\n",
       "      <td>Positive</td>\n",
       "    </tr>\n",
       "    <tr>\n",
       "      <th>5</th>\n",
       "      <td>0</td>\n",
       "      <td>total_phenols</td>\n",
       "      <td>2.48 and &lt; 3.4</td>\n",
       "      <td>2.4 and &lt; 2.45</td>\n",
       "      <td>83.333333</td>\n",
       "      <td>16.666667</td>\n",
       "      <td>56.12%-94.94%</td>\n",
       "      <td>52.74%-54.85%</td>\n",
       "      <td>21.72</td>\n",
       "      <td>Positive</td>\n",
       "    </tr>\n",
       "    <tr>\n",
       "      <th>0</th>\n",
       "      <td>0</td>\n",
       "      <td>alcohol</td>\n",
       "      <td>12.85 and &lt; 14.38</td>\n",
       "      <td>nan and &lt; nan</td>\n",
       "      <td>100.000000</td>\n",
       "      <td>0.000000</td>\n",
       "      <td>45.74%-100.00%</td>\n",
       "      <td>nan%-nan%</td>\n",
       "      <td>10.96</td>\n",
       "      <td>Positive</td>\n",
       "    </tr>\n",
       "    <tr>\n",
       "      <th>8</th>\n",
       "      <td>0</td>\n",
       "      <td>proanthocyanins</td>\n",
       "      <td>1.46 and &lt; 2.96</td>\n",
       "      <td>1.25 and &lt; 1.37</td>\n",
       "      <td>88.888889</td>\n",
       "      <td>11.111111</td>\n",
       "      <td>41.18%-100.00%</td>\n",
       "      <td>32.94%-37.65%</td>\n",
       "      <td>5.93</td>\n",
       "      <td>Positive</td>\n",
       "    </tr>\n",
       "    <tr>\n",
       "      <th>9</th>\n",
       "      <td>0</td>\n",
       "      <td>color_intensity</td>\n",
       "      <td>4.9 and &lt; 8.7</td>\n",
       "      <td>3.7 and &lt; 4.5</td>\n",
       "      <td>72.222222</td>\n",
       "      <td>27.777778</td>\n",
       "      <td>32.48%-76.87%</td>\n",
       "      <td>18.46%-27.80%</td>\n",
       "      <td>3.77</td>\n",
       "      <td>Positive</td>\n",
       "    </tr>\n",
       "  </tbody>\n",
       "</table>\n",
       "</div>"
      ],
      "text/plain": [
       "   Class          Feature           Rule For     Rule Against  \\\n",
       "6      0       flavanoids    2.37 and < 3.93    nan and < nan   \n",
       "5      0    total_phenols     2.48 and < 3.4   2.4 and < 2.45   \n",
       "0      0          alcohol  12.85 and < 14.38    nan and < nan   \n",
       "8      0  proanthocyanins    1.46 and < 2.96  1.25 and < 1.37   \n",
       "9      0  color_intensity      4.9 and < 8.7    3.7 and < 4.5   \n",
       "\n",
       "   Couverture Pour  Couverture Contre Intervalle Pour Intervalle Contre  \\\n",
       "6       100.000000           0.000000   41.21%-75.05%         nan%-nan%   \n",
       "5        83.333333          16.666667   56.12%-94.94%     52.74%-54.85%   \n",
       "0       100.000000           0.000000  45.74%-100.00%         nan%-nan%   \n",
       "8        88.888889          11.111111  41.18%-100.00%     32.94%-37.65%   \n",
       "9        72.222222          27.777778   32.48%-76.87%     18.46%-27.80%   \n",
       "\n",
       "   Importance Signe Importance  \n",
       "6       57.62         Positive  \n",
       "5       21.72         Positive  \n",
       "0       10.96         Positive  \n",
       "8        5.93         Positive  \n",
       "9        3.77         Positive  "
      ]
     },
     "execution_count": 29,
     "metadata": {},
     "output_type": "execute_result"
    }
   ],
   "source": [
    "import numpy as np\n",
    "import pandas as pd\n",
    "\n",
    "# Calculer les statistiques descriptives de X_dev\n",
    "stats_describe = X_dev.describe()\n",
    "\n",
    "# Fonction pour calculer les pourcentages réels couverts\n",
    "def calculate_real_percentage_or_value(min_val, max_val, feature, stats):\n",
    "    if min_val == max_val:  # Si min et max sont égaux, retourner la valeur directement\n",
    "        return str(min_val)\n",
    "    else:\n",
    "        total_range = stats.at['max', feature] - stats.at['min', feature]\n",
    "        if total_range > 0:\n",
    "            min_percentage = ((min_val - stats.at['min', feature]) / total_range) * 100\n",
    "            max_percentage = ((max_val - stats.at['min', feature]) / total_range) * 100\n",
    "            return f\"{min_percentage:.2f}%-{max_percentage:.2f}%\"\n",
    "        else:\n",
    "            return \"N/A\"\n",
    "# Initialiser une liste globale pour collecter les données de toutes les classes\n",
    "all_data = []\n",
    "\n",
    "# Boucle sur toutes les classes disponibles dans `shap_values`\n",
    "for classe in range(len(shap_values)):\n",
    "    indices_of_class = [i for i, label in enumerate(y_dev) if label == classe]\n",
    "    global_mean_abs_shap = np.mean(np.abs(shap_values[classe][indices_of_class, :]), axis=0).sum()\n",
    "    data = []\n",
    "    \n",
    "    for i, feature_name in enumerate(X_dev.columns):\n",
    "        positive_indices = [idx for idx in indices_of_class if shap_values[classe][idx, i] > 0]\n",
    "        negative_indices = [idx for idx in indices_of_class if shap_values[classe][idx, i] < 0]\n",
    "        original_values_positive = X_dev.iloc[positive_indices, i]\n",
    "        original_values_negative = X_dev.iloc[negative_indices, i]\n",
    "        positive_impact_percentage = len(positive_indices) / len(shap_values[classe][indices_of_class, i]) * 100\n",
    "        mean_shap_values = np.mean(shap_values[classe][indices_of_class, i], axis=0)\n",
    "        # Gérer \"Rule For\" et \"Rule Against\" pour afficher une valeur unique si min == max\n",
    "        rule_for = f\"{original_values_positive.min()}\" if original_values_positive.min() == original_values_positive.max() else f\"{original_values_positive.min()} and < {original_values_positive.max()}\"\n",
    "        rule_against = f\"{original_values_negative.min()}\" if original_values_negative.min() == original_values_negative.max() else f\"{original_values_negative.min()} and < {original_values_negative.max()}\"\n",
    "        importance_sign = \"Positive\" if mean_shap_values > 0 else \"Negative\"\n",
    "        data.append({\n",
    "            'Class': classe,\n",
    "            'Feature': feature_name,\n",
    "            'Rule For': rule_for,\n",
    "            'Rule Against': rule_against,\n",
    "            'Couverture Pour': positive_impact_percentage,\n",
    "            'Couverture Contre': 100-positive_impact_percentage,\n",
    "            'Intervalle Pour': calculate_real_percentage_or_value(original_values_positive.min(), original_values_positive.max(), feature_name, stats_describe),\n",
    "            'Intervalle Contre': calculate_real_percentage_or_value(original_values_negative.min(), original_values_negative.max(), feature_name, stats_describe),\n",
    "            'Importance': round((np.abs(shap_values[classe][:, i]).mean() / np.sum(np.abs(shap_values[classe]).mean(axis=0))) * 100, 2),\n",
    "            'Signe Importance': importance_sign\n",
    "        })\n",
    "    \n",
    "    all_data.extend(data)\n",
    "\n",
    "# Créer le DataFrame final à partir de la liste globale\n",
    "results_df = pd.DataFrame(all_data).sort_values('Importance', ascending=False).query('`Couverture Pour` > 0')\n",
    "results_df.query('Class == 0 and `Rule For` != \"N/A\"')# and Importance > 1\n",
    "\n"
   ]
  },
  {
   "cell_type": "code",
   "execution_count": 30,
   "metadata": {},
   "outputs": [
    {
     "data": {
      "text/html": [
       "<div>\n",
       "<style scoped>\n",
       "    .dataframe tbody tr th:only-of-type {\n",
       "        vertical-align: middle;\n",
       "    }\n",
       "\n",
       "    .dataframe tbody tr th {\n",
       "        vertical-align: top;\n",
       "    }\n",
       "\n",
       "    .dataframe thead th {\n",
       "        text-align: right;\n",
       "    }\n",
       "</style>\n",
       "<table border=\"1\" class=\"dataframe\">\n",
       "  <thead>\n",
       "    <tr style=\"text-align: right;\">\n",
       "      <th></th>\n",
       "      <th>Class</th>\n",
       "      <th>Feature</th>\n",
       "      <th>Rule For</th>\n",
       "      <th>Rule Against</th>\n",
       "      <th>Couverture Pour</th>\n",
       "      <th>Couverture Contre</th>\n",
       "      <th>Intervalle Pour</th>\n",
       "      <th>Intervalle Contre</th>\n",
       "      <th>Importance</th>\n",
       "      <th>Signe Importance</th>\n",
       "    </tr>\n",
       "  </thead>\n",
       "  <tbody>\n",
       "    <tr>\n",
       "      <th>22</th>\n",
       "      <td>1</td>\n",
       "      <td>color_intensity</td>\n",
       "      <td>2.12 and &lt; 4.6</td>\n",
       "      <td>5.3 and &lt; 6.0</td>\n",
       "      <td>90.476190</td>\n",
       "      <td>9.523810</td>\n",
       "      <td>0.00%-28.97%</td>\n",
       "      <td>37.15%-45.33%</td>\n",
       "      <td>28.70</td>\n",
       "      <td>Positive</td>\n",
       "    </tr>\n",
       "    <tr>\n",
       "      <th>19</th>\n",
       "      <td>1</td>\n",
       "      <td>flavanoids</td>\n",
       "      <td>1.09 and &lt; 2.26</td>\n",
       "      <td>2.45 and &lt; 5.08</td>\n",
       "      <td>80.952381</td>\n",
       "      <td>19.047619</td>\n",
       "      <td>13.45%-38.83%</td>\n",
       "      <td>42.95%-100.00%</td>\n",
       "      <td>28.55</td>\n",
       "      <td>Positive</td>\n",
       "    </tr>\n",
       "    <tr>\n",
       "      <th>13</th>\n",
       "      <td>1</td>\n",
       "      <td>alcohol</td>\n",
       "      <td>11.56 and &lt; 12.77</td>\n",
       "      <td>13.03 and &lt; 13.67</td>\n",
       "      <td>80.952381</td>\n",
       "      <td>19.047619</td>\n",
       "      <td>0.00%-42.91%</td>\n",
       "      <td>52.13%-74.82%</td>\n",
       "      <td>27.65</td>\n",
       "      <td>Positive</td>\n",
       "    </tr>\n",
       "    <tr>\n",
       "      <th>18</th>\n",
       "      <td>1</td>\n",
       "      <td>total_phenols</td>\n",
       "      <td>1.38 and &lt; 2.45</td>\n",
       "      <td>2.53 and &lt; 3.52</td>\n",
       "      <td>71.428571</td>\n",
       "      <td>28.571429</td>\n",
       "      <td>9.70%-54.85%</td>\n",
       "      <td>58.23%-100.00%</td>\n",
       "      <td>7.60</td>\n",
       "      <td>Positive</td>\n",
       "    </tr>\n",
       "    <tr>\n",
       "      <th>21</th>\n",
       "      <td>1</td>\n",
       "      <td>proanthocyanins</td>\n",
       "      <td>1.46 and &lt; 2.35</td>\n",
       "      <td>0.41 and &lt; 1.42</td>\n",
       "      <td>42.857143</td>\n",
       "      <td>57.142857</td>\n",
       "      <td>41.18%-76.08%</td>\n",
       "      <td>0.00%-39.61%</td>\n",
       "      <td>7.50</td>\n",
       "      <td>Negative</td>\n",
       "    </tr>\n",
       "  </tbody>\n",
       "</table>\n",
       "</div>"
      ],
      "text/plain": [
       "    Class          Feature           Rule For       Rule Against  \\\n",
       "22      1  color_intensity     2.12 and < 4.6      5.3 and < 6.0   \n",
       "19      1       flavanoids    1.09 and < 2.26    2.45 and < 5.08   \n",
       "13      1          alcohol  11.56 and < 12.77  13.03 and < 13.67   \n",
       "18      1    total_phenols    1.38 and < 2.45    2.53 and < 3.52   \n",
       "21      1  proanthocyanins    1.46 and < 2.35    0.41 and < 1.42   \n",
       "\n",
       "    Couverture Pour  Couverture Contre Intervalle Pour Intervalle Contre  \\\n",
       "22        90.476190           9.523810    0.00%-28.97%     37.15%-45.33%   \n",
       "19        80.952381          19.047619   13.45%-38.83%    42.95%-100.00%   \n",
       "13        80.952381          19.047619    0.00%-42.91%     52.13%-74.82%   \n",
       "18        71.428571          28.571429    9.70%-54.85%    58.23%-100.00%   \n",
       "21        42.857143          57.142857   41.18%-76.08%      0.00%-39.61%   \n",
       "\n",
       "    Importance Signe Importance  \n",
       "22       28.70         Positive  \n",
       "19       28.55         Positive  \n",
       "13       27.65         Positive  \n",
       "18        7.60         Positive  \n",
       "21        7.50         Negative  "
      ]
     },
     "execution_count": 30,
     "metadata": {},
     "output_type": "execute_result"
    }
   ],
   "source": [
    "results_df.query('Class == 1 and `Rule For` != \"N/A\"')"
   ]
  },
  {
   "cell_type": "code",
   "execution_count": 31,
   "metadata": {},
   "outputs": [
    {
     "data": {
      "text/html": [
       "<div>\n",
       "<style scoped>\n",
       "    .dataframe tbody tr th:only-of-type {\n",
       "        vertical-align: middle;\n",
       "    }\n",
       "\n",
       "    .dataframe tbody tr th {\n",
       "        vertical-align: top;\n",
       "    }\n",
       "\n",
       "    .dataframe thead th {\n",
       "        text-align: right;\n",
       "    }\n",
       "</style>\n",
       "<table border=\"1\" class=\"dataframe\">\n",
       "  <thead>\n",
       "    <tr style=\"text-align: right;\">\n",
       "      <th></th>\n",
       "      <th>Class</th>\n",
       "      <th>Feature</th>\n",
       "      <th>Rule For</th>\n",
       "      <th>Rule Against</th>\n",
       "      <th>Couverture Pour</th>\n",
       "      <th>Couverture Contre</th>\n",
       "      <th>Intervalle Pour</th>\n",
       "      <th>Intervalle Contre</th>\n",
       "      <th>Importance</th>\n",
       "      <th>Signe Importance</th>\n",
       "    </tr>\n",
       "  </thead>\n",
       "  <tbody>\n",
       "    <tr>\n",
       "      <th>32</th>\n",
       "      <td>2</td>\n",
       "      <td>flavanoids</td>\n",
       "      <td>0.47 and &lt; 1.25</td>\n",
       "      <td>nan and &lt; nan</td>\n",
       "      <td>100.000000</td>\n",
       "      <td>0.000000</td>\n",
       "      <td>0.00%-16.92%</td>\n",
       "      <td>nan%-nan%</td>\n",
       "      <td>50.89</td>\n",
       "      <td>Positive</td>\n",
       "    </tr>\n",
       "    <tr>\n",
       "      <th>31</th>\n",
       "      <td>2</td>\n",
       "      <td>total_phenols</td>\n",
       "      <td>1.15 and &lt; 2.05</td>\n",
       "      <td>nan and &lt; nan</td>\n",
       "      <td>100.000000</td>\n",
       "      <td>0.000000</td>\n",
       "      <td>0.00%-37.97%</td>\n",
       "      <td>nan%-nan%</td>\n",
       "      <td>21.08</td>\n",
       "      <td>Positive</td>\n",
       "    </tr>\n",
       "    <tr>\n",
       "      <th>35</th>\n",
       "      <td>2</td>\n",
       "      <td>color_intensity</td>\n",
       "      <td>5.45 and &lt; 10.68</td>\n",
       "      <td>4.1 and &lt; 4.4</td>\n",
       "      <td>86.666667</td>\n",
       "      <td>13.333333</td>\n",
       "      <td>38.90%-100.00%</td>\n",
       "      <td>23.13%-26.64%</td>\n",
       "      <td>12.82</td>\n",
       "      <td>Positive</td>\n",
       "    </tr>\n",
       "    <tr>\n",
       "      <th>34</th>\n",
       "      <td>2</td>\n",
       "      <td>proanthocyanins</td>\n",
       "      <td>0.83 and &lt; 1.35</td>\n",
       "      <td>1.46 and &lt; 1.56</td>\n",
       "      <td>73.333333</td>\n",
       "      <td>26.666667</td>\n",
       "      <td>16.47%-36.86%</td>\n",
       "      <td>41.18%-45.10%</td>\n",
       "      <td>11.52</td>\n",
       "      <td>Positive</td>\n",
       "    </tr>\n",
       "    <tr>\n",
       "      <th>26</th>\n",
       "      <td>2</td>\n",
       "      <td>alcohol</td>\n",
       "      <td>12.81 and &lt; 14.13</td>\n",
       "      <td>12.25 and &lt; 12.51</td>\n",
       "      <td>86.666667</td>\n",
       "      <td>13.333333</td>\n",
       "      <td>44.33%-91.13%</td>\n",
       "      <td>24.47%-33.69%</td>\n",
       "      <td>3.69</td>\n",
       "      <td>Positive</td>\n",
       "    </tr>\n",
       "  </tbody>\n",
       "</table>\n",
       "</div>"
      ],
      "text/plain": [
       "    Class          Feature           Rule For       Rule Against  \\\n",
       "32      2       flavanoids    0.47 and < 1.25      nan and < nan   \n",
       "31      2    total_phenols    1.15 and < 2.05      nan and < nan   \n",
       "35      2  color_intensity   5.45 and < 10.68      4.1 and < 4.4   \n",
       "34      2  proanthocyanins    0.83 and < 1.35    1.46 and < 1.56   \n",
       "26      2          alcohol  12.81 and < 14.13  12.25 and < 12.51   \n",
       "\n",
       "    Couverture Pour  Couverture Contre Intervalle Pour Intervalle Contre  \\\n",
       "32       100.000000           0.000000    0.00%-16.92%         nan%-nan%   \n",
       "31       100.000000           0.000000    0.00%-37.97%         nan%-nan%   \n",
       "35        86.666667          13.333333  38.90%-100.00%     23.13%-26.64%   \n",
       "34        73.333333          26.666667   16.47%-36.86%     41.18%-45.10%   \n",
       "26        86.666667          13.333333   44.33%-91.13%     24.47%-33.69%   \n",
       "\n",
       "    Importance Signe Importance  \n",
       "32       50.89         Positive  \n",
       "31       21.08         Positive  \n",
       "35       12.82         Positive  \n",
       "34       11.52         Positive  \n",
       "26        3.69         Positive  "
      ]
     },
     "execution_count": 31,
     "metadata": {},
     "output_type": "execute_result"
    }
   ],
   "source": [
    "results_df.query('Class == 2 and `Rule For` != \"N/A\"')"
   ]
  },
  {
   "cell_type": "code",
   "execution_count": 32,
   "metadata": {},
   "outputs": [
    {
     "data": {
      "text/html": [
       "<div>\n",
       "<style scoped>\n",
       "    .dataframe tbody tr th:only-of-type {\n",
       "        vertical-align: middle;\n",
       "    }\n",
       "\n",
       "    .dataframe tbody tr th {\n",
       "        vertical-align: top;\n",
       "    }\n",
       "\n",
       "    .dataframe thead th {\n",
       "        text-align: right;\n",
       "    }\n",
       "</style>\n",
       "<table border=\"1\" class=\"dataframe\">\n",
       "  <thead>\n",
       "    <tr style=\"text-align: right;\">\n",
       "      <th></th>\n",
       "      <th>alcohol</th>\n",
       "      <th>malic_acid</th>\n",
       "      <th>ash</th>\n",
       "      <th>alcalinity_of_ash</th>\n",
       "      <th>magnesium</th>\n",
       "      <th>total_phenols</th>\n",
       "      <th>flavanoids</th>\n",
       "      <th>nonflavanoid_phenols</th>\n",
       "      <th>proanthocyanins</th>\n",
       "      <th>color_intensity</th>\n",
       "      <th>hue</th>\n",
       "      <th>od280_od315_of_diluted_wines</th>\n",
       "      <th>proline</th>\n",
       "      <th>True Class</th>\n",
       "      <th>Predicted Class</th>\n",
       "    </tr>\n",
       "  </thead>\n",
       "  <tbody>\n",
       "    <tr>\n",
       "      <th>0</th>\n",
       "      <td>11.56</td>\n",
       "      <td>2.05</td>\n",
       "      <td>3.23</td>\n",
       "      <td>28.5</td>\n",
       "      <td>119.0</td>\n",
       "      <td>3.18</td>\n",
       "      <td>5.08</td>\n",
       "      <td>0.47</td>\n",
       "      <td>1.87</td>\n",
       "      <td>6.0</td>\n",
       "      <td>0.93</td>\n",
       "      <td>3.69</td>\n",
       "      <td>465.0</td>\n",
       "      <td>1</td>\n",
       "      <td>0</td>\n",
       "    </tr>\n",
       "    <tr>\n",
       "      <th>1</th>\n",
       "      <td>12.37</td>\n",
       "      <td>1.07</td>\n",
       "      <td>2.10</td>\n",
       "      <td>18.5</td>\n",
       "      <td>88.0</td>\n",
       "      <td>3.52</td>\n",
       "      <td>3.75</td>\n",
       "      <td>0.24</td>\n",
       "      <td>1.95</td>\n",
       "      <td>4.5</td>\n",
       "      <td>1.04</td>\n",
       "      <td>2.77</td>\n",
       "      <td>660.0</td>\n",
       "      <td>1</td>\n",
       "      <td>0</td>\n",
       "    </tr>\n",
       "    <tr>\n",
       "      <th>2</th>\n",
       "      <td>13.67</td>\n",
       "      <td>1.25</td>\n",
       "      <td>1.92</td>\n",
       "      <td>18.0</td>\n",
       "      <td>94.0</td>\n",
       "      <td>2.10</td>\n",
       "      <td>1.79</td>\n",
       "      <td>0.32</td>\n",
       "      <td>0.73</td>\n",
       "      <td>3.8</td>\n",
       "      <td>1.23</td>\n",
       "      <td>2.46</td>\n",
       "      <td>630.0</td>\n",
       "      <td>1</td>\n",
       "      <td>2</td>\n",
       "    </tr>\n",
       "    <tr>\n",
       "      <th>3</th>\n",
       "      <td>13.11</td>\n",
       "      <td>1.01</td>\n",
       "      <td>1.70</td>\n",
       "      <td>15.0</td>\n",
       "      <td>78.0</td>\n",
       "      <td>2.98</td>\n",
       "      <td>3.18</td>\n",
       "      <td>0.26</td>\n",
       "      <td>2.28</td>\n",
       "      <td>5.3</td>\n",
       "      <td>1.12</td>\n",
       "      <td>3.18</td>\n",
       "      <td>502.0</td>\n",
       "      <td>1</td>\n",
       "      <td>0</td>\n",
       "    </tr>\n",
       "  </tbody>\n",
       "</table>\n",
       "</div>"
      ],
      "text/plain": [
       "   alcohol  malic_acid   ash  alcalinity_of_ash  magnesium  total_phenols  \\\n",
       "0    11.56        2.05  3.23               28.5      119.0           3.18   \n",
       "1    12.37        1.07  2.10               18.5       88.0           3.52   \n",
       "2    13.67        1.25  1.92               18.0       94.0           2.10   \n",
       "3    13.11        1.01  1.70               15.0       78.0           2.98   \n",
       "\n",
       "   flavanoids  nonflavanoid_phenols  proanthocyanins  color_intensity   hue  \\\n",
       "0        5.08                  0.47             1.87              6.0  0.93   \n",
       "1        3.75                  0.24             1.95              4.5  1.04   \n",
       "2        1.79                  0.32             0.73              3.8  1.23   \n",
       "3        3.18                  0.26             2.28              5.3  1.12   \n",
       "\n",
       "   od280_od315_of_diluted_wines  proline  True Class  Predicted Class  \n",
       "0                          3.69    465.0           1                0  \n",
       "1                          2.77    660.0           1                0  \n",
       "2                          2.46    630.0           1                2  \n",
       "3                          3.18    502.0           1                0  "
      ]
     },
     "execution_count": 32,
     "metadata": {},
     "output_type": "execute_result"
    }
   ],
   "source": [
    "import numpy as np\n",
    "import pandas as pd\n",
    "\n",
    "# Supposons que X_dev est un DataFrame et y_dev est un array ou une Series contenant les vraies classes\n",
    "\n",
    "# Prédictions du modèle sur le jeu de données de développement\n",
    "predictions = pipeline.predict(X_dev)\n",
    "\n",
    "# Identifier les indices des instances mal classées\n",
    "misclassified_indices = np.where(y_dev != predictions)[0]\n",
    "\n",
    "# Extraire les instances mal classées de X_dev en utilisant les indices\n",
    "misclassified_samples = X_dev.iloc[misclassified_indices]\n",
    "\n",
    "# Créer un DataFrame contenant les vraies classes et les classes prédites pour les instances mal classées\n",
    "misclassified_df = pd.DataFrame({\n",
    "    'True Class': y_dev[misclassified_indices],\n",
    "    'Predicted Class': predictions[misclassified_indices]\n",
    "})\n",
    "\n",
    "# Ajouter les caractéristiques des instances mal classées à partir de X_dev\n",
    "misclassified_df = pd.concat([misclassified_samples.reset_index(drop=True), misclassified_df.reset_index(drop=True)], axis=1)\n",
    "\n",
    "\n",
    "# Afficher le DataFrame des instances mal classées\n",
    "misclassified_df\n"
   ]
  },
  {
   "cell_type": "code",
   "execution_count": 34,
   "metadata": {},
   "outputs": [
    {
     "data": {
      "text/html": [
       "<div>\n",
       "<style scoped>\n",
       "    .dataframe tbody tr th:only-of-type {\n",
       "        vertical-align: middle;\n",
       "    }\n",
       "\n",
       "    .dataframe tbody tr th {\n",
       "        vertical-align: top;\n",
       "    }\n",
       "\n",
       "    .dataframe thead th {\n",
       "        text-align: right;\n",
       "    }\n",
       "</style>\n",
       "<table border=\"1\" class=\"dataframe\">\n",
       "  <thead>\n",
       "    <tr style=\"text-align: right;\">\n",
       "      <th></th>\n",
       "      <th>Class</th>\n",
       "      <th>Feature</th>\n",
       "      <th>Mean_WoE_Value</th>\n",
       "    </tr>\n",
       "  </thead>\n",
       "  <tbody>\n",
       "    <tr>\n",
       "      <th>23</th>\n",
       "      <td>1</td>\n",
       "      <td>hue</td>\n",
       "      <td>0.03</td>\n",
       "    </tr>\n",
       "  </tbody>\n",
       "</table>\n",
       "</div>"
      ],
      "text/plain": [
       "    Class Feature  Mean_WoE_Value\n",
       "23      1     hue            0.03"
      ]
     },
     "execution_count": 34,
     "metadata": {},
     "output_type": "execute_result"
    }
   ],
   "source": [
    "from sklearn.metrics import accuracy_score\n",
    "from sklearn.naive_bayes import GaussianNB\n",
    "class MyNaiveBayes:\n",
    "    def fit(self, X, y):\n",
    "        self.classes = np.unique(y)\n",
    "        self.parameters = {}\n",
    "        for cls in self.classes:\n",
    "            X_cls = X[y == cls]\n",
    "            self.parameters[cls] = {\n",
    "                'mean': X_cls.mean(axis=0),\n",
    "                'var': np.var(X_cls, axis=0, ddof=1),\n",
    "                'prior': np.log(len(X_cls) / len(X))  # Stocker le log des priors\n",
    "            }\n",
    "\n",
    "    def _calculate_log_proba(self, X, cls):\n",
    "        eps = 1e-6  # Pour éviter la division par zéro\n",
    "        mean = self.parameters[cls]['mean']\n",
    "        var = self.parameters[cls]['var']\n",
    "        prior_log = self.parameters[cls]['prior']\n",
    "        \n",
    "        # Calcul du terme qui ne dépend que de var + eps, une fois par classe\n",
    "        sum_log_var = np.sum(np.log(2. * np.pi * var + eps))\n",
    "        # Calcul du logarithme de la probabilité conditionnelle pour chaque caractéristique\n",
    "        log_proba = -0.5 * sum_log_var - 0.5 * np.sum(((X - mean) ** 2) / (var + eps), axis=1)\n",
    "        return log_proba + prior_log\n",
    "\n",
    "    def predict_log_proba(self, X):\n",
    "        log_probas = np.array([self._calculate_log_proba(X, cls) for cls in self.classes]).T\n",
    "        # Normalisation pour obtenir des log-probabilités, améliorant la stabilité numérique\n",
    "        a_max = np.max(log_probas, axis=1, keepdims=True)\n",
    "        log_probas -= a_max\n",
    "        log_sum_exp = a_max + np.log(np.sum(np.exp(log_probas), axis=1, keepdims=True))\n",
    "        return log_probas - log_sum_exp\n",
    "\n",
    "    def predict_proba(self, X):\n",
    "        return np.exp(self.predict_log_proba(X))\n",
    "    \n",
    "    def predict(self, X):\n",
    "        log_probas = self.predict_log_proba(X)\n",
    "        return self.classes[np.argmax(log_probas, axis=1)]\n",
    "    \n",
    "    def predict_feature_proba(self, X):\n",
    "        # Cette méthode n'était pas définie précédemment. Assurez-vous qu'elle soit bien incluse dans la classe.\n",
    "        feature_probas = np.zeros((X.shape[0], X.shape[1], len(self.classes)))\n",
    "        for i, cls in enumerate(self.classes):\n",
    "            eps = 1e-6\n",
    "            mean = self.parameters[cls]['mean']\n",
    "            var = self.parameters[cls]['var']\n",
    "            # Calcul des probabilités conditionnelles pour chaque caractéristique\n",
    "            numerator = np.exp(-((X - mean) ** 2) / (2 * var + eps))\n",
    "            denominator = np.sqrt(2 * np.pi * var + eps)\n",
    "            feature_probas[:, :, i] = numerator / denominator\n",
    "        # Normalisation des probabilités pour chaque caractéristique par classe\n",
    "        sum_over_classes = np.sum(feature_probas, axis=2, keepdims=True)\n",
    "        feature_probas /= sum_over_classes\n",
    "        return feature_probas\n",
    "    def calculate_woe(self, X):\n",
    "            feature_probas = self.predict_feature_proba(X)  # shape: (instances, features, classes)\n",
    "            woe_values = np.zeros_like(feature_probas)\n",
    "\n",
    "            for cls_idx, cls in enumerate(self.classes):\n",
    "                # Calculate P(f | not h) for the current class\n",
    "                p_f_not_h = np.sum(feature_probas[:, :, :], axis=2) - feature_probas[:, :, cls_idx]\n",
    "                p_f_not_h /= (len(self.classes) - 1)  # Average over all classes except the current one\n",
    "\n",
    "                # Avoid division by zero\n",
    "                p_f_not_h = np.clip(p_f_not_h, 1e-9, 1-1e-9)\n",
    "                p_f_h = np.clip(feature_probas[:, :, cls_idx], 1e-9, 1-1e-9)\n",
    "\n",
    "                # Calculate WoE\n",
    "                woe_values[:, :, cls_idx] = np.log(p_f_h / p_f_not_h)\n",
    "\n",
    "            return woe_values\n",
    "\n",
    "# Création et entraînement du modèle\n",
    "nb_model = MyNaiveBayes()\n",
    "nb_model.fit(X_train, y_train)\n",
    "\n",
    "# Calcul des probabilités conditionnelles des caractéristiques pour chaque classe\n",
    "# Attention : Assurez-vous que la méthode `predict_feature_proba` a été ajoutée à la classe `MyNaiveBayes`\n",
    "feature_probas = nb_model.predict_feature_proba(X_dev)\n",
    "feature_woe = nb_model.calculate_woe(X_dev)\n",
    "# feature_probas est maintenant le tableau des probabilités conditionnelles demandé\n",
    "# Il a une forme de (nombre d'instances, nombre de caractéristiques, nombre de classes)\n",
    "y_pred = nb_model.predict(X_dev)\n",
    "accuracy = accuracy_score(y_dev, y_pred)\n",
    "\n",
    "model = GaussianNB()\n",
    "model.fit(X_train, y_train)\n",
    "y_pred = model.predict(X_dev)\n",
    "accuracy2 = accuracy_score(y_dev, y_pred)\n",
    "all_data = []\n",
    "\n",
    "# Boucle sur toutes les classes disponibles dans `feature_woe`\n",
    "# Ici, 'classe' indexe la dernière dimension de 'feature_woe'\n",
    "for classe in range(feature_woe.shape[2]):\n",
    "    data = []\n",
    "\n",
    "    for i, feature_name in enumerate(X_dev.columns):\n",
    "        # Extraction de la colonne de valeurs pour la caractéristique actuelle et la classe spécifique\n",
    "        woe_values_for_feature_and_class = feature_woe[:, i, classe]\n",
    "        \n",
    "        # Calcul de la valeur moyenne de WoE pour la caractéristique et la classe\n",
    "        mean_woe_value = np.mean(woe_values_for_feature_and_class)\n",
    "        \n",
    "        \n",
    "        data.append({\n",
    "            'Class': classe,\n",
    "            'Feature': feature_name, \n",
    "            'Mean_WoE_Value': round(mean_woe_value, 2),\n",
    "        })\n",
    "\n",
    "    all_data.extend(data)\n",
    "\n",
    "# Création du DataFrame à partir de la liste globale\n",
    "results_woe = pd.DataFrame(all_data).sort_values(by=['Class', 'Mean_WoE_Value'], ascending=[True, False])\n",
    "\n",
    "\n",
    "# Affichage des résultats\n",
    "results_woe.query('Class==1 and Mean_WoE_Value>0')"
   ]
  },
  {
   "cell_type": "code",
   "execution_count": 35,
   "metadata": {},
   "outputs": [
    {
     "data": {
      "text/html": [
       "<div>\n",
       "<style scoped>\n",
       "    .dataframe tbody tr th:only-of-type {\n",
       "        vertical-align: middle;\n",
       "    }\n",
       "\n",
       "    .dataframe tbody tr th {\n",
       "        vertical-align: top;\n",
       "    }\n",
       "\n",
       "    .dataframe thead th {\n",
       "        text-align: right;\n",
       "    }\n",
       "</style>\n",
       "<table border=\"1\" class=\"dataframe\">\n",
       "  <thead>\n",
       "    <tr style=\"text-align: right;\">\n",
       "      <th></th>\n",
       "      <th>Class</th>\n",
       "      <th>Feature</th>\n",
       "      <th>Mean_WoE_Value</th>\n",
       "    </tr>\n",
       "  </thead>\n",
       "  <tbody>\n",
       "    <tr>\n",
       "      <th>22</th>\n",
       "      <td>1</td>\n",
       "      <td>color_intensity</td>\n",
       "      <td>-4.10</td>\n",
       "    </tr>\n",
       "    <tr>\n",
       "      <th>25</th>\n",
       "      <td>1</td>\n",
       "      <td>proline</td>\n",
       "      <td>-1.59</td>\n",
       "    </tr>\n",
       "    <tr>\n",
       "      <th>13</th>\n",
       "      <td>1</td>\n",
       "      <td>alcohol</td>\n",
       "      <td>-1.38</td>\n",
       "    </tr>\n",
       "    <tr>\n",
       "      <th>24</th>\n",
       "      <td>1</td>\n",
       "      <td>od280_od315_of_diluted_wines</td>\n",
       "      <td>-0.45</td>\n",
       "    </tr>\n",
       "    <tr>\n",
       "      <th>14</th>\n",
       "      <td>1</td>\n",
       "      <td>malic_acid</td>\n",
       "      <td>-0.20</td>\n",
       "    </tr>\n",
       "    <tr>\n",
       "      <th>17</th>\n",
       "      <td>1</td>\n",
       "      <td>magnesium</td>\n",
       "      <td>-0.13</td>\n",
       "    </tr>\n",
       "    <tr>\n",
       "      <th>20</th>\n",
       "      <td>1</td>\n",
       "      <td>nonflavanoid_phenols</td>\n",
       "      <td>-0.13</td>\n",
       "    </tr>\n",
       "    <tr>\n",
       "      <th>16</th>\n",
       "      <td>1</td>\n",
       "      <td>alcalinity_of_ash</td>\n",
       "      <td>-0.03</td>\n",
       "    </tr>\n",
       "    <tr>\n",
       "      <th>18</th>\n",
       "      <td>1</td>\n",
       "      <td>total_phenols</td>\n",
       "      <td>-0.03</td>\n",
       "    </tr>\n",
       "    <tr>\n",
       "      <th>15</th>\n",
       "      <td>1</td>\n",
       "      <td>ash</td>\n",
       "      <td>-0.01</td>\n",
       "    </tr>\n",
       "    <tr>\n",
       "      <th>21</th>\n",
       "      <td>1</td>\n",
       "      <td>proanthocyanins</td>\n",
       "      <td>-0.01</td>\n",
       "    </tr>\n",
       "  </tbody>\n",
       "</table>\n",
       "</div>"
      ],
      "text/plain": [
       "    Class                       Feature  Mean_WoE_Value\n",
       "22      1               color_intensity           -4.10\n",
       "25      1                       proline           -1.59\n",
       "13      1                       alcohol           -1.38\n",
       "24      1  od280_od315_of_diluted_wines           -0.45\n",
       "14      1                    malic_acid           -0.20\n",
       "17      1                     magnesium           -0.13\n",
       "20      1          nonflavanoid_phenols           -0.13\n",
       "16      1             alcalinity_of_ash           -0.03\n",
       "18      1                 total_phenols           -0.03\n",
       "15      1                           ash           -0.01\n",
       "21      1               proanthocyanins           -0.01"
      ]
     },
     "execution_count": 35,
     "metadata": {},
     "output_type": "execute_result"
    }
   ],
   "source": [
    "results_woe.query('Class==1 and Mean_WoE_Value<0').sort_values(by='Mean_WoE_Value')"
   ]
  },
  {
   "cell_type": "code",
   "execution_count": 36,
   "metadata": {},
   "outputs": [
    {
     "data": {
      "text/plain": [
       "1.0"
      ]
     },
     "execution_count": 36,
     "metadata": {},
     "output_type": "execute_result"
    }
   ],
   "source": [
    "accuracy"
   ]
  },
  {
   "cell_type": "code",
   "execution_count": 37,
   "metadata": {},
   "outputs": [
    {
     "data": {
      "text/plain": [
       "1.0"
      ]
     },
     "execution_count": 37,
     "metadata": {},
     "output_type": "execute_result"
    }
   ],
   "source": [
    "accuracy2"
   ]
  }
 ],
 "metadata": {
  "kernelspec": {
   "display_name": "Python 3 (ipykernel)",
   "language": "python",
   "name": "python3"
  },
  "language_info": {
   "codemirror_mode": {
    "name": "ipython",
    "version": 3
   },
   "file_extension": ".py",
   "mimetype": "text/x-python",
   "name": "python",
   "nbconvert_exporter": "python",
   "pygments_lexer": "ipython3",
   "version": "3.10.9"
  },
  "orig_nbformat": 4
 },
 "nbformat": 4,
 "nbformat_minor": 2
}
